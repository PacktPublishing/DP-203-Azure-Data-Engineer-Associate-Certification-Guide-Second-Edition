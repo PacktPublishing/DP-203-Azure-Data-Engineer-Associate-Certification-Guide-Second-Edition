{
 "cells": [
  {
   "cell_type": "markdown",
   "metadata": {
    "application/vnd.databricks.v1+cell": {
     "cellMetadata": {
      "byteLimit": 2048000,
      "rowLimit": 10000
     },
     "inputWidgets": {},
     "nuid": "8466cfe7-a41e-44db-8236-d20eedf9c1a1",
     "showTitle": false,
     "title": ""
    }
   },
   "source": [
    "This notebook includes code to be run as part of an Azure Data Factory pipeline.\n",
    "\n",
    "First, let's set up a variable for the folder where this notebook will save data."
   ]
  },
  {
   "cell_type": "code",
   "execution_count": null,
   "metadata": {
    "application/vnd.databricks.v1+cell": {
     "cellMetadata": {
      "byteLimit": 2048000,
      "rowLimit": 10000
     },
     "inputWidgets": {},
     "nuid": "e03db7e1-32ee-4d99-af10-38ae0bb4a305",
     "showTitle": false,
     "title": ""
    }
   },
   "outputs": [],
   "source": [
    "# Use dbutils.widget define a \"folder\" variable with a default value \"TripData\"\n",
    "dbutils.widgets.text(\"folder\", \"TripData\")\n",
    "\n",
    "# Now get the parameter value\n",
    "folder = dbutils.widgets.get(\"folder\")  "
   ]
  },
  {
   "cell_type": "markdown",
   "metadata": {
    "application/vnd.databricks.v1+cell": {
     "cellMetadata": {
      "byteLimit": 2048000,
      "rowLimit": 10000
     },
     "inputWidgets": {},
     "nuid": "76da825f-40e0-42f8-89b6-1124475111b0",
     "showTitle": false,
     "title": ""
    }
   },
   "source": [
    "Now dowload data and save it to the folder."
   ]
  },
  {
   "cell_type": "code",
   "execution_count": null,
   "metadata": {
    "application/vnd.databricks.v1+cell": {
     "cellMetadata": {
      "byteLimit": 2048000,
      "rowLimit": 10000
     },
     "inputWidgets": {},
     "nuid": "434eb9d2-0db2-4ceb-b9fb-f75a84ba0467",
     "showTitle": false,
     "title": ""
    }
   },
   "outputs": [
    {
     "name": "stdout",
     "output_type": "stream",
     "text": [
      "Wrote 21025 bytes.\n"
     ]
    },
    {
     "data": {
      "text/plain": [
       "True"
      ]
     },
     "execution_count": 11,
     "metadata": {},
     "output_type": "execute_result"
    }
   ],
   "source": [
    "import urllib3\n",
    "\n",
    "# Download Trip data file from GitHub\n",
    "response = urllib3.PoolManager().request('GET', 'https://raw.githubusercontent.com/PacktPublishing/DP-203-Azure-Data-Engineer-Associate-Certification-Guide-Second-Edition/main/Practical%20Exercises/Activity%205/Data/IAC-TripData.json')\n",
    "data = response.data.decode(\"utf-8\")\n",
    "\n",
    "# Save the Trip data to the specified folder\n",
    "path = \"dbfs:/{0}/TripData.csv\".format(folder)\n",
    "dbutils.fs.put(path, data, True)"
   ]
  },
  {
   "cell_type": "markdown",
   "metadata": {
    "application/vnd.databricks.v1+cell": {
     "cellMetadata": {
      "byteLimit": 2048000,
      "rowLimit": 10000
     },
     "inputWidgets": {},
     "nuid": "9c2e17b4-a0f3-4fb6-9eb2-b2bed52b7d3e",
     "showTitle": false,
     "title": ""
    }
   },
   "source": [
    "Now exit, passing the file path as the output value."
   ]
  },
  {
   "cell_type": "code",
   "execution_count": null,
   "metadata": {
    "application/vnd.databricks.v1+cell": {
     "cellMetadata": {
      "byteLimit": 2048000,
      "rowLimit": 10000
     },
     "inputWidgets": {},
     "nuid": "4e071e86-349e-4d91-b831-ca39c2926b04",
     "showTitle": false,
     "title": ""
    }
   },
   "outputs": [],
   "source": [
    "dbutils.notebook.exit(path)"
   ]
  }
 ],
 "metadata": {
  "application/vnd.databricks.v1+notebook": {
   "dashboards": [],
   "environmentMetadata": null,
   "language": "python",
   "notebookMetadata": {
    "mostRecentlyExecutedCommandWithImplicitDF": {
     "commandId": 284109019858760,
     "dataframes": [
      "_sqldf"
     ]
    },
    "pythonIndentUnit": 4
   },
   "notebookName": "Process-Data",
   "widgets": {
    "folder": {
     "currentValue": "TripData",
     "nuid": "df866a9e-2f27-483a-b0c3-c657c6d5f098",
     "typedWidgetInfo": null,
     "widgetInfo": {
      "defaultValue": "TripData",
      "label": null,
      "name": "folder",
      "options": {
       "autoCreated": null,
       "validationRegex": null,
       "widgetType": "text"
      },
      "widgetType": "text"
     }
    }
   }
  },
  "language_info": {
   "name": "python"
  }
 },
 "nbformat": 4,
 "nbformat_minor": 0
}
