{
 "cells": [
  {
   "cell_type": "markdown",
   "metadata": {
    "application/vnd.databricks.v1+cell": {
     "cellMetadata": {
      "byteLimit": 2048000,
      "rowLimit": 10000
     },
     "inputWidgets": {},
     "nuid": "f8af73f9-67c4-4b47-abaa-81d4e57bfe16",
     "showTitle": false,
     "title": ""
    }
   },
   "source": [
    "# Explore and Analyze data using Databricks\n",
    "\n",
    "In this notebook, you'll use Spark in Azure Databricks to explore trip data files. One of the core ways in which you work with data in Spark is to load data into a **DataFrame** object, and then query, filter, and manipulate the dataframe to explore the data it contains.\n",
    "\n",
    "## Ingest data\n",
    "\n",
    "Use the **&#9656; Run Cell** menu option at the top-left of the following cell to run it and download data files into the Databricks file system (DBFS)."
   ]
  },
  {
   "cell_type": "code",
   "execution_count": null,
   "metadata": {
    "application/vnd.databricks.v1+cell": {
     "cellMetadata": {
      "byteLimit": 2048000,
      "rowLimit": 10000
     },
     "inputWidgets": {},
     "nuid": "6301fe09-1a91-4908-820d-ab0a43134ad7",
     "showTitle": false,
     "title": ""
    }
   },
   "outputs": [],
   "source": [
    "%sh\n",
    "# rm -r /dbfs/data\n",
    "mkdir /dbfs/data\n",
    "wget -O /dbfs/data/TripData-2022.csv https://raw.githubusercontent.com/PacktPublishing/DP-203-Azure-Data-Engineer-Associate-Certification-Guide-Second-Edition/main/Chapter03/Data/TripData-2022.csv    \n",
    "wget -O /dbfs/data/TripData-2023.csv https://raw.githubusercontent.com/PacktPublishing/DP-203-Azure-Data-Engineer-Associate-Certification-Guide-Second-Edition/main/Chapter03/Data/TripData-2023.csv    \n",
    "wget -O /dbfs/data/TripData-2024.csv https://raw.githubusercontent.com/PacktPublishing/DP-203-Azure-Data-Engineer-Associate-Certification-Guide-Second-Edition/main/Chapter03/Data/TripData-2024.csv    "
   ]
  },
  {
   "cell_type": "markdown",
   "metadata": {
    "application/vnd.databricks.v1+cell": {
     "cellMetadata": {},
     "inputWidgets": {},
     "nuid": "1f696eab-cf84-4e06-8b96-25810e1ea11a",
     "showTitle": false,
     "title": ""
    }
   },
   "source": [
    "## Query data in files\n",
    "\n",
    "The previous cell downloaded three different trip comma-separated values (CSV) files to the **data** folder in the DBFS storage for your workspace.\n",
    "\n",
    "Run the following cell to load the data from the file and view the first 100 rows."
   ]
  },
  {
   "cell_type": "code",
   "execution_count": null,
   "metadata": {
    "application/vnd.databricks.v1+cell": {
     "cellMetadata": {
      "byteLimit": 2048000,
      "rowLimit": 10000
     },
     "inputWidgets": {},
     "nuid": "d712d98d-e983-42ec-86d7-80a53db5951a",
     "showTitle": false,
     "title": ""
    }
   },
   "outputs": [
    {
     "data": {
      "text/html": [
       "<style scoped>\n",
       "  .table-result-container {\n",
       "    max-height: 300px;\n",
       "    overflow: auto;\n",
       "  }\n",
       "  table, th, td {\n",
       "    border: 1px solid black;\n",
       "    border-collapse: collapse;\n",
       "  }\n",
       "  th, td {\n",
       "    padding: 5px;\n",
       "  }\n",
       "  th {\n",
       "    text-align: left;\n",
       "  }\n",
       "</style><div class='table-result-container'><table class='table-result'><thead style='background-color: white'><tr><th>tripId</th><th>driverId</th><th>customerId</th><th>tripDate</th><th>startLocation</th><th>endLocation</th><th>driverName</th><th>customerName</th><th>tripAmount</th></tr></thead><tbody><tr><td>100</td><td>200</td><td>300</td><td>01/01/2022</td><td>New York</td><td>New Jersey</td><td>John Smith</td><td>Alice Lee</td><td>63.77</td></tr><tr><td>101</td><td>201</td><td>301</td><td>01/01/2022</td><td>Miami</td><td>Dallas</td><td>Emily Johnson</td><td>Tom Clark</td><td>42.67</td></tr><tr><td>102</td><td>202</td><td>302</td><td>02/01/2022</td><td>Phoenix</td><td>Tempe</td><td>Michael Williams</td><td>Lucy Lewis</td><td>48.51</td></tr><tr><td>103</td><td>203</td><td>303</td><td>04/02/2022</td><td>LA</td><td>San Joes</td><td>Jessica Brown</td><td>Sophia Walker</td><td>65.92</td></tr><tr><td>104</td><td>204</td><td>304</td><td>05/02/2022</td><td>Seattle</td><td>Redmond</td><td>David Jones</td><td>Henry Hall</td><td>49.75</td></tr><tr><td>105</td><td>205</td><td>305</td><td>01/03/2022</td><td>Atlanta</td><td>Chicago</td><td>Chris Davis</td><td>Liam Allen</td><td>51.66</td></tr><tr><td>106</td><td>217</td><td>304</td><td>05/07/2022</td><td>Las Vegas</td><td>Miami</td><td>Daniel Lopez</td><td>Henry Hall</td><td>72.14</td></tr><tr><td>107</td><td>222</td><td>336</td><td>30/06/2022</td><td>Miami</td><td>Phoenix</td><td>Sarah Wilson</td><td>Elijah Mitchell</td><td>78.62</td></tr><tr><td>108</td><td>204</td><td>330</td><td>10/06/2022</td><td>Denver</td><td>New York</td><td>David Jones</td><td>Benjamin Nelson</td><td>39.27</td></tr><tr><td>109</td><td>246</td><td>320</td><td>15/07/2022</td><td>Atlanta</td><td>LA</td><td>Linda White</td><td>Ethan Scott</td><td>99.17</td></tr><tr><td>110</td><td>230</td><td>313</td><td>12/11/2022</td><td>LA</td><td>Miami</td><td>Paul Taylor</td><td>Jacob Wright</td><td>77.12</td></tr><tr><td>111</td><td>235</td><td>321</td><td>31/08/2022</td><td>Phoenix</td><td>Phoenix</td><td>Jennifer Moore</td><td>Aiden Green</td><td>71.08</td></tr><tr><td>112</td><td>240</td><td>350</td><td>27/12/2022</td><td>San Francisco</td><td>Atlanta</td><td>Samantha Thomas</td><td>Daniel Campbell</td><td>56.12</td></tr><tr><td>113</td><td>225</td><td>313</td><td>15/12/2022</td><td>Boston</td><td>Las Vegas</td><td>Mark Anderson</td><td>Jacob Wright</td><td>36.49</td></tr><tr><td>114</td><td>238</td><td>346</td><td>04/07/2022</td><td>Phoenix</td><td>Houston</td><td>Andrew Jackson</td><td>William Roberts</td><td>49.98</td></tr><tr><td>115</td><td>200</td><td>341</td><td>26/06/2022</td><td>Las Vegas</td><td>LA</td><td>John Smith</td><td>Alexander Perez</td><td>56.27</td></tr><tr><td>116</td><td>240</td><td>306</td><td>12/11/2022</td><td>New York</td><td>San Francisco</td><td>Samantha Thomas</td><td>Oliver Young</td><td>59</td></tr><tr><td>117</td><td>209</td><td>328</td><td>30/07/2022</td><td>Las Vegas</td><td>New York</td><td>Robert Miller</td><td>Lucas Adams</td><td>81.86</td></tr><tr><td>118</td><td>212</td><td>334</td><td>15/12/2022</td><td>Atlanta</td><td>Miami</td><td>Mary Martinez</td><td>Noah Carter</td><td>75.53</td></tr><tr><td>119</td><td>200</td><td>347</td><td>10/06/2022</td><td>San Francisco</td><td>New York</td><td>John Smith</td><td>Sebastian Turner</td><td>23.51</td></tr><tr><td>120</td><td>216</td><td>330</td><td>21/01/2022</td><td>Phoenix</td><td>Miami</td><td>James Hernandez</td><td>Benjamin Nelson</td><td>41.69</td></tr><tr><td>121</td><td>206</td><td>302</td><td>03/08/2022</td><td>Denver</td><td>Phoenix</td><td>Patricia Garcia</td><td>Lucy Lewis</td><td>29.79</td></tr><tr><td>122</td><td>201</td><td>311</td><td>20/05/2022</td><td>San Francisco</td><td>Las Vegas</td><td>Emily Johnson</td><td>Mason King</td><td>94.12</td></tr><tr><td>123</td><td>200</td><td>322</td><td>31/08/2022</td><td>Seattle</td><td>Boston</td><td>John Smith</td><td>Logan Baker</td><td>79.82</td></tr><tr><td>124</td><td>205</td><td>337</td><td>01/01/2022</td><td>Las Vegas</td><td>LA</td><td>Chris Davis</td><td>NaN</td><td>76.81</td></tr><tr><td>125</td><td>206</td><td>349</td><td>02/06/2022</td><td>Phoenix</td><td>San Francisco</td><td>Patricia Garcia</td><td>Matthew Phillips</td><td>79.9</td></tr><tr><td>146</td><td>200</td><td>300</td><td>05/01/2024</td><td>New York</td><td>Miami</td><td>John Smith</td><td>Alice Lee</td><td>54.32</td></tr><tr><td>147</td><td>201</td><td>301</td><td>17/01/2024</td><td>Los Angeles</td><td>Seattle</td><td>Emily Johnson</td><td>Tom Clark</td><td>62.75</td></tr><tr><td>148</td><td>202</td><td>302</td><td>10/02/2024</td><td>San Francisco</td><td>Denver</td><td>Michael Williams</td><td>Lucy Lewis</td><td>47.89</td></tr><tr><td>149</td><td>203</td><td>303</td><td>23/03/2024</td><td>Miami</td><td>Boston</td><td>Jessica Brown</td><td>Sophia Walker</td><td>72.15</td></tr><tr><td>150</td><td>204</td><td>304</td><td>05/04/2024</td><td>Atlanta</td><td>Chicago</td><td>David Jones</td><td>Henry Hall</td><td>38.27</td></tr><tr><td>151</td><td>205</td><td>305</td><td>09/03/2024</td><td>Seattle</td><td>Phoenix</td><td>Chris Davis</td><td>Liam Allen</td><td>53.64</td></tr><tr><td>152</td><td>206</td><td>306</td><td>17/01/2024</td><td>Phoenix</td><td>New York</td><td>Patricia Garcia</td><td>Oliver Young</td><td>81.52</td></tr><tr><td>153</td><td>209</td><td>311</td><td>25/03/2024</td><td>Denver</td><td>Los Angeles</td><td>Robert Miller</td><td>Mason King</td><td>69.47</td></tr><tr><td>154</td><td>212</td><td>320</td><td>03/03/2024</td><td>Houston</td><td>San Francisco</td><td>Mary Martinez</td><td>Ethan Scott</td><td>44.19</td></tr><tr><td>155</td><td>216</td><td>321</td><td>21/02/2024</td><td>Chicago</td><td>Miami</td><td>James Hernandez</td><td>Aiden Green</td><td>57.88</td></tr><tr><td>156</td><td>217</td><td>322</td><td>11/10/2024</td><td>Boston</td><td>Atlanta</td><td>Daniel Lopez</td><td>Logan Baker</td><td>49.63</td></tr><tr><td>157</td><td>222</td><td>328</td><td>17/01/2024</td><td>Las Vegas</td><td>Houston</td><td>Sarah Wilson</td><td>Lucas Adams</td><td>61.74</td></tr><tr><td>158</td><td>225</td><td>330</td><td>18/02/2024</td><td>New York</td><td>Denver</td><td>Mark Anderson</td><td>Benjamin Nelson</td><td>73.25</td></tr><tr><td>159</td><td>230</td><td>334</td><td>28/01/2024</td><td>Los Angeles</td><td>Seattle</td><td>Paul Taylor</td><td>Noah Carter</td><td>59.36</td></tr><tr><td>160</td><td>235</td><td>336</td><td>15/03/2024</td><td>Miami</td><td>New York</td><td>Jennifer Moore</td><td>Elijah Mitchell</td><td>85.14</td></tr><tr><td>161</td><td>238</td><td>341</td><td>09/03/2024</td><td>Denver</td><td>San Francisco</td><td>Andrew Jackson</td><td>Alexander Perez</td><td>46.97</td></tr><tr><td>162</td><td>240</td><td>346</td><td>30/05/2024</td><td>Chicago</td><td>Phoenix</td><td>Samantha Thomas</td><td>William Roberts</td><td>50.45</td></tr><tr><td>163</td><td>246</td><td>347</td><td>14/04/2024</td><td>Houston</td><td>Atlanta</td><td>Linda White</td><td>Sebastian Turner</td><td>64.29</td></tr><tr><td>164</td><td>200</td><td>349</td><td>09/03/2024</td><td>Seattle</td><td>Boston</td><td>John Smith</td><td>Matthew Phillips</td><td>52.37</td></tr><tr><td>165</td><td>201</td><td>350</td><td>07/06/2024</td><td>Phoenix</td><td>Los Angeles</td><td>Emily Johnson</td><td>Daniel Campbell</td><td>78.56</td></tr><tr><td>126</td><td>211</td><td>347</td><td>21/08/2023</td><td>Denver</td><td>Houston</td><td>NaN</td><td>Sebastian Turner</td><td>94.17</td></tr><tr><td>127</td><td>241</td><td>346</td><td>09/05/2023</td><td>Houston</td><td>Las Vegas</td><td>NaN</td><td>William Roberts</td><td>63.65</td></tr><tr><td>128</td><td>201</td><td>339</td><td>16/11/2023</td><td>Boston</td><td>Houston</td><td>Emily Johnson</td><td>NaN</td><td>84.22</td></tr><tr><td>129</td><td>250</td><td>306</td><td>14/08/2023</td><td>San Francisco</td><td>Seattle</td><td>NaN</td><td>Oliver Young</td><td>25</td></tr><tr><td>130</td><td>244</td><td>341</td><td>16/08/2023</td><td>Houston</td><td>LA</td><td>NaN</td><td>Alexander Perez</td><td>31.93</td></tr><tr><td>131</td><td>218</td><td>329</td><td>14/10/2023</td><td>Denver</td><td>Boston</td><td>NaN</td><td>NaN</td><td>20.21</td></tr><tr><td>132</td><td>204</td><td>307</td><td>09/05/2023</td><td>Seattle</td><td>Atlanta</td><td>David Jones</td><td>NaN</td><td>75.33</td></tr><tr><td>133</td><td>201</td><td>332</td><td>09/05/2023</td><td>New York</td><td>Phoenix</td><td>Emily Johnson</td><td>NaN</td><td>79.63</td></tr><tr><td>134</td><td>215</td><td>339</td><td>19/02/2023</td><td>Houston</td><td>Atlanta</td><td>NaN</td><td>NaN</td><td>62.84</td></tr><tr><td>135</td><td>218</td><td>313</td><td>06/04/2023</td><td>Phoenix</td><td>Atlanta</td><td>NaN</td><td>Jacob Wright</td><td>83.85</td></tr><tr><td>136</td><td>234</td><td>302</td><td>04/04/2023</td><td>Boston</td><td>San Francisco</td><td>NaN</td><td>Lucy Lewis</td><td>75.09</td></tr><tr><td>137</td><td>211</td><td>324</td><td>16/10/2023</td><td>Seattle</td><td>Atlanta</td><td>NaN</td><td>NaN</td><td>79.96</td></tr><tr><td>138</td><td>223</td><td>328</td><td>16/03/2023</td><td>San Francisco</td><td>Seattle</td><td>NaN</td><td>Lucas Adams</td><td>32.46</td></tr><tr><td>139</td><td>203</td><td>317</td><td>09/05/2023</td><td>Miami</td><td>Houston</td><td>Jessica Brown</td><td>NaN</td><td>28.26</td></tr><tr><td>140</td><td>211</td><td>339</td><td>02/12/2023</td><td>Las Vegas</td><td>Miami</td><td>NaN</td><td>NaN</td><td>55.86</td></tr><tr><td>141</td><td>215</td><td>334</td><td>14/08/2023</td><td>New York</td><td>Boston</td><td>NaN</td><td>Noah Carter</td><td>73.08</td></tr><tr><td>142</td><td>213</td><td>329</td><td>01/03/2023</td><td>LA</td><td>Phoenix</td><td>NaN</td><td>NaN</td><td>94.77</td></tr><tr><td>143</td><td>220</td><td>338</td><td>09/05/2023</td><td>Las Vegas</td><td>Miami</td><td>NaN</td><td>NaN</td><td>77.39</td></tr><tr><td>144</td><td>246</td><td>318</td><td>14/08/2023</td><td>Boston</td><td>Seattle</td><td>Linda White</td><td>NaN</td><td>21.5</td></tr><tr><td>145</td><td>203</td><td>326</td><td>12/11/2023</td><td>Seattle</td><td>LA</td><td>Jessica Brown</td><td>NaN</td><td>58.86</td></tr></tbody></table></div>"
      ]
     },
     "metadata": {
      "application/vnd.databricks.v1+output": {
       "addedWidgets": {},
       "aggData": [],
       "aggError": "",
       "aggOverflow": false,
       "aggSchema": [],
       "aggSeriesLimitReached": false,
       "aggType": "",
       "arguments": {},
       "columnCustomDisplayInfos": {},
       "data": [
        [
         "100",
         "200",
         "300",
         "01/01/2022",
         "New York",
         "New Jersey",
         "John Smith",
         "Alice Lee",
         "63.77"
        ],
        [
         "101",
         "201",
         "301",
         "01/01/2022",
         "Miami",
         "Dallas",
         "Emily Johnson",
         "Tom Clark",
         "42.67"
        ],
        [
         "102",
         "202",
         "302",
         "02/01/2022",
         "Phoenix",
         "Tempe",
         "Michael Williams",
         "Lucy Lewis",
         "48.51"
        ],
        [
         "103",
         "203",
         "303",
         "04/02/2022",
         "LA",
         "San Joes",
         "Jessica Brown",
         "Sophia Walker",
         "65.92"
        ],
        [
         "104",
         "204",
         "304",
         "05/02/2022",
         "Seattle",
         "Redmond",
         "David Jones",
         "Henry Hall",
         "49.75"
        ],
        [
         "105",
         "205",
         "305",
         "01/03/2022",
         "Atlanta",
         "Chicago",
         "Chris Davis",
         "Liam Allen",
         "51.66"
        ],
        [
         "106",
         "217",
         "304",
         "05/07/2022",
         "Las Vegas",
         "Miami",
         "Daniel Lopez",
         "Henry Hall",
         "72.14"
        ],
        [
         "107",
         "222",
         "336",
         "30/06/2022",
         "Miami",
         "Phoenix",
         "Sarah Wilson",
         "Elijah Mitchell",
         "78.62"
        ],
        [
         "108",
         "204",
         "330",
         "10/06/2022",
         "Denver",
         "New York",
         "David Jones",
         "Benjamin Nelson",
         "39.27"
        ],
        [
         "109",
         "246",
         "320",
         "15/07/2022",
         "Atlanta",
         "LA",
         "Linda White",
         "Ethan Scott",
         "99.17"
        ],
        [
         "110",
         "230",
         "313",
         "12/11/2022",
         "LA",
         "Miami",
         "Paul Taylor",
         "Jacob Wright",
         "77.12"
        ],
        [
         "111",
         "235",
         "321",
         "31/08/2022",
         "Phoenix",
         "Phoenix",
         "Jennifer Moore",
         "Aiden Green",
         "71.08"
        ],
        [
         "112",
         "240",
         "350",
         "27/12/2022",
         "San Francisco",
         "Atlanta",
         "Samantha Thomas",
         "Daniel Campbell",
         "56.12"
        ],
        [
         "113",
         "225",
         "313",
         "15/12/2022",
         "Boston",
         "Las Vegas",
         "Mark Anderson",
         "Jacob Wright",
         "36.49"
        ],
        [
         "114",
         "238",
         "346",
         "04/07/2022",
         "Phoenix",
         "Houston",
         "Andrew Jackson",
         "William Roberts",
         "49.98"
        ],
        [
         "115",
         "200",
         "341",
         "26/06/2022",
         "Las Vegas",
         "LA",
         "John Smith",
         "Alexander Perez",
         "56.27"
        ],
        [
         "116",
         "240",
         "306",
         "12/11/2022",
         "New York",
         "San Francisco",
         "Samantha Thomas",
         "Oliver Young",
         "59"
        ],
        [
         "117",
         "209",
         "328",
         "30/07/2022",
         "Las Vegas",
         "New York",
         "Robert Miller",
         "Lucas Adams",
         "81.86"
        ],
        [
         "118",
         "212",
         "334",
         "15/12/2022",
         "Atlanta",
         "Miami",
         "Mary Martinez",
         "Noah Carter",
         "75.53"
        ],
        [
         "119",
         "200",
         "347",
         "10/06/2022",
         "San Francisco",
         "New York",
         "John Smith",
         "Sebastian Turner",
         "23.51"
        ],
        [
         "120",
         "216",
         "330",
         "21/01/2022",
         "Phoenix",
         "Miami",
         "James Hernandez",
         "Benjamin Nelson",
         "41.69"
        ],
        [
         "121",
         "206",
         "302",
         "03/08/2022",
         "Denver",
         "Phoenix",
         "Patricia Garcia",
         "Lucy Lewis",
         "29.79"
        ],
        [
         "122",
         "201",
         "311",
         "20/05/2022",
         "San Francisco",
         "Las Vegas",
         "Emily Johnson",
         "Mason King",
         "94.12"
        ],
        [
         "123",
         "200",
         "322",
         "31/08/2022",
         "Seattle",
         "Boston",
         "John Smith",
         "Logan Baker",
         "79.82"
        ],
        [
         "124",
         "205",
         "337",
         "01/01/2022",
         "Las Vegas",
         "LA",
         "Chris Davis",
         "NaN",
         "76.81"
        ],
        [
         "125",
         "206",
         "349",
         "02/06/2022",
         "Phoenix",
         "San Francisco",
         "Patricia Garcia",
         "Matthew Phillips",
         "79.9"
        ],
        [
         "146",
         "200",
         "300",
         "05/01/2024",
         "New York",
         "Miami",
         "John Smith",
         "Alice Lee",
         "54.32"
        ],
        [
         "147",
         "201",
         "301",
         "17/01/2024",
         "Los Angeles",
         "Seattle",
         "Emily Johnson",
         "Tom Clark",
         "62.75"
        ],
        [
         "148",
         "202",
         "302",
         "10/02/2024",
         "San Francisco",
         "Denver",
         "Michael Williams",
         "Lucy Lewis",
         "47.89"
        ],
        [
         "149",
         "203",
         "303",
         "23/03/2024",
         "Miami",
         "Boston",
         "Jessica Brown",
         "Sophia Walker",
         "72.15"
        ],
        [
         "150",
         "204",
         "304",
         "05/04/2024",
         "Atlanta",
         "Chicago",
         "David Jones",
         "Henry Hall",
         "38.27"
        ],
        [
         "151",
         "205",
         "305",
         "09/03/2024",
         "Seattle",
         "Phoenix",
         "Chris Davis",
         "Liam Allen",
         "53.64"
        ],
        [
         "152",
         "206",
         "306",
         "17/01/2024",
         "Phoenix",
         "New York",
         "Patricia Garcia",
         "Oliver Young",
         "81.52"
        ],
        [
         "153",
         "209",
         "311",
         "25/03/2024",
         "Denver",
         "Los Angeles",
         "Robert Miller",
         "Mason King",
         "69.47"
        ],
        [
         "154",
         "212",
         "320",
         "03/03/2024",
         "Houston",
         "San Francisco",
         "Mary Martinez",
         "Ethan Scott",
         "44.19"
        ],
        [
         "155",
         "216",
         "321",
         "21/02/2024",
         "Chicago",
         "Miami",
         "James Hernandez",
         "Aiden Green",
         "57.88"
        ],
        [
         "156",
         "217",
         "322",
         "11/10/2024",
         "Boston",
         "Atlanta",
         "Daniel Lopez",
         "Logan Baker",
         "49.63"
        ],
        [
         "157",
         "222",
         "328",
         "17/01/2024",
         "Las Vegas",
         "Houston",
         "Sarah Wilson",
         "Lucas Adams",
         "61.74"
        ],
        [
         "158",
         "225",
         "330",
         "18/02/2024",
         "New York",
         "Denver",
         "Mark Anderson",
         "Benjamin Nelson",
         "73.25"
        ],
        [
         "159",
         "230",
         "334",
         "28/01/2024",
         "Los Angeles",
         "Seattle",
         "Paul Taylor",
         "Noah Carter",
         "59.36"
        ],
        [
         "160",
         "235",
         "336",
         "15/03/2024",
         "Miami",
         "New York",
         "Jennifer Moore",
         "Elijah Mitchell",
         "85.14"
        ],
        [
         "161",
         "238",
         "341",
         "09/03/2024",
         "Denver",
         "San Francisco",
         "Andrew Jackson",
         "Alexander Perez",
         "46.97"
        ],
        [
         "162",
         "240",
         "346",
         "30/05/2024",
         "Chicago",
         "Phoenix",
         "Samantha Thomas",
         "William Roberts",
         "50.45"
        ],
        [
         "163",
         "246",
         "347",
         "14/04/2024",
         "Houston",
         "Atlanta",
         "Linda White",
         "Sebastian Turner",
         "64.29"
        ],
        [
         "164",
         "200",
         "349",
         "09/03/2024",
         "Seattle",
         "Boston",
         "John Smith",
         "Matthew Phillips",
         "52.37"
        ],
        [
         "165",
         "201",
         "350",
         "07/06/2024",
         "Phoenix",
         "Los Angeles",
         "Emily Johnson",
         "Daniel Campbell",
         "78.56"
        ],
        [
         "126",
         "211",
         "347",
         "21/08/2023",
         "Denver",
         "Houston",
         "NaN",
         "Sebastian Turner",
         "94.17"
        ],
        [
         "127",
         "241",
         "346",
         "09/05/2023",
         "Houston",
         "Las Vegas",
         "NaN",
         "William Roberts",
         "63.65"
        ],
        [
         "128",
         "201",
         "339",
         "16/11/2023",
         "Boston",
         "Houston",
         "Emily Johnson",
         "NaN",
         "84.22"
        ],
        [
         "129",
         "250",
         "306",
         "14/08/2023",
         "San Francisco",
         "Seattle",
         "NaN",
         "Oliver Young",
         "25"
        ],
        [
         "130",
         "244",
         "341",
         "16/08/2023",
         "Houston",
         "LA",
         "NaN",
         "Alexander Perez",
         "31.93"
        ],
        [
         "131",
         "218",
         "329",
         "14/10/2023",
         "Denver",
         "Boston",
         "NaN",
         "NaN",
         "20.21"
        ],
        [
         "132",
         "204",
         "307",
         "09/05/2023",
         "Seattle",
         "Atlanta",
         "David Jones",
         "NaN",
         "75.33"
        ],
        [
         "133",
         "201",
         "332",
         "09/05/2023",
         "New York",
         "Phoenix",
         "Emily Johnson",
         "NaN",
         "79.63"
        ],
        [
         "134",
         "215",
         "339",
         "19/02/2023",
         "Houston",
         "Atlanta",
         "NaN",
         "NaN",
         "62.84"
        ],
        [
         "135",
         "218",
         "313",
         "06/04/2023",
         "Phoenix",
         "Atlanta",
         "NaN",
         "Jacob Wright",
         "83.85"
        ],
        [
         "136",
         "234",
         "302",
         "04/04/2023",
         "Boston",
         "San Francisco",
         "NaN",
         "Lucy Lewis",
         "75.09"
        ],
        [
         "137",
         "211",
         "324",
         "16/10/2023",
         "Seattle",
         "Atlanta",
         "NaN",
         "NaN",
         "79.96"
        ],
        [
         "138",
         "223",
         "328",
         "16/03/2023",
         "San Francisco",
         "Seattle",
         "NaN",
         "Lucas Adams",
         "32.46"
        ],
        [
         "139",
         "203",
         "317",
         "09/05/2023",
         "Miami",
         "Houston",
         "Jessica Brown",
         "NaN",
         "28.26"
        ],
        [
         "140",
         "211",
         "339",
         "02/12/2023",
         "Las Vegas",
         "Miami",
         "NaN",
         "NaN",
         "55.86"
        ],
        [
         "141",
         "215",
         "334",
         "14/08/2023",
         "New York",
         "Boston",
         "NaN",
         "Noah Carter",
         "73.08"
        ],
        [
         "142",
         "213",
         "329",
         "01/03/2023",
         "LA",
         "Phoenix",
         "NaN",
         "NaN",
         "94.77"
        ],
        [
         "143",
         "220",
         "338",
         "09/05/2023",
         "Las Vegas",
         "Miami",
         "NaN",
         "NaN",
         "77.39"
        ],
        [
         "144",
         "246",
         "318",
         "14/08/2023",
         "Boston",
         "Seattle",
         "Linda White",
         "NaN",
         "21.5"
        ],
        [
         "145",
         "203",
         "326",
         "12/11/2023",
         "Seattle",
         "LA",
         "Jessica Brown",
         "NaN",
         "58.86"
        ]
       ],
       "datasetInfos": [],
       "dbfsResultPath": null,
       "isJsonSchema": true,
       "metadata": {},
       "overflow": false,
       "plotOptions": {
        "customPlotOptions": {},
        "displayType": "table",
        "pivotAggregation": null,
        "pivotColumns": null,
        "xColumns": null,
        "yColumns": null
       },
       "removedWidgets": [],
       "schema": [
        {
         "metadata": "{}",
         "name": "tripId",
         "type": "\"string\""
        },
        {
         "metadata": "{}",
         "name": "driverId",
         "type": "\"string\""
        },
        {
         "metadata": "{}",
         "name": "customerId",
         "type": "\"string\""
        },
        {
         "metadata": "{}",
         "name": "tripDate",
         "type": "\"string\""
        },
        {
         "metadata": "{}",
         "name": "startLocation",
         "type": "\"string\""
        },
        {
         "metadata": "{}",
         "name": "endLocation",
         "type": "\"string\""
        },
        {
         "metadata": "{}",
         "name": "driverName",
         "type": "\"string\""
        },
        {
         "metadata": "{}",
         "name": "customerName",
         "type": "\"string\""
        },
        {
         "metadata": "{}",
         "name": "tripAmount",
         "type": "\"string\""
        }
       ],
       "type": "table"
      }
     },
     "output_type": "display_data"
    }
   ],
   "source": [
    "df = spark.read.load('data/*.csv', format='csv', header=True)\n",
    "display(df.limit(100))\n",
    "     "
   ]
  },
  {
   "cell_type": "markdown",
   "metadata": {
    "application/vnd.databricks.v1+cell": {
     "cellMetadata": {},
     "inputWidgets": {},
     "nuid": "22932a67-c98c-4362-b8db-784e76516a11",
     "showTitle": false,
     "title": ""
    }
   },
   "source": [
    "The data in the file relates to trip data, includes the column headers. To make more sense of the data, you can define a *schema* for the dataframe."
   ]
  },
  {
   "cell_type": "code",
   "execution_count": null,
   "metadata": {
    "application/vnd.databricks.v1+cell": {
     "cellMetadata": {
      "byteLimit": 2048000,
      "rowLimit": 10000
     },
     "inputWidgets": {},
     "nuid": "8cabcf12-6705-46c6-9bbc-8ca3cd8e5d37",
     "showTitle": false,
     "title": ""
    }
   },
   "outputs": [
    {
     "data": {
      "text/html": [
       "<style scoped>\n",
       "  .table-result-container {\n",
       "    max-height: 300px;\n",
       "    overflow: auto;\n",
       "  }\n",
       "  table, th, td {\n",
       "    border: 1px solid black;\n",
       "    border-collapse: collapse;\n",
       "  }\n",
       "  th, td {\n",
       "    padding: 5px;\n",
       "  }\n",
       "  th {\n",
       "    text-align: left;\n",
       "  }\n",
       "</style><div class='table-result-container'><table class='table-result'><thead style='background-color: white'><tr><th>tripId</th><th>driverId</th><th>customerId</th><th>tripDate</th><th>startLocation</th><th>endLocation</th><th>driverName</th><th>customerName</th><th>tripAmount</th></tr></thead><tbody><tr><td>100</td><td>200</td><td>300</td><td>01/01/2022</td><td>New York</td><td>New Jersey</td><td>John Smith</td><td>Alice Lee</td><td>63.77</td></tr><tr><td>101</td><td>201</td><td>301</td><td>01/01/2022</td><td>Miami</td><td>Dallas</td><td>Emily Johnson</td><td>Tom Clark</td><td>42.67</td></tr><tr><td>102</td><td>202</td><td>302</td><td>02/01/2022</td><td>Phoenix</td><td>Tempe</td><td>Michael Williams</td><td>Lucy Lewis</td><td>48.51</td></tr><tr><td>103</td><td>203</td><td>303</td><td>04/02/2022</td><td>LA</td><td>San Joes</td><td>Jessica Brown</td><td>Sophia Walker</td><td>65.92</td></tr><tr><td>104</td><td>204</td><td>304</td><td>05/02/2022</td><td>Seattle</td><td>Redmond</td><td>David Jones</td><td>Henry Hall</td><td>49.75</td></tr><tr><td>105</td><td>205</td><td>305</td><td>01/03/2022</td><td>Atlanta</td><td>Chicago</td><td>Chris Davis</td><td>Liam Allen</td><td>51.66</td></tr><tr><td>106</td><td>217</td><td>304</td><td>05/07/2022</td><td>Las Vegas</td><td>Miami</td><td>Daniel Lopez</td><td>Henry Hall</td><td>72.14</td></tr><tr><td>107</td><td>222</td><td>336</td><td>30/06/2022</td><td>Miami</td><td>Phoenix</td><td>Sarah Wilson</td><td>Elijah Mitchell</td><td>78.62</td></tr><tr><td>108</td><td>204</td><td>330</td><td>10/06/2022</td><td>Denver</td><td>New York</td><td>David Jones</td><td>Benjamin Nelson</td><td>39.27</td></tr><tr><td>109</td><td>246</td><td>320</td><td>15/07/2022</td><td>Atlanta</td><td>LA</td><td>Linda White</td><td>Ethan Scott</td><td>99.17</td></tr><tr><td>110</td><td>230</td><td>313</td><td>12/11/2022</td><td>LA</td><td>Miami</td><td>Paul Taylor</td><td>Jacob Wright</td><td>77.12</td></tr><tr><td>111</td><td>235</td><td>321</td><td>31/08/2022</td><td>Phoenix</td><td>Phoenix</td><td>Jennifer Moore</td><td>Aiden Green</td><td>71.08</td></tr><tr><td>112</td><td>240</td><td>350</td><td>27/12/2022</td><td>San Francisco</td><td>Atlanta</td><td>Samantha Thomas</td><td>Daniel Campbell</td><td>56.12</td></tr><tr><td>113</td><td>225</td><td>313</td><td>15/12/2022</td><td>Boston</td><td>Las Vegas</td><td>Mark Anderson</td><td>Jacob Wright</td><td>36.49</td></tr><tr><td>114</td><td>238</td><td>346</td><td>04/07/2022</td><td>Phoenix</td><td>Houston</td><td>Andrew Jackson</td><td>William Roberts</td><td>49.98</td></tr><tr><td>115</td><td>200</td><td>341</td><td>26/06/2022</td><td>Las Vegas</td><td>LA</td><td>John Smith</td><td>Alexander Perez</td><td>56.27</td></tr><tr><td>116</td><td>240</td><td>306</td><td>12/11/2022</td><td>New York</td><td>San Francisco</td><td>Samantha Thomas</td><td>Oliver Young</td><td>59.0</td></tr><tr><td>117</td><td>209</td><td>328</td><td>30/07/2022</td><td>Las Vegas</td><td>New York</td><td>Robert Miller</td><td>Lucas Adams</td><td>81.86</td></tr><tr><td>118</td><td>212</td><td>334</td><td>15/12/2022</td><td>Atlanta</td><td>Miami</td><td>Mary Martinez</td><td>Noah Carter</td><td>75.53</td></tr><tr><td>119</td><td>200</td><td>347</td><td>10/06/2022</td><td>San Francisco</td><td>New York</td><td>John Smith</td><td>Sebastian Turner</td><td>23.51</td></tr><tr><td>120</td><td>216</td><td>330</td><td>21/01/2022</td><td>Phoenix</td><td>Miami</td><td>James Hernandez</td><td>Benjamin Nelson</td><td>41.69</td></tr><tr><td>121</td><td>206</td><td>302</td><td>03/08/2022</td><td>Denver</td><td>Phoenix</td><td>Patricia Garcia</td><td>Lucy Lewis</td><td>29.79</td></tr><tr><td>122</td><td>201</td><td>311</td><td>20/05/2022</td><td>San Francisco</td><td>Las Vegas</td><td>Emily Johnson</td><td>Mason King</td><td>94.12</td></tr><tr><td>123</td><td>200</td><td>322</td><td>31/08/2022</td><td>Seattle</td><td>Boston</td><td>John Smith</td><td>Logan Baker</td><td>79.82</td></tr><tr><td>124</td><td>205</td><td>337</td><td>01/01/2022</td><td>Las Vegas</td><td>LA</td><td>Chris Davis</td><td>NaN</td><td>76.81</td></tr><tr><td>125</td><td>206</td><td>349</td><td>02/06/2022</td><td>Phoenix</td><td>San Francisco</td><td>Patricia Garcia</td><td>Matthew Phillips</td><td>79.9</td></tr><tr><td>146</td><td>200</td><td>300</td><td>05/01/2024</td><td>New York</td><td>Miami</td><td>John Smith</td><td>Alice Lee</td><td>54.32</td></tr><tr><td>147</td><td>201</td><td>301</td><td>17/01/2024</td><td>Los Angeles</td><td>Seattle</td><td>Emily Johnson</td><td>Tom Clark</td><td>62.75</td></tr><tr><td>148</td><td>202</td><td>302</td><td>10/02/2024</td><td>San Francisco</td><td>Denver</td><td>Michael Williams</td><td>Lucy Lewis</td><td>47.89</td></tr><tr><td>149</td><td>203</td><td>303</td><td>23/03/2024</td><td>Miami</td><td>Boston</td><td>Jessica Brown</td><td>Sophia Walker</td><td>72.15</td></tr><tr><td>150</td><td>204</td><td>304</td><td>05/04/2024</td><td>Atlanta</td><td>Chicago</td><td>David Jones</td><td>Henry Hall</td><td>38.27</td></tr><tr><td>151</td><td>205</td><td>305</td><td>09/03/2024</td><td>Seattle</td><td>Phoenix</td><td>Chris Davis</td><td>Liam Allen</td><td>53.64</td></tr><tr><td>152</td><td>206</td><td>306</td><td>17/01/2024</td><td>Phoenix</td><td>New York</td><td>Patricia Garcia</td><td>Oliver Young</td><td>81.52</td></tr><tr><td>153</td><td>209</td><td>311</td><td>25/03/2024</td><td>Denver</td><td>Los Angeles</td><td>Robert Miller</td><td>Mason King</td><td>69.47</td></tr><tr><td>154</td><td>212</td><td>320</td><td>03/03/2024</td><td>Houston</td><td>San Francisco</td><td>Mary Martinez</td><td>Ethan Scott</td><td>44.19</td></tr><tr><td>155</td><td>216</td><td>321</td><td>21/02/2024</td><td>Chicago</td><td>Miami</td><td>James Hernandez</td><td>Aiden Green</td><td>57.88</td></tr><tr><td>156</td><td>217</td><td>322</td><td>11/10/2024</td><td>Boston</td><td>Atlanta</td><td>Daniel Lopez</td><td>Logan Baker</td><td>49.63</td></tr><tr><td>157</td><td>222</td><td>328</td><td>17/01/2024</td><td>Las Vegas</td><td>Houston</td><td>Sarah Wilson</td><td>Lucas Adams</td><td>61.74</td></tr><tr><td>158</td><td>225</td><td>330</td><td>18/02/2024</td><td>New York</td><td>Denver</td><td>Mark Anderson</td><td>Benjamin Nelson</td><td>73.25</td></tr><tr><td>159</td><td>230</td><td>334</td><td>28/01/2024</td><td>Los Angeles</td><td>Seattle</td><td>Paul Taylor</td><td>Noah Carter</td><td>59.36</td></tr><tr><td>160</td><td>235</td><td>336</td><td>15/03/2024</td><td>Miami</td><td>New York</td><td>Jennifer Moore</td><td>Elijah Mitchell</td><td>85.14</td></tr><tr><td>161</td><td>238</td><td>341</td><td>09/03/2024</td><td>Denver</td><td>San Francisco</td><td>Andrew Jackson</td><td>Alexander Perez</td><td>46.97</td></tr><tr><td>162</td><td>240</td><td>346</td><td>30/05/2024</td><td>Chicago</td><td>Phoenix</td><td>Samantha Thomas</td><td>William Roberts</td><td>50.45</td></tr><tr><td>163</td><td>246</td><td>347</td><td>14/04/2024</td><td>Houston</td><td>Atlanta</td><td>Linda White</td><td>Sebastian Turner</td><td>64.29</td></tr><tr><td>164</td><td>200</td><td>349</td><td>09/03/2024</td><td>Seattle</td><td>Boston</td><td>John Smith</td><td>Matthew Phillips</td><td>52.37</td></tr><tr><td>165</td><td>201</td><td>350</td><td>07/06/2024</td><td>Phoenix</td><td>Los Angeles</td><td>Emily Johnson</td><td>Daniel Campbell</td><td>78.56</td></tr><tr><td>126</td><td>211</td><td>347</td><td>21/08/2023</td><td>Denver</td><td>Houston</td><td>NaN</td><td>Sebastian Turner</td><td>94.17</td></tr><tr><td>127</td><td>241</td><td>346</td><td>09/05/2023</td><td>Houston</td><td>Las Vegas</td><td>NaN</td><td>William Roberts</td><td>63.65</td></tr><tr><td>128</td><td>201</td><td>339</td><td>16/11/2023</td><td>Boston</td><td>Houston</td><td>Emily Johnson</td><td>NaN</td><td>84.22</td></tr><tr><td>129</td><td>250</td><td>306</td><td>14/08/2023</td><td>San Francisco</td><td>Seattle</td><td>NaN</td><td>Oliver Young</td><td>25.0</td></tr><tr><td>130</td><td>244</td><td>341</td><td>16/08/2023</td><td>Houston</td><td>LA</td><td>NaN</td><td>Alexander Perez</td><td>31.93</td></tr><tr><td>131</td><td>218</td><td>329</td><td>14/10/2023</td><td>Denver</td><td>Boston</td><td>NaN</td><td>NaN</td><td>20.21</td></tr><tr><td>132</td><td>204</td><td>307</td><td>09/05/2023</td><td>Seattle</td><td>Atlanta</td><td>David Jones</td><td>NaN</td><td>75.33</td></tr><tr><td>133</td><td>201</td><td>332</td><td>09/05/2023</td><td>New York</td><td>Phoenix</td><td>Emily Johnson</td><td>NaN</td><td>79.63</td></tr><tr><td>134</td><td>215</td><td>339</td><td>19/02/2023</td><td>Houston</td><td>Atlanta</td><td>NaN</td><td>NaN</td><td>62.84</td></tr><tr><td>135</td><td>218</td><td>313</td><td>06/04/2023</td><td>Phoenix</td><td>Atlanta</td><td>NaN</td><td>Jacob Wright</td><td>83.85</td></tr><tr><td>136</td><td>234</td><td>302</td><td>04/04/2023</td><td>Boston</td><td>San Francisco</td><td>NaN</td><td>Lucy Lewis</td><td>75.09</td></tr><tr><td>137</td><td>211</td><td>324</td><td>16/10/2023</td><td>Seattle</td><td>Atlanta</td><td>NaN</td><td>NaN</td><td>79.96</td></tr><tr><td>138</td><td>223</td><td>328</td><td>16/03/2023</td><td>San Francisco</td><td>Seattle</td><td>NaN</td><td>Lucas Adams</td><td>32.46</td></tr><tr><td>139</td><td>203</td><td>317</td><td>09/05/2023</td><td>Miami</td><td>Houston</td><td>Jessica Brown</td><td>NaN</td><td>28.26</td></tr><tr><td>140</td><td>211</td><td>339</td><td>02/12/2023</td><td>Las Vegas</td><td>Miami</td><td>NaN</td><td>NaN</td><td>55.86</td></tr><tr><td>141</td><td>215</td><td>334</td><td>14/08/2023</td><td>New York</td><td>Boston</td><td>NaN</td><td>Noah Carter</td><td>73.08</td></tr><tr><td>142</td><td>213</td><td>329</td><td>01/03/2023</td><td>LA</td><td>Phoenix</td><td>NaN</td><td>NaN</td><td>94.77</td></tr><tr><td>143</td><td>220</td><td>338</td><td>09/05/2023</td><td>Las Vegas</td><td>Miami</td><td>NaN</td><td>NaN</td><td>77.39</td></tr><tr><td>144</td><td>246</td><td>318</td><td>14/08/2023</td><td>Boston</td><td>Seattle</td><td>Linda White</td><td>NaN</td><td>21.5</td></tr><tr><td>145</td><td>203</td><td>326</td><td>12/11/2023</td><td>Seattle</td><td>LA</td><td>Jessica Brown</td><td>NaN</td><td>58.86</td></tr></tbody></table></div>"
      ]
     },
     "metadata": {
      "application/vnd.databricks.v1+output": {
       "addedWidgets": {},
       "aggData": [],
       "aggError": "",
       "aggOverflow": false,
       "aggSchema": [],
       "aggSeriesLimitReached": false,
       "aggType": "",
       "arguments": {},
       "columnCustomDisplayInfos": {},
       "data": [
        [
         100,
         200,
         300,
         "01/01/2022",
         "New York",
         "New Jersey",
         "John Smith",
         "Alice Lee",
         63.77
        ],
        [
         101,
         201,
         301,
         "01/01/2022",
         "Miami",
         "Dallas",
         "Emily Johnson",
         "Tom Clark",
         42.67
        ],
        [
         102,
         202,
         302,
         "02/01/2022",
         "Phoenix",
         "Tempe",
         "Michael Williams",
         "Lucy Lewis",
         48.51
        ],
        [
         103,
         203,
         303,
         "04/02/2022",
         "LA",
         "San Joes",
         "Jessica Brown",
         "Sophia Walker",
         65.92
        ],
        [
         104,
         204,
         304,
         "05/02/2022",
         "Seattle",
         "Redmond",
         "David Jones",
         "Henry Hall",
         49.75
        ],
        [
         105,
         205,
         305,
         "01/03/2022",
         "Atlanta",
         "Chicago",
         "Chris Davis",
         "Liam Allen",
         51.66
        ],
        [
         106,
         217,
         304,
         "05/07/2022",
         "Las Vegas",
         "Miami",
         "Daniel Lopez",
         "Henry Hall",
         72.14
        ],
        [
         107,
         222,
         336,
         "30/06/2022",
         "Miami",
         "Phoenix",
         "Sarah Wilson",
         "Elijah Mitchell",
         78.62
        ],
        [
         108,
         204,
         330,
         "10/06/2022",
         "Denver",
         "New York",
         "David Jones",
         "Benjamin Nelson",
         39.27
        ],
        [
         109,
         246,
         320,
         "15/07/2022",
         "Atlanta",
         "LA",
         "Linda White",
         "Ethan Scott",
         99.17
        ],
        [
         110,
         230,
         313,
         "12/11/2022",
         "LA",
         "Miami",
         "Paul Taylor",
         "Jacob Wright",
         77.12
        ],
        [
         111,
         235,
         321,
         "31/08/2022",
         "Phoenix",
         "Phoenix",
         "Jennifer Moore",
         "Aiden Green",
         71.08
        ],
        [
         112,
         240,
         350,
         "27/12/2022",
         "San Francisco",
         "Atlanta",
         "Samantha Thomas",
         "Daniel Campbell",
         56.12
        ],
        [
         113,
         225,
         313,
         "15/12/2022",
         "Boston",
         "Las Vegas",
         "Mark Anderson",
         "Jacob Wright",
         36.49
        ],
        [
         114,
         238,
         346,
         "04/07/2022",
         "Phoenix",
         "Houston",
         "Andrew Jackson",
         "William Roberts",
         49.98
        ],
        [
         115,
         200,
         341,
         "26/06/2022",
         "Las Vegas",
         "LA",
         "John Smith",
         "Alexander Perez",
         56.27
        ],
        [
         116,
         240,
         306,
         "12/11/2022",
         "New York",
         "San Francisco",
         "Samantha Thomas",
         "Oliver Young",
         59
        ],
        [
         117,
         209,
         328,
         "30/07/2022",
         "Las Vegas",
         "New York",
         "Robert Miller",
         "Lucas Adams",
         81.86
        ],
        [
         118,
         212,
         334,
         "15/12/2022",
         "Atlanta",
         "Miami",
         "Mary Martinez",
         "Noah Carter",
         75.53
        ],
        [
         119,
         200,
         347,
         "10/06/2022",
         "San Francisco",
         "New York",
         "John Smith",
         "Sebastian Turner",
         23.51
        ],
        [
         120,
         216,
         330,
         "21/01/2022",
         "Phoenix",
         "Miami",
         "James Hernandez",
         "Benjamin Nelson",
         41.69
        ],
        [
         121,
         206,
         302,
         "03/08/2022",
         "Denver",
         "Phoenix",
         "Patricia Garcia",
         "Lucy Lewis",
         29.79
        ],
        [
         122,
         201,
         311,
         "20/05/2022",
         "San Francisco",
         "Las Vegas",
         "Emily Johnson",
         "Mason King",
         94.12
        ],
        [
         123,
         200,
         322,
         "31/08/2022",
         "Seattle",
         "Boston",
         "John Smith",
         "Logan Baker",
         79.82
        ],
        [
         124,
         205,
         337,
         "01/01/2022",
         "Las Vegas",
         "LA",
         "Chris Davis",
         "NaN",
         76.81
        ],
        [
         125,
         206,
         349,
         "02/06/2022",
         "Phoenix",
         "San Francisco",
         "Patricia Garcia",
         "Matthew Phillips",
         79.9
        ],
        [
         146,
         200,
         300,
         "05/01/2024",
         "New York",
         "Miami",
         "John Smith",
         "Alice Lee",
         54.32
        ],
        [
         147,
         201,
         301,
         "17/01/2024",
         "Los Angeles",
         "Seattle",
         "Emily Johnson",
         "Tom Clark",
         62.75
        ],
        [
         148,
         202,
         302,
         "10/02/2024",
         "San Francisco",
         "Denver",
         "Michael Williams",
         "Lucy Lewis",
         47.89
        ],
        [
         149,
         203,
         303,
         "23/03/2024",
         "Miami",
         "Boston",
         "Jessica Brown",
         "Sophia Walker",
         72.15
        ],
        [
         150,
         204,
         304,
         "05/04/2024",
         "Atlanta",
         "Chicago",
         "David Jones",
         "Henry Hall",
         38.27
        ],
        [
         151,
         205,
         305,
         "09/03/2024",
         "Seattle",
         "Phoenix",
         "Chris Davis",
         "Liam Allen",
         53.64
        ],
        [
         152,
         206,
         306,
         "17/01/2024",
         "Phoenix",
         "New York",
         "Patricia Garcia",
         "Oliver Young",
         81.52
        ],
        [
         153,
         209,
         311,
         "25/03/2024",
         "Denver",
         "Los Angeles",
         "Robert Miller",
         "Mason King",
         69.47
        ],
        [
         154,
         212,
         320,
         "03/03/2024",
         "Houston",
         "San Francisco",
         "Mary Martinez",
         "Ethan Scott",
         44.19
        ],
        [
         155,
         216,
         321,
         "21/02/2024",
         "Chicago",
         "Miami",
         "James Hernandez",
         "Aiden Green",
         57.88
        ],
        [
         156,
         217,
         322,
         "11/10/2024",
         "Boston",
         "Atlanta",
         "Daniel Lopez",
         "Logan Baker",
         49.63
        ],
        [
         157,
         222,
         328,
         "17/01/2024",
         "Las Vegas",
         "Houston",
         "Sarah Wilson",
         "Lucas Adams",
         61.74
        ],
        [
         158,
         225,
         330,
         "18/02/2024",
         "New York",
         "Denver",
         "Mark Anderson",
         "Benjamin Nelson",
         73.25
        ],
        [
         159,
         230,
         334,
         "28/01/2024",
         "Los Angeles",
         "Seattle",
         "Paul Taylor",
         "Noah Carter",
         59.36
        ],
        [
         160,
         235,
         336,
         "15/03/2024",
         "Miami",
         "New York",
         "Jennifer Moore",
         "Elijah Mitchell",
         85.14
        ],
        [
         161,
         238,
         341,
         "09/03/2024",
         "Denver",
         "San Francisco",
         "Andrew Jackson",
         "Alexander Perez",
         46.97
        ],
        [
         162,
         240,
         346,
         "30/05/2024",
         "Chicago",
         "Phoenix",
         "Samantha Thomas",
         "William Roberts",
         50.45
        ],
        [
         163,
         246,
         347,
         "14/04/2024",
         "Houston",
         "Atlanta",
         "Linda White",
         "Sebastian Turner",
         64.29
        ],
        [
         164,
         200,
         349,
         "09/03/2024",
         "Seattle",
         "Boston",
         "John Smith",
         "Matthew Phillips",
         52.37
        ],
        [
         165,
         201,
         350,
         "07/06/2024",
         "Phoenix",
         "Los Angeles",
         "Emily Johnson",
         "Daniel Campbell",
         78.56
        ],
        [
         126,
         211,
         347,
         "21/08/2023",
         "Denver",
         "Houston",
         "NaN",
         "Sebastian Turner",
         94.17
        ],
        [
         127,
         241,
         346,
         "09/05/2023",
         "Houston",
         "Las Vegas",
         "NaN",
         "William Roberts",
         63.65
        ],
        [
         128,
         201,
         339,
         "16/11/2023",
         "Boston",
         "Houston",
         "Emily Johnson",
         "NaN",
         84.22
        ],
        [
         129,
         250,
         306,
         "14/08/2023",
         "San Francisco",
         "Seattle",
         "NaN",
         "Oliver Young",
         25
        ],
        [
         130,
         244,
         341,
         "16/08/2023",
         "Houston",
         "LA",
         "NaN",
         "Alexander Perez",
         31.93
        ],
        [
         131,
         218,
         329,
         "14/10/2023",
         "Denver",
         "Boston",
         "NaN",
         "NaN",
         20.21
        ],
        [
         132,
         204,
         307,
         "09/05/2023",
         "Seattle",
         "Atlanta",
         "David Jones",
         "NaN",
         75.33
        ],
        [
         133,
         201,
         332,
         "09/05/2023",
         "New York",
         "Phoenix",
         "Emily Johnson",
         "NaN",
         79.63
        ],
        [
         134,
         215,
         339,
         "19/02/2023",
         "Houston",
         "Atlanta",
         "NaN",
         "NaN",
         62.84
        ],
        [
         135,
         218,
         313,
         "06/04/2023",
         "Phoenix",
         "Atlanta",
         "NaN",
         "Jacob Wright",
         83.85
        ],
        [
         136,
         234,
         302,
         "04/04/2023",
         "Boston",
         "San Francisco",
         "NaN",
         "Lucy Lewis",
         75.09
        ],
        [
         137,
         211,
         324,
         "16/10/2023",
         "Seattle",
         "Atlanta",
         "NaN",
         "NaN",
         79.96
        ],
        [
         138,
         223,
         328,
         "16/03/2023",
         "San Francisco",
         "Seattle",
         "NaN",
         "Lucas Adams",
         32.46
        ],
        [
         139,
         203,
         317,
         "09/05/2023",
         "Miami",
         "Houston",
         "Jessica Brown",
         "NaN",
         28.26
        ],
        [
         140,
         211,
         339,
         "02/12/2023",
         "Las Vegas",
         "Miami",
         "NaN",
         "NaN",
         55.86
        ],
        [
         141,
         215,
         334,
         "14/08/2023",
         "New York",
         "Boston",
         "NaN",
         "Noah Carter",
         73.08
        ],
        [
         142,
         213,
         329,
         "01/03/2023",
         "LA",
         "Phoenix",
         "NaN",
         "NaN",
         94.77
        ],
        [
         143,
         220,
         338,
         "09/05/2023",
         "Las Vegas",
         "Miami",
         "NaN",
         "NaN",
         77.39
        ],
        [
         144,
         246,
         318,
         "14/08/2023",
         "Boston",
         "Seattle",
         "Linda White",
         "NaN",
         21.5
        ],
        [
         145,
         203,
         326,
         "12/11/2023",
         "Seattle",
         "LA",
         "Jessica Brown",
         "NaN",
         58.86
        ]
       ],
       "datasetInfos": [],
       "dbfsResultPath": null,
       "isJsonSchema": true,
       "metadata": {},
       "overflow": false,
       "plotOptions": {
        "customPlotOptions": {},
        "displayType": "table",
        "pivotAggregation": null,
        "pivotColumns": null,
        "xColumns": null,
        "yColumns": null
       },
       "removedWidgets": [],
       "schema": [
        {
         "metadata": "{}",
         "name": "tripId",
         "type": "\"integer\""
        },
        {
         "metadata": "{}",
         "name": "driverId",
         "type": "\"integer\""
        },
        {
         "metadata": "{}",
         "name": "customerId",
         "type": "\"integer\""
        },
        {
         "metadata": "{}",
         "name": "tripDate",
         "type": "\"string\""
        },
        {
         "metadata": "{}",
         "name": "startLocation",
         "type": "\"string\""
        },
        {
         "metadata": "{}",
         "name": "endLocation",
         "type": "\"string\""
        },
        {
         "metadata": "{}",
         "name": "driverName",
         "type": "\"string\""
        },
        {
         "metadata": "{}",
         "name": "customerName",
         "type": "\"string\""
        },
        {
         "metadata": "{}",
         "name": "tripAmount",
         "type": "\"float\""
        }
       ],
       "type": "table"
      }
     },
     "output_type": "display_data"
    }
   ],
   "source": [
    "from pyspark.sql.types import *\n",
    "from pyspark.sql.functions import *\n",
    "\n",
    "tripSchema = StructType([\n",
    "     StructField(\"tripId\", IntegerType()),\n",
    "     StructField(\"driverId\", IntegerType()),\n",
    "     StructField(\"customerId\", IntegerType()),\n",
    "     StructField(\"tripDate\", StringType()),\n",
    "     StructField(\"startLocation\", StringType()),\n",
    "     StructField(\"endLocation\", StringType()),\n",
    "     StructField(\"driverName\", StringType()),\n",
    "     StructField(\"customerName\", StringType()),\n",
    "     StructField(\"tripAmount\", FloatType())\n",
    " ])\n",
    "\n",
    "df = spark.read.load('/data/*.csv', format='csv', header=True, schema=tripSchema)\n",
    "display(df.limit(100))"
   ]
  },
  {
   "cell_type": "markdown",
   "metadata": {
    "application/vnd.databricks.v1+cell": {
     "cellMetadata": {
      "byteLimit": 2048000,
      "rowLimit": 10000
     },
     "inputWidgets": {},
     "nuid": "e0a15dec-b19d-41fc-89d3-de2f525c012a",
     "showTitle": false,
     "title": ""
    }
   },
   "source": [
    "To verify that the appropriate data types have been defined, you can view the schema of the dataframe."
   ]
  },
  {
   "cell_type": "code",
   "execution_count": null,
   "metadata": {
    "application/vnd.databricks.v1+cell": {
     "cellMetadata": {
      "byteLimit": 2048000,
      "rowLimit": 10000
     },
     "inputWidgets": {},
     "nuid": "51564386-0b13-4c01-8344-f9546c1a53dc",
     "showTitle": false,
     "title": ""
    }
   },
   "outputs": [
    {
     "name": "stdout",
     "output_type": "stream",
     "text": [
      "root\n",
      " |-- tripId: integer (nullable = true)\n",
      " |-- driverId: integer (nullable = true)\n",
      " |-- customerId: integer (nullable = true)\n",
      " |-- tripDate: string (nullable = true)\n",
      " |-- startLocation: string (nullable = true)\n",
      " |-- endLocation: string (nullable = true)\n",
      " |-- driverName: string (nullable = true)\n",
      " |-- customerName: string (nullable = true)\n",
      " |-- tripAmount: float (nullable = true)\n",
      "\n"
     ]
    }
   ],
   "source": [
    "df.printSchema()"
   ]
  },
  {
   "cell_type": "markdown",
   "metadata": {
    "application/vnd.databricks.v1+cell": {
     "cellMetadata": {},
     "inputWidgets": {},
     "nuid": "9ddc4bfb-b563-4be2-8401-c50626d2bb07",
     "showTitle": false,
     "title": ""
    }
   },
   "source": [
    "## Analyze data in a dataFrame\n",
    "The dataframe object in Spark is similar to a *Pandas* dataframe in Python, and includes a wide range of functions that you can use to manipulate, filter, group, and otherwise analyze the data it contains.\n",
    "\n",
    "## Filter a dataFrame\n",
    "\n",
    "Run the following cell to:\n",
    "\n",
    "- Filter the columns of the trips dataframe to include only the \"tripDate\" and \"tripAmount\".\n",
    "- Count the total number of trips\n",
    "- Display the trips DataFrame"
   ]
  },
  {
   "cell_type": "code",
   "execution_count": null,
   "metadata": {
    "application/vnd.databricks.v1+cell": {
     "cellMetadata": {
      "byteLimit": 2048000,
      "rowLimit": 10000
     },
     "inputWidgets": {},
     "nuid": "1fb0e17e-97e2-481e-932d-081dd0bd97a7",
     "showTitle": false,
     "title": ""
    }
   },
   "outputs": [
    {
     "name": "stdout",
     "output_type": "stream",
     "text": [
      "66\n"
     ]
    },
    {
     "data": {
      "text/html": [
       "<style scoped>\n",
       "  .table-result-container {\n",
       "    max-height: 300px;\n",
       "    overflow: auto;\n",
       "  }\n",
       "  table, th, td {\n",
       "    border: 1px solid black;\n",
       "    border-collapse: collapse;\n",
       "  }\n",
       "  th, td {\n",
       "    padding: 5px;\n",
       "  }\n",
       "  th {\n",
       "    text-align: left;\n",
       "  }\n",
       "</style><div class='table-result-container'><table class='table-result'><thead style='background-color: white'><tr><th>tripDate</th><th>tripAmount</th></tr></thead><tbody><tr><td>05/07/2022</td><td>72.14</td></tr><tr><td>12/11/2022</td><td>77.12</td></tr><tr><td>15/12/2022</td><td>75.53</td></tr><tr><td>01/03/2022</td><td>51.66</td></tr><tr><td>27/12/2022</td><td>56.12</td></tr><tr><td>20/05/2022</td><td>94.12</td></tr><tr><td>31/08/2022</td><td>71.08</td></tr><tr><td>21/01/2022</td><td>41.69</td></tr><tr><td>04/02/2022</td><td>65.92</td></tr><tr><td>26/06/2022</td><td>56.27</td></tr><tr><td>10/06/2022</td><td>39.27</td></tr><tr><td>01/01/2022</td><td>76.81</td></tr><tr><td>01/01/2022</td><td>63.77</td></tr><tr><td>30/07/2022</td><td>81.86</td></tr><tr><td>02/01/2022</td><td>48.51</td></tr><tr><td>04/07/2022</td><td>49.98</td></tr><tr><td>12/11/2022</td><td>59.0</td></tr><tr><td>10/06/2022</td><td>23.51</td></tr><tr><td>05/02/2022</td><td>49.75</td></tr><tr><td>02/06/2022</td><td>79.9</td></tr><tr><td>15/12/2022</td><td>36.49</td></tr><tr><td>30/06/2022</td><td>78.62</td></tr><tr><td>03/08/2022</td><td>29.79</td></tr><tr><td>01/01/2022</td><td>42.67</td></tr><tr><td>15/07/2022</td><td>99.17</td></tr><tr><td>31/08/2022</td><td>79.82</td></tr><tr><td>23/03/2024</td><td>72.15</td></tr><tr><td>15/03/2024</td><td>85.14</td></tr><tr><td>09/03/2024</td><td>53.64</td></tr><tr><td>03/03/2024</td><td>44.19</td></tr><tr><td>17/01/2024</td><td>62.75</td></tr><tr><td>17/01/2024</td><td>61.74</td></tr><tr><td>21/02/2024</td><td>57.88</td></tr><tr><td>18/02/2024</td><td>73.25</td></tr><tr><td>09/03/2024</td><td>52.37</td></tr><tr><td>14/04/2024</td><td>64.29</td></tr><tr><td>05/04/2024</td><td>38.27</td></tr><tr><td>25/03/2024</td><td>69.47</td></tr><tr><td>07/06/2024</td><td>78.56</td></tr><tr><td>30/05/2024</td><td>50.45</td></tr><tr><td>10/02/2024</td><td>47.89</td></tr><tr><td>05/01/2024</td><td>54.32</td></tr><tr><td>11/10/2024</td><td>49.63</td></tr><tr><td>09/03/2024</td><td>46.97</td></tr><tr><td>28/01/2024</td><td>59.36</td></tr><tr><td>17/01/2024</td><td>81.52</td></tr><tr><td>04/04/2023</td><td>75.09</td></tr><tr><td>14/10/2023</td><td>20.21</td></tr><tr><td>09/05/2023</td><td>79.63</td></tr><tr><td>21/08/2023</td><td>94.17</td></tr><tr><td>12/11/2023</td><td>58.86</td></tr><tr><td>14/08/2023</td><td>21.5</td></tr><tr><td>19/02/2023</td><td>62.84</td></tr><tr><td>14/08/2023</td><td>25.0</td></tr><tr><td>09/05/2023</td><td>63.65</td></tr><tr><td>16/08/2023</td><td>31.93</td></tr><tr><td>02/12/2023</td><td>55.86</td></tr><tr><td>16/10/2023</td><td>79.96</td></tr><tr><td>09/05/2023</td><td>28.26</td></tr><tr><td>01/03/2023</td><td>94.77</td></tr><tr><td>09/05/2023</td><td>77.39</td></tr><tr><td>09/05/2023</td><td>75.33</td></tr><tr><td>14/08/2023</td><td>73.08</td></tr><tr><td>16/03/2023</td><td>32.46</td></tr><tr><td>06/04/2023</td><td>83.85</td></tr><tr><td>16/11/2023</td><td>84.22</td></tr></tbody></table></div>"
      ]
     },
     "metadata": {
      "application/vnd.databricks.v1+output": {
       "addedWidgets": {},
       "aggData": [],
       "aggError": "",
       "aggOverflow": false,
       "aggSchema": [],
       "aggSeriesLimitReached": false,
       "aggType": "",
       "arguments": {},
       "columnCustomDisplayInfos": {},
       "data": [
        [
         "05/07/2022",
         72.14
        ],
        [
         "12/11/2022",
         77.12
        ],
        [
         "15/12/2022",
         75.53
        ],
        [
         "01/03/2022",
         51.66
        ],
        [
         "27/12/2022",
         56.12
        ],
        [
         "20/05/2022",
         94.12
        ],
        [
         "31/08/2022",
         71.08
        ],
        [
         "21/01/2022",
         41.69
        ],
        [
         "04/02/2022",
         65.92
        ],
        [
         "26/06/2022",
         56.27
        ],
        [
         "10/06/2022",
         39.27
        ],
        [
         "01/01/2022",
         76.81
        ],
        [
         "01/01/2022",
         63.77
        ],
        [
         "30/07/2022",
         81.86
        ],
        [
         "02/01/2022",
         48.51
        ],
        [
         "04/07/2022",
         49.98
        ],
        [
         "12/11/2022",
         59
        ],
        [
         "10/06/2022",
         23.51
        ],
        [
         "05/02/2022",
         49.75
        ],
        [
         "02/06/2022",
         79.9
        ],
        [
         "15/12/2022",
         36.49
        ],
        [
         "30/06/2022",
         78.62
        ],
        [
         "03/08/2022",
         29.79
        ],
        [
         "01/01/2022",
         42.67
        ],
        [
         "15/07/2022",
         99.17
        ],
        [
         "31/08/2022",
         79.82
        ],
        [
         "23/03/2024",
         72.15
        ],
        [
         "15/03/2024",
         85.14
        ],
        [
         "09/03/2024",
         53.64
        ],
        [
         "03/03/2024",
         44.19
        ],
        [
         "17/01/2024",
         62.75
        ],
        [
         "17/01/2024",
         61.74
        ],
        [
         "21/02/2024",
         57.88
        ],
        [
         "18/02/2024",
         73.25
        ],
        [
         "09/03/2024",
         52.37
        ],
        [
         "14/04/2024",
         64.29
        ],
        [
         "05/04/2024",
         38.27
        ],
        [
         "25/03/2024",
         69.47
        ],
        [
         "07/06/2024",
         78.56
        ],
        [
         "30/05/2024",
         50.45
        ],
        [
         "10/02/2024",
         47.89
        ],
        [
         "05/01/2024",
         54.32
        ],
        [
         "11/10/2024",
         49.63
        ],
        [
         "09/03/2024",
         46.97
        ],
        [
         "28/01/2024",
         59.36
        ],
        [
         "17/01/2024",
         81.52
        ],
        [
         "04/04/2023",
         75.09
        ],
        [
         "14/10/2023",
         20.21
        ],
        [
         "09/05/2023",
         79.63
        ],
        [
         "21/08/2023",
         94.17
        ],
        [
         "12/11/2023",
         58.86
        ],
        [
         "14/08/2023",
         21.5
        ],
        [
         "19/02/2023",
         62.84
        ],
        [
         "14/08/2023",
         25
        ],
        [
         "09/05/2023",
         63.65
        ],
        [
         "16/08/2023",
         31.93
        ],
        [
         "02/12/2023",
         55.86
        ],
        [
         "16/10/2023",
         79.96
        ],
        [
         "09/05/2023",
         28.26
        ],
        [
         "01/03/2023",
         94.77
        ],
        [
         "09/05/2023",
         77.39
        ],
        [
         "09/05/2023",
         75.33
        ],
        [
         "14/08/2023",
         73.08
        ],
        [
         "16/03/2023",
         32.46
        ],
        [
         "06/04/2023",
         83.85
        ],
        [
         "16/11/2023",
         84.22
        ]
       ],
       "datasetInfos": [],
       "dbfsResultPath": null,
       "isJsonSchema": true,
       "metadata": {},
       "overflow": false,
       "plotOptions": {
        "customPlotOptions": {},
        "displayType": "table",
        "pivotAggregation": null,
        "pivotColumns": null,
        "xColumns": null,
        "yColumns": null
       },
       "removedWidgets": [],
       "schema": [
        {
         "metadata": "{}",
         "name": "tripDate",
         "type": "\"string\""
        },
        {
         "metadata": "{}",
         "name": "tripAmount",
         "type": "\"float\""
        }
       ],
       "type": "table"
      }
     },
     "output_type": "display_data"
    }
   ],
   "source": [
    "trips = df['tripDate', 'tripAmount']\n",
    "print(trips.count())\n",
    "display(trips.distinct())"
   ]
  },
  {
   "cell_type": "markdown",
   "metadata": {
    "application/vnd.databricks.v1+cell": {
     "cellMetadata": {},
     "inputWidgets": {},
     "nuid": "fffd921a-0224-4b16-92e6-73556be1a0ba",
     "showTitle": false,
     "title": ""
    }
   },
   "source": [
    "Observe the following details:\n",
    "\n",
    "- When you perform an operation on a dataframe, the result is a new dataframe (in this case, a new trips dataframe is created by selecting a specific subset of columns from the df dataframe)\n",
    "- Dataframes provide functions such as count and distinct that can be used to summarize and filter the data they contain.\n",
    "\n",
    "\n",
    "Now let's apply a filter to include only the trips related to sepecific location:"
   ]
  },
  {
   "cell_type": "code",
   "execution_count": null,
   "metadata": {
    "application/vnd.databricks.v1+cell": {
     "cellMetadata": {
      "byteLimit": 2048000,
      "rowLimit": 10000
     },
     "inputWidgets": {},
     "nuid": "6c5727f1-fcd8-4ad2-a855-650df1ba5f70",
     "showTitle": false,
     "title": ""
    }
   },
   "outputs": [
    {
     "name": "stdout",
     "output_type": "stream",
     "text": [
      "5\n",
      "5\n"
     ]
    },
    {
     "data": {
      "text/html": [
       "<style scoped>\n",
       "  .table-result-container {\n",
       "    max-height: 300px;\n",
       "    overflow: auto;\n",
       "  }\n",
       "  table, th, td {\n",
       "    border: 1px solid black;\n",
       "    border-collapse: collapse;\n",
       "  }\n",
       "  th, td {\n",
       "    padding: 5px;\n",
       "  }\n",
       "  th {\n",
       "    text-align: left;\n",
       "  }\n",
       "</style><div class='table-result-container'><table class='table-result'><thead style='background-color: white'><tr><th>startLocation</th><th>tripDate</th><th>tripAmount</th></tr></thead><tbody><tr><td>San Francisco</td><td>10/06/2022</td><td>23.51</td></tr><tr><td>Denver</td><td>10/06/2022</td><td>39.27</td></tr><tr><td>Las Vegas</td><td>30/07/2022</td><td>81.86</td></tr><tr><td>Phoenix</td><td>17/01/2024</td><td>81.52</td></tr><tr><td>Miami</td><td>15/03/2024</td><td>85.14</td></tr></tbody></table></div>"
      ]
     },
     "metadata": {
      "application/vnd.databricks.v1+output": {
       "addedWidgets": {},
       "aggData": [],
       "aggError": "",
       "aggOverflow": false,
       "aggSchema": [],
       "aggSeriesLimitReached": false,
       "aggType": "",
       "arguments": {},
       "columnCustomDisplayInfos": {},
       "data": [
        [
         "San Francisco",
         "10/06/2022",
         23.51
        ],
        [
         "Denver",
         "10/06/2022",
         39.27
        ],
        [
         "Las Vegas",
         "30/07/2022",
         81.86
        ],
        [
         "Phoenix",
         "17/01/2024",
         81.52
        ],
        [
         "Miami",
         "15/03/2024",
         85.14
        ]
       ],
       "datasetInfos": [],
       "dbfsResultPath": null,
       "isJsonSchema": true,
       "metadata": {},
       "overflow": false,
       "plotOptions": {
        "customPlotOptions": {},
        "displayType": "table",
        "pivotAggregation": null,
        "pivotColumns": null,
        "xColumns": null,
        "yColumns": null
       },
       "removedWidgets": [],
       "schema": [
        {
         "metadata": "{}",
         "name": "startLocation",
         "type": "\"string\""
        },
        {
         "metadata": "{}",
         "name": "tripDate",
         "type": "\"string\""
        },
        {
         "metadata": "{}",
         "name": "tripAmount",
         "type": "\"float\""
        }
       ],
       "type": "table"
      }
     },
     "output_type": "display_data"
    }
   ],
   "source": [
    "trips = df.select('startLocation', 'tripDate', 'tripAmount').where(df['endLocation']=='New York')\n",
    "print(trips.count())\n",
    "print(trips.distinct().count())\n",
    "display(trips.distinct())"
   ]
  },
  {
   "cell_type": "code",
   "execution_count": null,
   "metadata": {
    "application/vnd.databricks.v1+cell": {
     "cellMetadata": {
      "byteLimit": 2048000,
      "rowLimit": 10000
     },
     "inputWidgets": {},
     "nuid": "80910ad7-1814-4d8b-a430-402f6bfcf76e",
     "showTitle": false,
     "title": ""
    }
   },
   "outputs": [],
   "source": [
    "tripamounts = df.select(\"startLocation\", \"tripAmount\").groupBy(\"startLocation\").sum()\n",
    "display(tripamounts)"
   ]
  },
  {
   "cell_type": "markdown",
   "metadata": {
    "application/vnd.databricks.v1+cell": {
     "cellMetadata": {},
     "inputWidgets": {},
     "nuid": "e155a6ef-e454-4b46-90e9-317404c04fbb",
     "showTitle": false,
     "title": ""
    }
   },
   "source": [
    "### Aggregate and group data in a dataframe\n",
    "\n",
    "Run the following cell to aggregate and group the trip data."
   ]
  },
  {
   "cell_type": "code",
   "execution_count": null,
   "metadata": {
    "application/vnd.databricks.v1+cell": {
     "cellMetadata": {
      "byteLimit": 2048000,
      "rowLimit": 10000
     },
     "inputWidgets": {},
     "nuid": "a29a5b58-afa9-4974-9345-b385304164e0",
     "showTitle": false,
     "title": ""
    }
   },
   "outputs": [
    {
     "data": {
      "text/html": [
       "<style scoped>\n",
       "  .table-result-container {\n",
       "    max-height: 300px;\n",
       "    overflow: auto;\n",
       "  }\n",
       "  table, th, td {\n",
       "    border: 1px solid black;\n",
       "    border-collapse: collapse;\n",
       "  }\n",
       "  th, td {\n",
       "    padding: 5px;\n",
       "  }\n",
       "  th {\n",
       "    text-align: left;\n",
       "  }\n",
       "</style><div class='table-result-container'><table class='table-result'><thead style='background-color: white'><tr><th>tripDate</th><th>sum(tripAmount)</th></tr></thead><tbody><tr><td>30/06/2022</td><td>78.62000274658203</td></tr><tr><td>21/01/2022</td><td>41.689998626708984</td></tr><tr><td>02/01/2022</td><td>48.5099983215332</td></tr><tr><td>31/08/2022</td><td>150.9000015258789</td></tr><tr><td>30/07/2022</td><td>81.86000061035156</td></tr><tr><td>05/02/2022</td><td>49.75</td></tr><tr><td>04/07/2022</td><td>49.97999954223633</td></tr><tr><td>10/06/2022</td><td>62.78000068664551</td></tr><tr><td>15/07/2022</td><td>99.16999816894531</td></tr><tr><td>26/06/2022</td><td>56.27000045776367</td></tr><tr><td>20/05/2022</td><td>94.12000274658203</td></tr><tr><td>27/12/2022</td><td>56.119998931884766</td></tr><tr><td>01/03/2022</td><td>51.65999984741211</td></tr><tr><td>12/11/2022</td><td>136.12000274658203</td></tr><tr><td>15/12/2022</td><td>112.02000045776367</td></tr><tr><td>04/02/2022</td><td>65.91999816894531</td></tr><tr><td>01/01/2022</td><td>183.24999618530273</td></tr><tr><td>05/07/2022</td><td>72.13999938964844</td></tr><tr><td>03/08/2022</td><td>29.790000915527344</td></tr><tr><td>02/06/2022</td><td>79.9000015258789</td></tr><tr><td>15/03/2024</td><td>85.13999938964844</td></tr><tr><td>14/04/2024</td><td>64.29000091552734</td></tr><tr><td>07/06/2024</td><td>78.55999755859375</td></tr><tr><td>18/02/2024</td><td>73.25</td></tr><tr><td>30/05/2024</td><td>50.45000076293945</td></tr><tr><td>21/02/2024</td><td>57.880001068115234</td></tr><tr><td>25/03/2024</td><td>69.47000122070312</td></tr><tr><td>11/10/2024</td><td>49.630001068115234</td></tr><tr><td>28/01/2024</td><td>59.36000061035156</td></tr><tr><td>17/01/2024</td><td>206.0099983215332</td></tr><tr><td>10/02/2024</td><td>47.88999938964844</td></tr><tr><td>05/01/2024</td><td>54.31999969482422</td></tr><tr><td>09/03/2024</td><td>152.97999954223633</td></tr><tr><td>03/03/2024</td><td>44.189998626708984</td></tr><tr><td>23/03/2024</td><td>72.1500015258789</td></tr><tr><td>05/04/2024</td><td>38.27000045776367</td></tr><tr><td>16/10/2023</td><td>79.95999908447266</td></tr><tr><td>12/11/2023</td><td>58.86000061035156</td></tr><tr><td>21/08/2023</td><td>94.16999816894531</td></tr><tr><td>19/02/2023</td><td>62.84000015258789</td></tr><tr><td>06/04/2023</td><td>83.8499984741211</td></tr><tr><td>14/08/2023</td><td>119.58000183105469</td></tr><tr><td>14/10/2023</td><td>20.209999084472656</td></tr><tr><td>16/03/2023</td><td>32.459999084472656</td></tr><tr><td>09/05/2023</td><td>324.26000022888184</td></tr><tr><td>02/12/2023</td><td>55.86000061035156</td></tr><tr><td>04/04/2023</td><td>75.08999633789062</td></tr><tr><td>01/03/2023</td><td>94.7699966430664</td></tr><tr><td>16/08/2023</td><td>31.93000030517578</td></tr><tr><td>16/11/2023</td><td>84.22000122070312</td></tr></tbody></table></div>"
      ]
     },
     "metadata": {
      "application/vnd.databricks.v1+output": {
       "addedWidgets": {},
       "aggData": [],
       "aggError": "",
       "aggOverflow": false,
       "aggSchema": [],
       "aggSeriesLimitReached": false,
       "aggType": "",
       "arguments": {},
       "columnCustomDisplayInfos": {},
       "data": [
        [
         "30/06/2022",
         78.62000274658203
        ],
        [
         "21/01/2022",
         41.689998626708984
        ],
        [
         "02/01/2022",
         48.5099983215332
        ],
        [
         "31/08/2022",
         150.9000015258789
        ],
        [
         "30/07/2022",
         81.86000061035156
        ],
        [
         "05/02/2022",
         49.75
        ],
        [
         "04/07/2022",
         49.97999954223633
        ],
        [
         "10/06/2022",
         62.78000068664551
        ],
        [
         "15/07/2022",
         99.16999816894531
        ],
        [
         "26/06/2022",
         56.27000045776367
        ],
        [
         "20/05/2022",
         94.12000274658203
        ],
        [
         "27/12/2022",
         56.119998931884766
        ],
        [
         "01/03/2022",
         51.65999984741211
        ],
        [
         "12/11/2022",
         136.12000274658203
        ],
        [
         "15/12/2022",
         112.02000045776367
        ],
        [
         "04/02/2022",
         65.91999816894531
        ],
        [
         "01/01/2022",
         183.24999618530273
        ],
        [
         "05/07/2022",
         72.13999938964844
        ],
        [
         "03/08/2022",
         29.790000915527344
        ],
        [
         "02/06/2022",
         79.9000015258789
        ],
        [
         "15/03/2024",
         85.13999938964844
        ],
        [
         "14/04/2024",
         64.29000091552734
        ],
        [
         "07/06/2024",
         78.55999755859375
        ],
        [
         "18/02/2024",
         73.25
        ],
        [
         "30/05/2024",
         50.45000076293945
        ],
        [
         "21/02/2024",
         57.880001068115234
        ],
        [
         "25/03/2024",
         69.47000122070312
        ],
        [
         "11/10/2024",
         49.630001068115234
        ],
        [
         "28/01/2024",
         59.36000061035156
        ],
        [
         "17/01/2024",
         206.0099983215332
        ],
        [
         "10/02/2024",
         47.88999938964844
        ],
        [
         "05/01/2024",
         54.31999969482422
        ],
        [
         "09/03/2024",
         152.97999954223633
        ],
        [
         "03/03/2024",
         44.189998626708984
        ],
        [
         "23/03/2024",
         72.1500015258789
        ],
        [
         "05/04/2024",
         38.27000045776367
        ],
        [
         "16/10/2023",
         79.95999908447266
        ],
        [
         "12/11/2023",
         58.86000061035156
        ],
        [
         "21/08/2023",
         94.16999816894531
        ],
        [
         "19/02/2023",
         62.84000015258789
        ],
        [
         "06/04/2023",
         83.8499984741211
        ],
        [
         "14/08/2023",
         119.58000183105469
        ],
        [
         "14/10/2023",
         20.209999084472656
        ],
        [
         "16/03/2023",
         32.459999084472656
        ],
        [
         "09/05/2023",
         324.26000022888184
        ],
        [
         "02/12/2023",
         55.86000061035156
        ],
        [
         "04/04/2023",
         75.08999633789062
        ],
        [
         "01/03/2023",
         94.7699966430664
        ],
        [
         "16/08/2023",
         31.93000030517578
        ],
        [
         "16/11/2023",
         84.22000122070312
        ]
       ],
       "datasetInfos": [],
       "dbfsResultPath": null,
       "isJsonSchema": true,
       "metadata": {},
       "overflow": false,
       "plotOptions": {
        "customPlotOptions": {},
        "displayType": "table",
        "pivotAggregation": null,
        "pivotColumns": null,
        "xColumns": null,
        "yColumns": null
       },
       "removedWidgets": [],
       "schema": [
        {
         "metadata": "{}",
         "name": "tripDate",
         "type": "\"string\""
        },
        {
         "metadata": "{}",
         "name": "sum(tripAmount)",
         "type": "\"double\""
        }
       ],
       "type": "table"
      }
     },
     "output_type": "display_data"
    }
   ],
   "source": [
    "trips = df.select(\"tripDate\", \"tripAmount\").groupBy(\"tripDate\").sum()\n",
    "display(trips)"
   ]
  },
  {
   "cell_type": "markdown",
   "metadata": {
    "application/vnd.databricks.v1+cell": {
     "cellMetadata": {},
     "inputWidgets": {},
     "nuid": "d4492fbe-75e3-495d-a471-f9a74e315300",
     "showTitle": false,
     "title": ""
    }
   },
   "source": [
    "Note that the results show the sum of trip amount grouped by trip date. The **groupBy** method groups the rows by *tripDate*, and the subsequent **sum** aggregate function is applied to all of the remaining numeric columns (in this case, *tripamount*)"
   ]
  },
  {
   "cell_type": "markdown",
   "metadata": {
    "application/vnd.databricks.v1+cell": {
     "cellMetadata": {},
     "inputWidgets": {},
     "nuid": "7d4aa71f-d5ac-4cb5-873f-87c8885ea43d",
     "showTitle": false,
     "title": ""
    }
   },
   "source": [
    "Let's try another aggregation."
   ]
  },
  {
   "cell_type": "code",
   "execution_count": null,
   "metadata": {
    "application/vnd.databricks.v1+cell": {
     "cellMetadata": {
      "byteLimit": 2048000,
      "rowLimit": 10000
     },
     "inputWidgets": {},
     "nuid": "9711c0d5-5cd5-4f55-abcf-0ad32594d23e",
     "showTitle": false,
     "title": ""
    }
   },
   "outputs": [
    {
     "data": {
      "text/html": [
       "<style scoped>\n",
       "  .table-result-container {\n",
       "    max-height: 300px;\n",
       "    overflow: auto;\n",
       "  }\n",
       "  table, th, td {\n",
       "    border: 1px solid black;\n",
       "    border-collapse: collapse;\n",
       "  }\n",
       "  th, td {\n",
       "    padding: 5px;\n",
       "  }\n",
       "  th {\n",
       "    text-align: left;\n",
       "  }\n",
       "</style><div class='table-result-container'><table class='table-result'><thead style='background-color: white'><tr><th>Year</th><th>count</th></tr></thead><tbody><tr><td>2022</td><td>26</td></tr><tr><td>2023</td><td>20</td></tr><tr><td>2024</td><td>20</td></tr></tbody></table></div>"
      ]
     },
     "metadata": {
      "application/vnd.databricks.v1+output": {
       "addedWidgets": {},
       "aggData": [],
       "aggError": "",
       "aggOverflow": false,
       "aggSchema": [],
       "aggSeriesLimitReached": false,
       "aggType": "",
       "arguments": {},
       "columnCustomDisplayInfos": {},
       "data": [
        [
         "2022",
         26
        ],
        [
         "2023",
         20
        ],
        [
         "2024",
         20
        ]
       ],
       "datasetInfos": [],
       "dbfsResultPath": null,
       "isJsonSchema": true,
       "metadata": {},
       "overflow": false,
       "plotOptions": {
        "customPlotOptions": {},
        "displayType": "table",
        "pivotAggregation": null,
        "pivotColumns": null,
        "xColumns": null,
        "yColumns": null
       },
       "removedWidgets": [],
       "schema": [
        {
         "metadata": "{}",
         "name": "Year",
         "type": "\"string\""
        },
        {
         "metadata": "{}",
         "name": "count",
         "type": "\"long\""
        }
       ],
       "type": "table"
      }
     },
     "output_type": "display_data"
    }
   ],
   "source": [
    "yearlytrips = df.select(substring(\"tripDate\",7,4).alias(\"Year\")).groupBy(\"Year\").count().orderBy(\"Year\")\n",
    "display(yearlytrips)"
   ]
  },
  {
   "cell_type": "markdown",
   "metadata": {
    "application/vnd.databricks.v1+cell": {
     "cellMetadata": {},
     "inputWidgets": {},
     "nuid": "bdee0529-7286-4ddf-bafd-6ff28421e088",
     "showTitle": false,
     "title": ""
    }
   },
   "source": [
    "This time the results show the number of trips per year. Note that the select method includes a SQL **substring** function to extract the year component of the *tripDate* field, and then an **alias** method is used to assign a columm name to the extracted year value. The data is then grouped by the derived *Year* column and the **count** of rows in each group is calculated before finally the **orderBy** method is used to sort the resulting dataframe.\n",
    "\n",
    "## Query data using Spark SQL\n",
    "\n",
    "As you’ve seen, the native methods of the dataframe object enable you to query and analyze data quite effectively. However, many data analysts are more comfortable working with SQL syntax. Spark SQL is a SQL language API in Spark that you can use to run SQL statements, or even persist data in relational tables.\n",
    "\n",
    "### Use Spark SQL in PySpark code\n",
    "\n",
    "The default language in Azure Synapse Studio notebooks is *PySpark*, which is a Spark-based Python runtime. Within this runtime, you can use the **spark.sql** library to embed Spark SQL syntax within your Python code, and work with SQL constructs such as tables and views."
   ]
  },
  {
   "cell_type": "code",
   "execution_count": null,
   "metadata": {
    "application/vnd.databricks.v1+cell": {
     "cellMetadata": {
      "byteLimit": 2048000,
      "rowLimit": 10000
     },
     "inputWidgets": {},
     "nuid": "310fd444-65cb-45a8-ba0d-42d876ae5bc8",
     "showTitle": false,
     "title": ""
    }
   },
   "outputs": [
    {
     "data": {
      "text/html": [
       "<style scoped>\n",
       "  .table-result-container {\n",
       "    max-height: 300px;\n",
       "    overflow: auto;\n",
       "  }\n",
       "  table, th, td {\n",
       "    border: 1px solid black;\n",
       "    border-collapse: collapse;\n",
       "  }\n",
       "  th, td {\n",
       "    padding: 5px;\n",
       "  }\n",
       "  th {\n",
       "    text-align: left;\n",
       "  }\n",
       "</style><div class='table-result-container'><table class='table-result'><thead style='background-color: white'><tr><th>tripId</th><th>driverId</th><th>customerId</th><th>tripDate</th><th>startLocation</th><th>endLocation</th><th>driverName</th><th>customerName</th><th>tripAmount</th></tr></thead><tbody><tr><td>100</td><td>200</td><td>300</td><td>01/01/2022</td><td>New York</td><td>New Jersey</td><td>John Smith</td><td>Alice Lee</td><td>63.77</td></tr><tr><td>101</td><td>201</td><td>301</td><td>01/01/2022</td><td>Miami</td><td>Dallas</td><td>Emily Johnson</td><td>Tom Clark</td><td>42.67</td></tr><tr><td>102</td><td>202</td><td>302</td><td>02/01/2022</td><td>Phoenix</td><td>Tempe</td><td>Michael Williams</td><td>Lucy Lewis</td><td>48.51</td></tr><tr><td>103</td><td>203</td><td>303</td><td>04/02/2022</td><td>LA</td><td>San Joes</td><td>Jessica Brown</td><td>Sophia Walker</td><td>65.92</td></tr><tr><td>104</td><td>204</td><td>304</td><td>05/02/2022</td><td>Seattle</td><td>Redmond</td><td>David Jones</td><td>Henry Hall</td><td>49.75</td></tr><tr><td>105</td><td>205</td><td>305</td><td>01/03/2022</td><td>Atlanta</td><td>Chicago</td><td>Chris Davis</td><td>Liam Allen</td><td>51.66</td></tr><tr><td>106</td><td>217</td><td>304</td><td>05/07/2022</td><td>Las Vegas</td><td>Miami</td><td>Daniel Lopez</td><td>Henry Hall</td><td>72.14</td></tr><tr><td>107</td><td>222</td><td>336</td><td>30/06/2022</td><td>Miami</td><td>Phoenix</td><td>Sarah Wilson</td><td>Elijah Mitchell</td><td>78.62</td></tr><tr><td>108</td><td>204</td><td>330</td><td>10/06/2022</td><td>Denver</td><td>New York</td><td>David Jones</td><td>Benjamin Nelson</td><td>39.27</td></tr><tr><td>109</td><td>246</td><td>320</td><td>15/07/2022</td><td>Atlanta</td><td>LA</td><td>Linda White</td><td>Ethan Scott</td><td>99.17</td></tr><tr><td>110</td><td>230</td><td>313</td><td>12/11/2022</td><td>LA</td><td>Miami</td><td>Paul Taylor</td><td>Jacob Wright</td><td>77.12</td></tr><tr><td>111</td><td>235</td><td>321</td><td>31/08/2022</td><td>Phoenix</td><td>Phoenix</td><td>Jennifer Moore</td><td>Aiden Green</td><td>71.08</td></tr><tr><td>112</td><td>240</td><td>350</td><td>27/12/2022</td><td>San Francisco</td><td>Atlanta</td><td>Samantha Thomas</td><td>Daniel Campbell</td><td>56.12</td></tr><tr><td>113</td><td>225</td><td>313</td><td>15/12/2022</td><td>Boston</td><td>Las Vegas</td><td>Mark Anderson</td><td>Jacob Wright</td><td>36.49</td></tr><tr><td>114</td><td>238</td><td>346</td><td>04/07/2022</td><td>Phoenix</td><td>Houston</td><td>Andrew Jackson</td><td>William Roberts</td><td>49.98</td></tr><tr><td>115</td><td>200</td><td>341</td><td>26/06/2022</td><td>Las Vegas</td><td>LA</td><td>John Smith</td><td>Alexander Perez</td><td>56.27</td></tr><tr><td>116</td><td>240</td><td>306</td><td>12/11/2022</td><td>New York</td><td>San Francisco</td><td>Samantha Thomas</td><td>Oliver Young</td><td>59.0</td></tr><tr><td>117</td><td>209</td><td>328</td><td>30/07/2022</td><td>Las Vegas</td><td>New York</td><td>Robert Miller</td><td>Lucas Adams</td><td>81.86</td></tr><tr><td>118</td><td>212</td><td>334</td><td>15/12/2022</td><td>Atlanta</td><td>Miami</td><td>Mary Martinez</td><td>Noah Carter</td><td>75.53</td></tr><tr><td>119</td><td>200</td><td>347</td><td>10/06/2022</td><td>San Francisco</td><td>New York</td><td>John Smith</td><td>Sebastian Turner</td><td>23.51</td></tr><tr><td>120</td><td>216</td><td>330</td><td>21/01/2022</td><td>Phoenix</td><td>Miami</td><td>James Hernandez</td><td>Benjamin Nelson</td><td>41.69</td></tr><tr><td>121</td><td>206</td><td>302</td><td>03/08/2022</td><td>Denver</td><td>Phoenix</td><td>Patricia Garcia</td><td>Lucy Lewis</td><td>29.79</td></tr><tr><td>122</td><td>201</td><td>311</td><td>20/05/2022</td><td>San Francisco</td><td>Las Vegas</td><td>Emily Johnson</td><td>Mason King</td><td>94.12</td></tr><tr><td>123</td><td>200</td><td>322</td><td>31/08/2022</td><td>Seattle</td><td>Boston</td><td>John Smith</td><td>Logan Baker</td><td>79.82</td></tr><tr><td>124</td><td>205</td><td>337</td><td>01/01/2022</td><td>Las Vegas</td><td>LA</td><td>Chris Davis</td><td>NaN</td><td>76.81</td></tr><tr><td>125</td><td>206</td><td>349</td><td>02/06/2022</td><td>Phoenix</td><td>San Francisco</td><td>Patricia Garcia</td><td>Matthew Phillips</td><td>79.9</td></tr><tr><td>146</td><td>200</td><td>300</td><td>05/01/2024</td><td>New York</td><td>Miami</td><td>John Smith</td><td>Alice Lee</td><td>54.32</td></tr><tr><td>147</td><td>201</td><td>301</td><td>17/01/2024</td><td>Los Angeles</td><td>Seattle</td><td>Emily Johnson</td><td>Tom Clark</td><td>62.75</td></tr><tr><td>148</td><td>202</td><td>302</td><td>10/02/2024</td><td>San Francisco</td><td>Denver</td><td>Michael Williams</td><td>Lucy Lewis</td><td>47.89</td></tr><tr><td>149</td><td>203</td><td>303</td><td>23/03/2024</td><td>Miami</td><td>Boston</td><td>Jessica Brown</td><td>Sophia Walker</td><td>72.15</td></tr><tr><td>150</td><td>204</td><td>304</td><td>05/04/2024</td><td>Atlanta</td><td>Chicago</td><td>David Jones</td><td>Henry Hall</td><td>38.27</td></tr><tr><td>151</td><td>205</td><td>305</td><td>09/03/2024</td><td>Seattle</td><td>Phoenix</td><td>Chris Davis</td><td>Liam Allen</td><td>53.64</td></tr><tr><td>152</td><td>206</td><td>306</td><td>17/01/2024</td><td>Phoenix</td><td>New York</td><td>Patricia Garcia</td><td>Oliver Young</td><td>81.52</td></tr><tr><td>153</td><td>209</td><td>311</td><td>25/03/2024</td><td>Denver</td><td>Los Angeles</td><td>Robert Miller</td><td>Mason King</td><td>69.47</td></tr><tr><td>154</td><td>212</td><td>320</td><td>03/03/2024</td><td>Houston</td><td>San Francisco</td><td>Mary Martinez</td><td>Ethan Scott</td><td>44.19</td></tr><tr><td>155</td><td>216</td><td>321</td><td>21/02/2024</td><td>Chicago</td><td>Miami</td><td>James Hernandez</td><td>Aiden Green</td><td>57.88</td></tr><tr><td>156</td><td>217</td><td>322</td><td>11/10/2024</td><td>Boston</td><td>Atlanta</td><td>Daniel Lopez</td><td>Logan Baker</td><td>49.63</td></tr><tr><td>157</td><td>222</td><td>328</td><td>17/01/2024</td><td>Las Vegas</td><td>Houston</td><td>Sarah Wilson</td><td>Lucas Adams</td><td>61.74</td></tr><tr><td>158</td><td>225</td><td>330</td><td>18/02/2024</td><td>New York</td><td>Denver</td><td>Mark Anderson</td><td>Benjamin Nelson</td><td>73.25</td></tr><tr><td>159</td><td>230</td><td>334</td><td>28/01/2024</td><td>Los Angeles</td><td>Seattle</td><td>Paul Taylor</td><td>Noah Carter</td><td>59.36</td></tr><tr><td>160</td><td>235</td><td>336</td><td>15/03/2024</td><td>Miami</td><td>New York</td><td>Jennifer Moore</td><td>Elijah Mitchell</td><td>85.14</td></tr><tr><td>161</td><td>238</td><td>341</td><td>09/03/2024</td><td>Denver</td><td>San Francisco</td><td>Andrew Jackson</td><td>Alexander Perez</td><td>46.97</td></tr><tr><td>162</td><td>240</td><td>346</td><td>30/05/2024</td><td>Chicago</td><td>Phoenix</td><td>Samantha Thomas</td><td>William Roberts</td><td>50.45</td></tr><tr><td>163</td><td>246</td><td>347</td><td>14/04/2024</td><td>Houston</td><td>Atlanta</td><td>Linda White</td><td>Sebastian Turner</td><td>64.29</td></tr><tr><td>164</td><td>200</td><td>349</td><td>09/03/2024</td><td>Seattle</td><td>Boston</td><td>John Smith</td><td>Matthew Phillips</td><td>52.37</td></tr><tr><td>165</td><td>201</td><td>350</td><td>07/06/2024</td><td>Phoenix</td><td>Los Angeles</td><td>Emily Johnson</td><td>Daniel Campbell</td><td>78.56</td></tr><tr><td>126</td><td>211</td><td>347</td><td>21/08/2023</td><td>Denver</td><td>Houston</td><td>NaN</td><td>Sebastian Turner</td><td>94.17</td></tr><tr><td>127</td><td>241</td><td>346</td><td>09/05/2023</td><td>Houston</td><td>Las Vegas</td><td>NaN</td><td>William Roberts</td><td>63.65</td></tr><tr><td>128</td><td>201</td><td>339</td><td>16/11/2023</td><td>Boston</td><td>Houston</td><td>Emily Johnson</td><td>NaN</td><td>84.22</td></tr><tr><td>129</td><td>250</td><td>306</td><td>14/08/2023</td><td>San Francisco</td><td>Seattle</td><td>NaN</td><td>Oliver Young</td><td>25.0</td></tr><tr><td>130</td><td>244</td><td>341</td><td>16/08/2023</td><td>Houston</td><td>LA</td><td>NaN</td><td>Alexander Perez</td><td>31.93</td></tr><tr><td>131</td><td>218</td><td>329</td><td>14/10/2023</td><td>Denver</td><td>Boston</td><td>NaN</td><td>NaN</td><td>20.21</td></tr><tr><td>132</td><td>204</td><td>307</td><td>09/05/2023</td><td>Seattle</td><td>Atlanta</td><td>David Jones</td><td>NaN</td><td>75.33</td></tr><tr><td>133</td><td>201</td><td>332</td><td>09/05/2023</td><td>New York</td><td>Phoenix</td><td>Emily Johnson</td><td>NaN</td><td>79.63</td></tr><tr><td>134</td><td>215</td><td>339</td><td>19/02/2023</td><td>Houston</td><td>Atlanta</td><td>NaN</td><td>NaN</td><td>62.84</td></tr><tr><td>135</td><td>218</td><td>313</td><td>06/04/2023</td><td>Phoenix</td><td>Atlanta</td><td>NaN</td><td>Jacob Wright</td><td>83.85</td></tr><tr><td>136</td><td>234</td><td>302</td><td>04/04/2023</td><td>Boston</td><td>San Francisco</td><td>NaN</td><td>Lucy Lewis</td><td>75.09</td></tr><tr><td>137</td><td>211</td><td>324</td><td>16/10/2023</td><td>Seattle</td><td>Atlanta</td><td>NaN</td><td>NaN</td><td>79.96</td></tr><tr><td>138</td><td>223</td><td>328</td><td>16/03/2023</td><td>San Francisco</td><td>Seattle</td><td>NaN</td><td>Lucas Adams</td><td>32.46</td></tr><tr><td>139</td><td>203</td><td>317</td><td>09/05/2023</td><td>Miami</td><td>Houston</td><td>Jessica Brown</td><td>NaN</td><td>28.26</td></tr><tr><td>140</td><td>211</td><td>339</td><td>02/12/2023</td><td>Las Vegas</td><td>Miami</td><td>NaN</td><td>NaN</td><td>55.86</td></tr><tr><td>141</td><td>215</td><td>334</td><td>14/08/2023</td><td>New York</td><td>Boston</td><td>NaN</td><td>Noah Carter</td><td>73.08</td></tr><tr><td>142</td><td>213</td><td>329</td><td>01/03/2023</td><td>LA</td><td>Phoenix</td><td>NaN</td><td>NaN</td><td>94.77</td></tr><tr><td>143</td><td>220</td><td>338</td><td>09/05/2023</td><td>Las Vegas</td><td>Miami</td><td>NaN</td><td>NaN</td><td>77.39</td></tr><tr><td>144</td><td>246</td><td>318</td><td>14/08/2023</td><td>Boston</td><td>Seattle</td><td>Linda White</td><td>NaN</td><td>21.5</td></tr><tr><td>145</td><td>203</td><td>326</td><td>12/11/2023</td><td>Seattle</td><td>LA</td><td>Jessica Brown</td><td>NaN</td><td>58.86</td></tr></tbody></table></div>"
      ]
     },
     "metadata": {
      "application/vnd.databricks.v1+output": {
       "addedWidgets": {},
       "aggData": [],
       "aggError": "",
       "aggOverflow": false,
       "aggSchema": [],
       "aggSeriesLimitReached": false,
       "aggType": "",
       "arguments": {},
       "columnCustomDisplayInfos": {},
       "data": [
        [
         100,
         200,
         300,
         "01/01/2022",
         "New York",
         "New Jersey",
         "John Smith",
         "Alice Lee",
         63.77
        ],
        [
         101,
         201,
         301,
         "01/01/2022",
         "Miami",
         "Dallas",
         "Emily Johnson",
         "Tom Clark",
         42.67
        ],
        [
         102,
         202,
         302,
         "02/01/2022",
         "Phoenix",
         "Tempe",
         "Michael Williams",
         "Lucy Lewis",
         48.51
        ],
        [
         103,
         203,
         303,
         "04/02/2022",
         "LA",
         "San Joes",
         "Jessica Brown",
         "Sophia Walker",
         65.92
        ],
        [
         104,
         204,
         304,
         "05/02/2022",
         "Seattle",
         "Redmond",
         "David Jones",
         "Henry Hall",
         49.75
        ],
        [
         105,
         205,
         305,
         "01/03/2022",
         "Atlanta",
         "Chicago",
         "Chris Davis",
         "Liam Allen",
         51.66
        ],
        [
         106,
         217,
         304,
         "05/07/2022",
         "Las Vegas",
         "Miami",
         "Daniel Lopez",
         "Henry Hall",
         72.14
        ],
        [
         107,
         222,
         336,
         "30/06/2022",
         "Miami",
         "Phoenix",
         "Sarah Wilson",
         "Elijah Mitchell",
         78.62
        ],
        [
         108,
         204,
         330,
         "10/06/2022",
         "Denver",
         "New York",
         "David Jones",
         "Benjamin Nelson",
         39.27
        ],
        [
         109,
         246,
         320,
         "15/07/2022",
         "Atlanta",
         "LA",
         "Linda White",
         "Ethan Scott",
         99.17
        ],
        [
         110,
         230,
         313,
         "12/11/2022",
         "LA",
         "Miami",
         "Paul Taylor",
         "Jacob Wright",
         77.12
        ],
        [
         111,
         235,
         321,
         "31/08/2022",
         "Phoenix",
         "Phoenix",
         "Jennifer Moore",
         "Aiden Green",
         71.08
        ],
        [
         112,
         240,
         350,
         "27/12/2022",
         "San Francisco",
         "Atlanta",
         "Samantha Thomas",
         "Daniel Campbell",
         56.12
        ],
        [
         113,
         225,
         313,
         "15/12/2022",
         "Boston",
         "Las Vegas",
         "Mark Anderson",
         "Jacob Wright",
         36.49
        ],
        [
         114,
         238,
         346,
         "04/07/2022",
         "Phoenix",
         "Houston",
         "Andrew Jackson",
         "William Roberts",
         49.98
        ],
        [
         115,
         200,
         341,
         "26/06/2022",
         "Las Vegas",
         "LA",
         "John Smith",
         "Alexander Perez",
         56.27
        ],
        [
         116,
         240,
         306,
         "12/11/2022",
         "New York",
         "San Francisco",
         "Samantha Thomas",
         "Oliver Young",
         59
        ],
        [
         117,
         209,
         328,
         "30/07/2022",
         "Las Vegas",
         "New York",
         "Robert Miller",
         "Lucas Adams",
         81.86
        ],
        [
         118,
         212,
         334,
         "15/12/2022",
         "Atlanta",
         "Miami",
         "Mary Martinez",
         "Noah Carter",
         75.53
        ],
        [
         119,
         200,
         347,
         "10/06/2022",
         "San Francisco",
         "New York",
         "John Smith",
         "Sebastian Turner",
         23.51
        ],
        [
         120,
         216,
         330,
         "21/01/2022",
         "Phoenix",
         "Miami",
         "James Hernandez",
         "Benjamin Nelson",
         41.69
        ],
        [
         121,
         206,
         302,
         "03/08/2022",
         "Denver",
         "Phoenix",
         "Patricia Garcia",
         "Lucy Lewis",
         29.79
        ],
        [
         122,
         201,
         311,
         "20/05/2022",
         "San Francisco",
         "Las Vegas",
         "Emily Johnson",
         "Mason King",
         94.12
        ],
        [
         123,
         200,
         322,
         "31/08/2022",
         "Seattle",
         "Boston",
         "John Smith",
         "Logan Baker",
         79.82
        ],
        [
         124,
         205,
         337,
         "01/01/2022",
         "Las Vegas",
         "LA",
         "Chris Davis",
         "NaN",
         76.81
        ],
        [
         125,
         206,
         349,
         "02/06/2022",
         "Phoenix",
         "San Francisco",
         "Patricia Garcia",
         "Matthew Phillips",
         79.9
        ],
        [
         146,
         200,
         300,
         "05/01/2024",
         "New York",
         "Miami",
         "John Smith",
         "Alice Lee",
         54.32
        ],
        [
         147,
         201,
         301,
         "17/01/2024",
         "Los Angeles",
         "Seattle",
         "Emily Johnson",
         "Tom Clark",
         62.75
        ],
        [
         148,
         202,
         302,
         "10/02/2024",
         "San Francisco",
         "Denver",
         "Michael Williams",
         "Lucy Lewis",
         47.89
        ],
        [
         149,
         203,
         303,
         "23/03/2024",
         "Miami",
         "Boston",
         "Jessica Brown",
         "Sophia Walker",
         72.15
        ],
        [
         150,
         204,
         304,
         "05/04/2024",
         "Atlanta",
         "Chicago",
         "David Jones",
         "Henry Hall",
         38.27
        ],
        [
         151,
         205,
         305,
         "09/03/2024",
         "Seattle",
         "Phoenix",
         "Chris Davis",
         "Liam Allen",
         53.64
        ],
        [
         152,
         206,
         306,
         "17/01/2024",
         "Phoenix",
         "New York",
         "Patricia Garcia",
         "Oliver Young",
         81.52
        ],
        [
         153,
         209,
         311,
         "25/03/2024",
         "Denver",
         "Los Angeles",
         "Robert Miller",
         "Mason King",
         69.47
        ],
        [
         154,
         212,
         320,
         "03/03/2024",
         "Houston",
         "San Francisco",
         "Mary Martinez",
         "Ethan Scott",
         44.19
        ],
        [
         155,
         216,
         321,
         "21/02/2024",
         "Chicago",
         "Miami",
         "James Hernandez",
         "Aiden Green",
         57.88
        ],
        [
         156,
         217,
         322,
         "11/10/2024",
         "Boston",
         "Atlanta",
         "Daniel Lopez",
         "Logan Baker",
         49.63
        ],
        [
         157,
         222,
         328,
         "17/01/2024",
         "Las Vegas",
         "Houston",
         "Sarah Wilson",
         "Lucas Adams",
         61.74
        ],
        [
         158,
         225,
         330,
         "18/02/2024",
         "New York",
         "Denver",
         "Mark Anderson",
         "Benjamin Nelson",
         73.25
        ],
        [
         159,
         230,
         334,
         "28/01/2024",
         "Los Angeles",
         "Seattle",
         "Paul Taylor",
         "Noah Carter",
         59.36
        ],
        [
         160,
         235,
         336,
         "15/03/2024",
         "Miami",
         "New York",
         "Jennifer Moore",
         "Elijah Mitchell",
         85.14
        ],
        [
         161,
         238,
         341,
         "09/03/2024",
         "Denver",
         "San Francisco",
         "Andrew Jackson",
         "Alexander Perez",
         46.97
        ],
        [
         162,
         240,
         346,
         "30/05/2024",
         "Chicago",
         "Phoenix",
         "Samantha Thomas",
         "William Roberts",
         50.45
        ],
        [
         163,
         246,
         347,
         "14/04/2024",
         "Houston",
         "Atlanta",
         "Linda White",
         "Sebastian Turner",
         64.29
        ],
        [
         164,
         200,
         349,
         "09/03/2024",
         "Seattle",
         "Boston",
         "John Smith",
         "Matthew Phillips",
         52.37
        ],
        [
         165,
         201,
         350,
         "07/06/2024",
         "Phoenix",
         "Los Angeles",
         "Emily Johnson",
         "Daniel Campbell",
         78.56
        ],
        [
         126,
         211,
         347,
         "21/08/2023",
         "Denver",
         "Houston",
         "NaN",
         "Sebastian Turner",
         94.17
        ],
        [
         127,
         241,
         346,
         "09/05/2023",
         "Houston",
         "Las Vegas",
         "NaN",
         "William Roberts",
         63.65
        ],
        [
         128,
         201,
         339,
         "16/11/2023",
         "Boston",
         "Houston",
         "Emily Johnson",
         "NaN",
         84.22
        ],
        [
         129,
         250,
         306,
         "14/08/2023",
         "San Francisco",
         "Seattle",
         "NaN",
         "Oliver Young",
         25
        ],
        [
         130,
         244,
         341,
         "16/08/2023",
         "Houston",
         "LA",
         "NaN",
         "Alexander Perez",
         31.93
        ],
        [
         131,
         218,
         329,
         "14/10/2023",
         "Denver",
         "Boston",
         "NaN",
         "NaN",
         20.21
        ],
        [
         132,
         204,
         307,
         "09/05/2023",
         "Seattle",
         "Atlanta",
         "David Jones",
         "NaN",
         75.33
        ],
        [
         133,
         201,
         332,
         "09/05/2023",
         "New York",
         "Phoenix",
         "Emily Johnson",
         "NaN",
         79.63
        ],
        [
         134,
         215,
         339,
         "19/02/2023",
         "Houston",
         "Atlanta",
         "NaN",
         "NaN",
         62.84
        ],
        [
         135,
         218,
         313,
         "06/04/2023",
         "Phoenix",
         "Atlanta",
         "NaN",
         "Jacob Wright",
         83.85
        ],
        [
         136,
         234,
         302,
         "04/04/2023",
         "Boston",
         "San Francisco",
         "NaN",
         "Lucy Lewis",
         75.09
        ],
        [
         137,
         211,
         324,
         "16/10/2023",
         "Seattle",
         "Atlanta",
         "NaN",
         "NaN",
         79.96
        ],
        [
         138,
         223,
         328,
         "16/03/2023",
         "San Francisco",
         "Seattle",
         "NaN",
         "Lucas Adams",
         32.46
        ],
        [
         139,
         203,
         317,
         "09/05/2023",
         "Miami",
         "Houston",
         "Jessica Brown",
         "NaN",
         28.26
        ],
        [
         140,
         211,
         339,
         "02/12/2023",
         "Las Vegas",
         "Miami",
         "NaN",
         "NaN",
         55.86
        ],
        [
         141,
         215,
         334,
         "14/08/2023",
         "New York",
         "Boston",
         "NaN",
         "Noah Carter",
         73.08
        ],
        [
         142,
         213,
         329,
         "01/03/2023",
         "LA",
         "Phoenix",
         "NaN",
         "NaN",
         94.77
        ],
        [
         143,
         220,
         338,
         "09/05/2023",
         "Las Vegas",
         "Miami",
         "NaN",
         "NaN",
         77.39
        ],
        [
         144,
         246,
         318,
         "14/08/2023",
         "Boston",
         "Seattle",
         "Linda White",
         "NaN",
         21.5
        ],
        [
         145,
         203,
         326,
         "12/11/2023",
         "Seattle",
         "LA",
         "Jessica Brown",
         "NaN",
         58.86
        ]
       ],
       "datasetInfos": [],
       "dbfsResultPath": null,
       "isJsonSchema": true,
       "metadata": {},
       "overflow": false,
       "plotOptions": {
        "customPlotOptions": {},
        "displayType": "table",
        "pivotAggregation": null,
        "pivotColumns": null,
        "xColumns": null,
        "yColumns": null
       },
       "removedWidgets": [],
       "schema": [
        {
         "metadata": "{}",
         "name": "tripId",
         "type": "\"integer\""
        },
        {
         "metadata": "{}",
         "name": "driverId",
         "type": "\"integer\""
        },
        {
         "metadata": "{}",
         "name": "customerId",
         "type": "\"integer\""
        },
        {
         "metadata": "{}",
         "name": "tripDate",
         "type": "\"string\""
        },
        {
         "metadata": "{}",
         "name": "startLocation",
         "type": "\"string\""
        },
        {
         "metadata": "{}",
         "name": "endLocation",
         "type": "\"string\""
        },
        {
         "metadata": "{}",
         "name": "driverName",
         "type": "\"string\""
        },
        {
         "metadata": "{}",
         "name": "customerName",
         "type": "\"string\""
        },
        {
         "metadata": "{}",
         "name": "tripAmount",
         "type": "\"float\""
        }
       ],
       "type": "table"
      }
     },
     "output_type": "display_data"
    }
   ],
   "source": [
    "df.createOrReplaceTempView(\"tripsdata\")\n",
    "\n",
    "spark_df = spark.sql(\"SELECT * FROM tripsdata\")\n",
    "display(spark_df)"
   ]
  },
  {
   "cell_type": "markdown",
   "metadata": {
    "application/vnd.databricks.v1+cell": {
     "cellMetadata": {},
     "inputWidgets": {},
     "nuid": "999490fb-069f-44ab-be86-a99a2499e15d",
     "showTitle": false,
     "title": ""
    }
   },
   "source": [
    "Observe that:\n",
    "\n",
    "- The code persists the data in the **df** dataframe as a temporary view named **tripsdata**. Spark SQL supports the use of temporary views or persisted tables as sources for SQL queries.\n",
    "- The **spark.sql** method is then used to run a SQL query against the **tripsdata** view.\n",
    "- The results of the query are stored in a dataframe.\n",
    "\n",
    "### Run SQL code in a cell\n",
    "\n",
    "While it’s useful to be able to embed SQL statements into a cell containing PySpark code, data analysts often just want to work directly in SQL."
   ]
  },
  {
   "cell_type": "code",
   "execution_count": null,
   "metadata": {
    "application/vnd.databricks.v1+cell": {
     "cellMetadata": {
      "byteLimit": 2048000,
      "implicitDf": true,
      "rowLimit": 10000
     },
     "inputWidgets": {},
     "nuid": "e6187695-2bf6-4406-9139-2d12ec6eae81",
     "showTitle": false,
     "title": ""
    }
   },
   "outputs": [
    {
     "data": {
      "text/html": [
       "<style scoped>\n",
       "  .table-result-container {\n",
       "    max-height: 300px;\n",
       "    overflow: auto;\n",
       "  }\n",
       "  table, th, td {\n",
       "    border: 1px solid black;\n",
       "    border-collapse: collapse;\n",
       "  }\n",
       "  th, td {\n",
       "    padding: 5px;\n",
       "  }\n",
       "  th {\n",
       "    text-align: left;\n",
       "  }\n",
       "</style><div class='table-result-container'><table class='table-result'><thead style='background-color: white'><tr><th>TripYear</th><th>TripAmount</th></tr></thead><tbody><tr><td>2022</td><td>1600.5700016021729</td></tr><tr><td>2023</td><td>1218.0599918365479</td></tr><tr><td>2024</td><td>1203.840000152588</td></tr></tbody></table></div>"
      ]
     },
     "metadata": {
      "application/vnd.databricks.v1+output": {
       "addedWidgets": {},
       "aggData": [],
       "aggError": "",
       "aggOverflow": false,
       "aggSchema": [],
       "aggSeriesLimitReached": false,
       "aggType": "",
       "arguments": {},
       "columnCustomDisplayInfos": {},
       "data": [
        [
         "2022",
         1600.5700016021729
        ],
        [
         "2023",
         1218.0599918365479
        ],
        [
         "2024",
         1203.840000152588
        ]
       ],
       "datasetInfos": [],
       "dbfsResultPath": null,
       "isJsonSchema": true,
       "metadata": {
        "dataframeName": "_sqldf",
        "executionCount": 64
       },
       "overflow": false,
       "plotOptions": {
        "customPlotOptions": {},
        "displayType": "table",
        "pivotAggregation": null,
        "pivotColumns": null,
        "xColumns": null,
        "yColumns": null
       },
       "removedWidgets": [],
       "schema": [
        {
         "metadata": "{}",
         "name": "TripYear",
         "type": "\"string\""
        },
        {
         "metadata": "{}",
         "name": "TripAmount",
         "type": "\"double\""
        }
       ],
       "type": "table"
      }
     },
     "output_type": "display_data"
    }
   ],
   "source": [
    "%sql\n",
    "\n",
    "SELECT substring(tripDate,7,4) AS TripYear,\n",
    "    SUM(tripAmount) AS TripAmount\n",
    "FROM tripsdata\n",
    "GROUP BY TripYear\n",
    "ORDER BY TripYear;"
   ]
  },
  {
   "cell_type": "markdown",
   "metadata": {
    "application/vnd.databricks.v1+cell": {
     "cellMetadata": {},
     "inputWidgets": {},
     "nuid": "5cf1ee77-5512-4443-a54e-2efbab29e334",
     "showTitle": false,
     "title": ""
    }
   },
   "source": [
    "Observe that:\n",
    "\n",
    "- The ``%sql` line at the beginning of the cell (called a magic) indicates that the Spark SQL language runtime should be used to run the code in this cell instead of PySpark.\n",
    "- The SQL code references the **tripsdata** view that you created previously using PySpark.\n",
    "- The output from the SQL query is automatically displayed as the result under the cell.\n",
    "\n",
    "## Visualize data with Spark\n",
    "\n",
    "A chart is often better than a thousand rows of data. While notebooks in Azure Databricks include support for visualizing data from a dataframe or Spark SQL query, it is not designed for comprehensive charting. However, you can use Python graphics libraries like matplotlib and seaborn to create charts from data in dataframes.\n",
    "\n",
    "### View results as a visualization\n",
    "\n",
    "Run the following cell to query the **tripsdata** table"
   ]
  },
  {
   "cell_type": "code",
   "execution_count": null,
   "metadata": {
    "application/vnd.databricks.v1+cell": {
     "cellMetadata": {
      "byteLimit": 2048000,
      "implicitDf": true,
      "rowLimit": 10000
     },
     "inputWidgets": {},
     "nuid": "33113899-1e3f-4d42-8ab6-df5448e406f1",
     "showTitle": false,
     "title": ""
    }
   },
   "outputs": [
    {
     "data": {
      "text/html": [
       "<style scoped>\n",
       "  .table-result-container {\n",
       "    max-height: 300px;\n",
       "    overflow: auto;\n",
       "  }\n",
       "  table, th, td {\n",
       "    border: 1px solid black;\n",
       "    border-collapse: collapse;\n",
       "  }\n",
       "  th, td {\n",
       "    padding: 5px;\n",
       "  }\n",
       "  th {\n",
       "    text-align: left;\n",
       "  }\n",
       "</style><div class='table-result-container'><table class='table-result'><thead style='background-color: white'><tr><th>tripId</th><th>driverId</th><th>customerId</th><th>tripDate</th><th>startLocation</th><th>endLocation</th><th>driverName</th><th>customerName</th><th>tripAmount</th></tr></thead><tbody><tr><td>100</td><td>200</td><td>300</td><td>01/01/2022</td><td>New York</td><td>New Jersey</td><td>John Smith</td><td>Alice Lee</td><td>63.77</td></tr><tr><td>101</td><td>201</td><td>301</td><td>01/01/2022</td><td>Miami</td><td>Dallas</td><td>Emily Johnson</td><td>Tom Clark</td><td>42.67</td></tr><tr><td>102</td><td>202</td><td>302</td><td>02/01/2022</td><td>Phoenix</td><td>Tempe</td><td>Michael Williams</td><td>Lucy Lewis</td><td>48.51</td></tr><tr><td>103</td><td>203</td><td>303</td><td>04/02/2022</td><td>LA</td><td>San Joes</td><td>Jessica Brown</td><td>Sophia Walker</td><td>65.92</td></tr><tr><td>104</td><td>204</td><td>304</td><td>05/02/2022</td><td>Seattle</td><td>Redmond</td><td>David Jones</td><td>Henry Hall</td><td>49.75</td></tr><tr><td>105</td><td>205</td><td>305</td><td>01/03/2022</td><td>Atlanta</td><td>Chicago</td><td>Chris Davis</td><td>Liam Allen</td><td>51.66</td></tr><tr><td>106</td><td>217</td><td>304</td><td>05/07/2022</td><td>Las Vegas</td><td>Miami</td><td>Daniel Lopez</td><td>Henry Hall</td><td>72.14</td></tr><tr><td>107</td><td>222</td><td>336</td><td>30/06/2022</td><td>Miami</td><td>Phoenix</td><td>Sarah Wilson</td><td>Elijah Mitchell</td><td>78.62</td></tr><tr><td>108</td><td>204</td><td>330</td><td>10/06/2022</td><td>Denver</td><td>New York</td><td>David Jones</td><td>Benjamin Nelson</td><td>39.27</td></tr><tr><td>109</td><td>246</td><td>320</td><td>15/07/2022</td><td>Atlanta</td><td>LA</td><td>Linda White</td><td>Ethan Scott</td><td>99.17</td></tr><tr><td>110</td><td>230</td><td>313</td><td>12/11/2022</td><td>LA</td><td>Miami</td><td>Paul Taylor</td><td>Jacob Wright</td><td>77.12</td></tr><tr><td>111</td><td>235</td><td>321</td><td>31/08/2022</td><td>Phoenix</td><td>Phoenix</td><td>Jennifer Moore</td><td>Aiden Green</td><td>71.08</td></tr><tr><td>112</td><td>240</td><td>350</td><td>27/12/2022</td><td>San Francisco</td><td>Atlanta</td><td>Samantha Thomas</td><td>Daniel Campbell</td><td>56.12</td></tr><tr><td>113</td><td>225</td><td>313</td><td>15/12/2022</td><td>Boston</td><td>Las Vegas</td><td>Mark Anderson</td><td>Jacob Wright</td><td>36.49</td></tr><tr><td>114</td><td>238</td><td>346</td><td>04/07/2022</td><td>Phoenix</td><td>Houston</td><td>Andrew Jackson</td><td>William Roberts</td><td>49.98</td></tr><tr><td>115</td><td>200</td><td>341</td><td>26/06/2022</td><td>Las Vegas</td><td>LA</td><td>John Smith</td><td>Alexander Perez</td><td>56.27</td></tr><tr><td>116</td><td>240</td><td>306</td><td>12/11/2022</td><td>New York</td><td>San Francisco</td><td>Samantha Thomas</td><td>Oliver Young</td><td>59.0</td></tr><tr><td>117</td><td>209</td><td>328</td><td>30/07/2022</td><td>Las Vegas</td><td>New York</td><td>Robert Miller</td><td>Lucas Adams</td><td>81.86</td></tr><tr><td>118</td><td>212</td><td>334</td><td>15/12/2022</td><td>Atlanta</td><td>Miami</td><td>Mary Martinez</td><td>Noah Carter</td><td>75.53</td></tr><tr><td>119</td><td>200</td><td>347</td><td>10/06/2022</td><td>San Francisco</td><td>New York</td><td>John Smith</td><td>Sebastian Turner</td><td>23.51</td></tr><tr><td>120</td><td>216</td><td>330</td><td>21/01/2022</td><td>Phoenix</td><td>Miami</td><td>James Hernandez</td><td>Benjamin Nelson</td><td>41.69</td></tr><tr><td>121</td><td>206</td><td>302</td><td>03/08/2022</td><td>Denver</td><td>Phoenix</td><td>Patricia Garcia</td><td>Lucy Lewis</td><td>29.79</td></tr><tr><td>122</td><td>201</td><td>311</td><td>20/05/2022</td><td>San Francisco</td><td>Las Vegas</td><td>Emily Johnson</td><td>Mason King</td><td>94.12</td></tr><tr><td>123</td><td>200</td><td>322</td><td>31/08/2022</td><td>Seattle</td><td>Boston</td><td>John Smith</td><td>Logan Baker</td><td>79.82</td></tr><tr><td>124</td><td>205</td><td>337</td><td>01/01/2022</td><td>Las Vegas</td><td>LA</td><td>Chris Davis</td><td>NaN</td><td>76.81</td></tr><tr><td>125</td><td>206</td><td>349</td><td>02/06/2022</td><td>Phoenix</td><td>San Francisco</td><td>Patricia Garcia</td><td>Matthew Phillips</td><td>79.9</td></tr><tr><td>146</td><td>200</td><td>300</td><td>05/01/2024</td><td>New York</td><td>Miami</td><td>John Smith</td><td>Alice Lee</td><td>54.32</td></tr><tr><td>147</td><td>201</td><td>301</td><td>17/01/2024</td><td>Los Angeles</td><td>Seattle</td><td>Emily Johnson</td><td>Tom Clark</td><td>62.75</td></tr><tr><td>148</td><td>202</td><td>302</td><td>10/02/2024</td><td>San Francisco</td><td>Denver</td><td>Michael Williams</td><td>Lucy Lewis</td><td>47.89</td></tr><tr><td>149</td><td>203</td><td>303</td><td>23/03/2024</td><td>Miami</td><td>Boston</td><td>Jessica Brown</td><td>Sophia Walker</td><td>72.15</td></tr><tr><td>150</td><td>204</td><td>304</td><td>05/04/2024</td><td>Atlanta</td><td>Chicago</td><td>David Jones</td><td>Henry Hall</td><td>38.27</td></tr><tr><td>151</td><td>205</td><td>305</td><td>09/03/2024</td><td>Seattle</td><td>Phoenix</td><td>Chris Davis</td><td>Liam Allen</td><td>53.64</td></tr><tr><td>152</td><td>206</td><td>306</td><td>17/01/2024</td><td>Phoenix</td><td>New York</td><td>Patricia Garcia</td><td>Oliver Young</td><td>81.52</td></tr><tr><td>153</td><td>209</td><td>311</td><td>25/03/2024</td><td>Denver</td><td>Los Angeles</td><td>Robert Miller</td><td>Mason King</td><td>69.47</td></tr><tr><td>154</td><td>212</td><td>320</td><td>03/03/2024</td><td>Houston</td><td>San Francisco</td><td>Mary Martinez</td><td>Ethan Scott</td><td>44.19</td></tr><tr><td>155</td><td>216</td><td>321</td><td>21/02/2024</td><td>Chicago</td><td>Miami</td><td>James Hernandez</td><td>Aiden Green</td><td>57.88</td></tr><tr><td>156</td><td>217</td><td>322</td><td>11/10/2024</td><td>Boston</td><td>Atlanta</td><td>Daniel Lopez</td><td>Logan Baker</td><td>49.63</td></tr><tr><td>157</td><td>222</td><td>328</td><td>17/01/2024</td><td>Las Vegas</td><td>Houston</td><td>Sarah Wilson</td><td>Lucas Adams</td><td>61.74</td></tr><tr><td>158</td><td>225</td><td>330</td><td>18/02/2024</td><td>New York</td><td>Denver</td><td>Mark Anderson</td><td>Benjamin Nelson</td><td>73.25</td></tr><tr><td>159</td><td>230</td><td>334</td><td>28/01/2024</td><td>Los Angeles</td><td>Seattle</td><td>Paul Taylor</td><td>Noah Carter</td><td>59.36</td></tr><tr><td>160</td><td>235</td><td>336</td><td>15/03/2024</td><td>Miami</td><td>New York</td><td>Jennifer Moore</td><td>Elijah Mitchell</td><td>85.14</td></tr><tr><td>161</td><td>238</td><td>341</td><td>09/03/2024</td><td>Denver</td><td>San Francisco</td><td>Andrew Jackson</td><td>Alexander Perez</td><td>46.97</td></tr><tr><td>162</td><td>240</td><td>346</td><td>30/05/2024</td><td>Chicago</td><td>Phoenix</td><td>Samantha Thomas</td><td>William Roberts</td><td>50.45</td></tr><tr><td>163</td><td>246</td><td>347</td><td>14/04/2024</td><td>Houston</td><td>Atlanta</td><td>Linda White</td><td>Sebastian Turner</td><td>64.29</td></tr><tr><td>164</td><td>200</td><td>349</td><td>09/03/2024</td><td>Seattle</td><td>Boston</td><td>John Smith</td><td>Matthew Phillips</td><td>52.37</td></tr><tr><td>165</td><td>201</td><td>350</td><td>07/06/2024</td><td>Phoenix</td><td>Los Angeles</td><td>Emily Johnson</td><td>Daniel Campbell</td><td>78.56</td></tr><tr><td>126</td><td>211</td><td>347</td><td>21/08/2023</td><td>Denver</td><td>Houston</td><td>NaN</td><td>Sebastian Turner</td><td>94.17</td></tr><tr><td>127</td><td>241</td><td>346</td><td>09/05/2023</td><td>Houston</td><td>Las Vegas</td><td>NaN</td><td>William Roberts</td><td>63.65</td></tr><tr><td>128</td><td>201</td><td>339</td><td>16/11/2023</td><td>Boston</td><td>Houston</td><td>Emily Johnson</td><td>NaN</td><td>84.22</td></tr><tr><td>129</td><td>250</td><td>306</td><td>14/08/2023</td><td>San Francisco</td><td>Seattle</td><td>NaN</td><td>Oliver Young</td><td>25.0</td></tr><tr><td>130</td><td>244</td><td>341</td><td>16/08/2023</td><td>Houston</td><td>LA</td><td>NaN</td><td>Alexander Perez</td><td>31.93</td></tr><tr><td>131</td><td>218</td><td>329</td><td>14/10/2023</td><td>Denver</td><td>Boston</td><td>NaN</td><td>NaN</td><td>20.21</td></tr><tr><td>132</td><td>204</td><td>307</td><td>09/05/2023</td><td>Seattle</td><td>Atlanta</td><td>David Jones</td><td>NaN</td><td>75.33</td></tr><tr><td>133</td><td>201</td><td>332</td><td>09/05/2023</td><td>New York</td><td>Phoenix</td><td>Emily Johnson</td><td>NaN</td><td>79.63</td></tr><tr><td>134</td><td>215</td><td>339</td><td>19/02/2023</td><td>Houston</td><td>Atlanta</td><td>NaN</td><td>NaN</td><td>62.84</td></tr><tr><td>135</td><td>218</td><td>313</td><td>06/04/2023</td><td>Phoenix</td><td>Atlanta</td><td>NaN</td><td>Jacob Wright</td><td>83.85</td></tr><tr><td>136</td><td>234</td><td>302</td><td>04/04/2023</td><td>Boston</td><td>San Francisco</td><td>NaN</td><td>Lucy Lewis</td><td>75.09</td></tr><tr><td>137</td><td>211</td><td>324</td><td>16/10/2023</td><td>Seattle</td><td>Atlanta</td><td>NaN</td><td>NaN</td><td>79.96</td></tr><tr><td>138</td><td>223</td><td>328</td><td>16/03/2023</td><td>San Francisco</td><td>Seattle</td><td>NaN</td><td>Lucas Adams</td><td>32.46</td></tr><tr><td>139</td><td>203</td><td>317</td><td>09/05/2023</td><td>Miami</td><td>Houston</td><td>Jessica Brown</td><td>NaN</td><td>28.26</td></tr><tr><td>140</td><td>211</td><td>339</td><td>02/12/2023</td><td>Las Vegas</td><td>Miami</td><td>NaN</td><td>NaN</td><td>55.86</td></tr><tr><td>141</td><td>215</td><td>334</td><td>14/08/2023</td><td>New York</td><td>Boston</td><td>NaN</td><td>Noah Carter</td><td>73.08</td></tr><tr><td>142</td><td>213</td><td>329</td><td>01/03/2023</td><td>LA</td><td>Phoenix</td><td>NaN</td><td>NaN</td><td>94.77</td></tr><tr><td>143</td><td>220</td><td>338</td><td>09/05/2023</td><td>Las Vegas</td><td>Miami</td><td>NaN</td><td>NaN</td><td>77.39</td></tr><tr><td>144</td><td>246</td><td>318</td><td>14/08/2023</td><td>Boston</td><td>Seattle</td><td>Linda White</td><td>NaN</td><td>21.5</td></tr><tr><td>145</td><td>203</td><td>326</td><td>12/11/2023</td><td>Seattle</td><td>LA</td><td>Jessica Brown</td><td>NaN</td><td>58.86</td></tr></tbody></table></div>"
      ]
     },
     "metadata": {
      "application/vnd.databricks.v1+output": {
       "addedWidgets": {},
       "aggData": [],
       "aggError": "",
       "aggOverflow": false,
       "aggSchema": [],
       "aggSeriesLimitReached": false,
       "aggType": "",
       "arguments": {},
       "columnCustomDisplayInfos": {},
       "data": [
        [
         100,
         200,
         300,
         "01/01/2022",
         "New York",
         "New Jersey",
         "John Smith",
         "Alice Lee",
         63.77
        ],
        [
         101,
         201,
         301,
         "01/01/2022",
         "Miami",
         "Dallas",
         "Emily Johnson",
         "Tom Clark",
         42.67
        ],
        [
         102,
         202,
         302,
         "02/01/2022",
         "Phoenix",
         "Tempe",
         "Michael Williams",
         "Lucy Lewis",
         48.51
        ],
        [
         103,
         203,
         303,
         "04/02/2022",
         "LA",
         "San Joes",
         "Jessica Brown",
         "Sophia Walker",
         65.92
        ],
        [
         104,
         204,
         304,
         "05/02/2022",
         "Seattle",
         "Redmond",
         "David Jones",
         "Henry Hall",
         49.75
        ],
        [
         105,
         205,
         305,
         "01/03/2022",
         "Atlanta",
         "Chicago",
         "Chris Davis",
         "Liam Allen",
         51.66
        ],
        [
         106,
         217,
         304,
         "05/07/2022",
         "Las Vegas",
         "Miami",
         "Daniel Lopez",
         "Henry Hall",
         72.14
        ],
        [
         107,
         222,
         336,
         "30/06/2022",
         "Miami",
         "Phoenix",
         "Sarah Wilson",
         "Elijah Mitchell",
         78.62
        ],
        [
         108,
         204,
         330,
         "10/06/2022",
         "Denver",
         "New York",
         "David Jones",
         "Benjamin Nelson",
         39.27
        ],
        [
         109,
         246,
         320,
         "15/07/2022",
         "Atlanta",
         "LA",
         "Linda White",
         "Ethan Scott",
         99.17
        ],
        [
         110,
         230,
         313,
         "12/11/2022",
         "LA",
         "Miami",
         "Paul Taylor",
         "Jacob Wright",
         77.12
        ],
        [
         111,
         235,
         321,
         "31/08/2022",
         "Phoenix",
         "Phoenix",
         "Jennifer Moore",
         "Aiden Green",
         71.08
        ],
        [
         112,
         240,
         350,
         "27/12/2022",
         "San Francisco",
         "Atlanta",
         "Samantha Thomas",
         "Daniel Campbell",
         56.12
        ],
        [
         113,
         225,
         313,
         "15/12/2022",
         "Boston",
         "Las Vegas",
         "Mark Anderson",
         "Jacob Wright",
         36.49
        ],
        [
         114,
         238,
         346,
         "04/07/2022",
         "Phoenix",
         "Houston",
         "Andrew Jackson",
         "William Roberts",
         49.98
        ],
        [
         115,
         200,
         341,
         "26/06/2022",
         "Las Vegas",
         "LA",
         "John Smith",
         "Alexander Perez",
         56.27
        ],
        [
         116,
         240,
         306,
         "12/11/2022",
         "New York",
         "San Francisco",
         "Samantha Thomas",
         "Oliver Young",
         59
        ],
        [
         117,
         209,
         328,
         "30/07/2022",
         "Las Vegas",
         "New York",
         "Robert Miller",
         "Lucas Adams",
         81.86
        ],
        [
         118,
         212,
         334,
         "15/12/2022",
         "Atlanta",
         "Miami",
         "Mary Martinez",
         "Noah Carter",
         75.53
        ],
        [
         119,
         200,
         347,
         "10/06/2022",
         "San Francisco",
         "New York",
         "John Smith",
         "Sebastian Turner",
         23.51
        ],
        [
         120,
         216,
         330,
         "21/01/2022",
         "Phoenix",
         "Miami",
         "James Hernandez",
         "Benjamin Nelson",
         41.69
        ],
        [
         121,
         206,
         302,
         "03/08/2022",
         "Denver",
         "Phoenix",
         "Patricia Garcia",
         "Lucy Lewis",
         29.79
        ],
        [
         122,
         201,
         311,
         "20/05/2022",
         "San Francisco",
         "Las Vegas",
         "Emily Johnson",
         "Mason King",
         94.12
        ],
        [
         123,
         200,
         322,
         "31/08/2022",
         "Seattle",
         "Boston",
         "John Smith",
         "Logan Baker",
         79.82
        ],
        [
         124,
         205,
         337,
         "01/01/2022",
         "Las Vegas",
         "LA",
         "Chris Davis",
         "NaN",
         76.81
        ],
        [
         125,
         206,
         349,
         "02/06/2022",
         "Phoenix",
         "San Francisco",
         "Patricia Garcia",
         "Matthew Phillips",
         79.9
        ],
        [
         146,
         200,
         300,
         "05/01/2024",
         "New York",
         "Miami",
         "John Smith",
         "Alice Lee",
         54.32
        ],
        [
         147,
         201,
         301,
         "17/01/2024",
         "Los Angeles",
         "Seattle",
         "Emily Johnson",
         "Tom Clark",
         62.75
        ],
        [
         148,
         202,
         302,
         "10/02/2024",
         "San Francisco",
         "Denver",
         "Michael Williams",
         "Lucy Lewis",
         47.89
        ],
        [
         149,
         203,
         303,
         "23/03/2024",
         "Miami",
         "Boston",
         "Jessica Brown",
         "Sophia Walker",
         72.15
        ],
        [
         150,
         204,
         304,
         "05/04/2024",
         "Atlanta",
         "Chicago",
         "David Jones",
         "Henry Hall",
         38.27
        ],
        [
         151,
         205,
         305,
         "09/03/2024",
         "Seattle",
         "Phoenix",
         "Chris Davis",
         "Liam Allen",
         53.64
        ],
        [
         152,
         206,
         306,
         "17/01/2024",
         "Phoenix",
         "New York",
         "Patricia Garcia",
         "Oliver Young",
         81.52
        ],
        [
         153,
         209,
         311,
         "25/03/2024",
         "Denver",
         "Los Angeles",
         "Robert Miller",
         "Mason King",
         69.47
        ],
        [
         154,
         212,
         320,
         "03/03/2024",
         "Houston",
         "San Francisco",
         "Mary Martinez",
         "Ethan Scott",
         44.19
        ],
        [
         155,
         216,
         321,
         "21/02/2024",
         "Chicago",
         "Miami",
         "James Hernandez",
         "Aiden Green",
         57.88
        ],
        [
         156,
         217,
         322,
         "11/10/2024",
         "Boston",
         "Atlanta",
         "Daniel Lopez",
         "Logan Baker",
         49.63
        ],
        [
         157,
         222,
         328,
         "17/01/2024",
         "Las Vegas",
         "Houston",
         "Sarah Wilson",
         "Lucas Adams",
         61.74
        ],
        [
         158,
         225,
         330,
         "18/02/2024",
         "New York",
         "Denver",
         "Mark Anderson",
         "Benjamin Nelson",
         73.25
        ],
        [
         159,
         230,
         334,
         "28/01/2024",
         "Los Angeles",
         "Seattle",
         "Paul Taylor",
         "Noah Carter",
         59.36
        ],
        [
         160,
         235,
         336,
         "15/03/2024",
         "Miami",
         "New York",
         "Jennifer Moore",
         "Elijah Mitchell",
         85.14
        ],
        [
         161,
         238,
         341,
         "09/03/2024",
         "Denver",
         "San Francisco",
         "Andrew Jackson",
         "Alexander Perez",
         46.97
        ],
        [
         162,
         240,
         346,
         "30/05/2024",
         "Chicago",
         "Phoenix",
         "Samantha Thomas",
         "William Roberts",
         50.45
        ],
        [
         163,
         246,
         347,
         "14/04/2024",
         "Houston",
         "Atlanta",
         "Linda White",
         "Sebastian Turner",
         64.29
        ],
        [
         164,
         200,
         349,
         "09/03/2024",
         "Seattle",
         "Boston",
         "John Smith",
         "Matthew Phillips",
         52.37
        ],
        [
         165,
         201,
         350,
         "07/06/2024",
         "Phoenix",
         "Los Angeles",
         "Emily Johnson",
         "Daniel Campbell",
         78.56
        ],
        [
         126,
         211,
         347,
         "21/08/2023",
         "Denver",
         "Houston",
         "NaN",
         "Sebastian Turner",
         94.17
        ],
        [
         127,
         241,
         346,
         "09/05/2023",
         "Houston",
         "Las Vegas",
         "NaN",
         "William Roberts",
         63.65
        ],
        [
         128,
         201,
         339,
         "16/11/2023",
         "Boston",
         "Houston",
         "Emily Johnson",
         "NaN",
         84.22
        ],
        [
         129,
         250,
         306,
         "14/08/2023",
         "San Francisco",
         "Seattle",
         "NaN",
         "Oliver Young",
         25
        ],
        [
         130,
         244,
         341,
         "16/08/2023",
         "Houston",
         "LA",
         "NaN",
         "Alexander Perez",
         31.93
        ],
        [
         131,
         218,
         329,
         "14/10/2023",
         "Denver",
         "Boston",
         "NaN",
         "NaN",
         20.21
        ],
        [
         132,
         204,
         307,
         "09/05/2023",
         "Seattle",
         "Atlanta",
         "David Jones",
         "NaN",
         75.33
        ],
        [
         133,
         201,
         332,
         "09/05/2023",
         "New York",
         "Phoenix",
         "Emily Johnson",
         "NaN",
         79.63
        ],
        [
         134,
         215,
         339,
         "19/02/2023",
         "Houston",
         "Atlanta",
         "NaN",
         "NaN",
         62.84
        ],
        [
         135,
         218,
         313,
         "06/04/2023",
         "Phoenix",
         "Atlanta",
         "NaN",
         "Jacob Wright",
         83.85
        ],
        [
         136,
         234,
         302,
         "04/04/2023",
         "Boston",
         "San Francisco",
         "NaN",
         "Lucy Lewis",
         75.09
        ],
        [
         137,
         211,
         324,
         "16/10/2023",
         "Seattle",
         "Atlanta",
         "NaN",
         "NaN",
         79.96
        ],
        [
         138,
         223,
         328,
         "16/03/2023",
         "San Francisco",
         "Seattle",
         "NaN",
         "Lucas Adams",
         32.46
        ],
        [
         139,
         203,
         317,
         "09/05/2023",
         "Miami",
         "Houston",
         "Jessica Brown",
         "NaN",
         28.26
        ],
        [
         140,
         211,
         339,
         "02/12/2023",
         "Las Vegas",
         "Miami",
         "NaN",
         "NaN",
         55.86
        ],
        [
         141,
         215,
         334,
         "14/08/2023",
         "New York",
         "Boston",
         "NaN",
         "Noah Carter",
         73.08
        ],
        [
         142,
         213,
         329,
         "01/03/2023",
         "LA",
         "Phoenix",
         "NaN",
         "NaN",
         94.77
        ],
        [
         143,
         220,
         338,
         "09/05/2023",
         "Las Vegas",
         "Miami",
         "NaN",
         "NaN",
         77.39
        ],
        [
         144,
         246,
         318,
         "14/08/2023",
         "Boston",
         "Seattle",
         "Linda White",
         "NaN",
         21.5
        ],
        [
         145,
         203,
         326,
         "12/11/2023",
         "Seattle",
         "LA",
         "Jessica Brown",
         "NaN",
         58.86
        ]
       ],
       "datasetInfos": [],
       "dbfsResultPath": null,
       "isJsonSchema": true,
       "metadata": {
        "dataframeName": "_sqldf",
        "executionCount": 65
       },
       "overflow": false,
       "plotOptions": {
        "customPlotOptions": {},
        "displayType": "table",
        "pivotAggregation": null,
        "pivotColumns": null,
        "xColumns": null,
        "yColumns": null
       },
       "removedWidgets": [],
       "schema": [
        {
         "metadata": "{}",
         "name": "tripId",
         "type": "\"integer\""
        },
        {
         "metadata": "{}",
         "name": "driverId",
         "type": "\"integer\""
        },
        {
         "metadata": "{}",
         "name": "customerId",
         "type": "\"integer\""
        },
        {
         "metadata": "{}",
         "name": "tripDate",
         "type": "\"string\""
        },
        {
         "metadata": "{}",
         "name": "startLocation",
         "type": "\"string\""
        },
        {
         "metadata": "{}",
         "name": "endLocation",
         "type": "\"string\""
        },
        {
         "metadata": "{}",
         "name": "driverName",
         "type": "\"string\""
        },
        {
         "metadata": "{}",
         "name": "customerName",
         "type": "\"string\""
        },
        {
         "metadata": "{}",
         "name": "tripAmount",
         "type": "\"float\""
        }
       ],
       "type": "table"
      }
     },
     "output_type": "display_data"
    }
   ],
   "source": [
    "%sql\n",
    "\n",
    "SELECT * FROM tripsdata"
   ]
  },
  {
   "cell_type": "markdown",
   "metadata": {
    "application/vnd.databricks.v1+cell": {
     "cellMetadata": {},
     "inputWidgets": {},
     "nuid": "5e55323c-647c-465d-b2eb-00202076f371",
     "showTitle": false,
     "title": ""
    }
   },
   "source": [
    "Above the table of results, select **+** and then select **Visualization** to view the visualization editor, and then apply the following options:\n",
    "    - **Visualization type**: Bar\n",
    "    - **X Column**: Item\n",
    "    - **Y Column**: *Add a new column and select* **TripAmount**. *Apply the* **Sum** *aggregation*.\n",
    "    \n",
    "  Save the visualization and then re-run the code cell to view the resulting chart in the notebook.\n",
    "\n",
    "### Get started with matplotlib\n",
    "\n",
    "You can get more control over data visualizations by using graphics libraries.\n",
    "\n",
    "Run the following cell to retrieve some sales order data into a dataframe."
   ]
  },
  {
   "cell_type": "code",
   "execution_count": null,
   "metadata": {
    "application/vnd.databricks.v1+cell": {
     "cellMetadata": {
      "byteLimit": 2048000,
      "rowLimit": 10000
     },
     "inputWidgets": {},
     "nuid": "19ee2506-ed0c-4ee5-89a9-061ac62f1645",
     "showTitle": false,
     "title": ""
    }
   },
   "outputs": [
    {
     "name": "stdout",
     "output_type": "stream",
     "text": [
      "+--------+------------------+\n",
      "|TripYear|        TripAmount|\n",
      "+--------+------------------+\n",
      "|    2022|1600.5700016021729|\n",
      "|    2023|1218.0599918365479|\n",
      "|    2024| 1203.840000152588|\n",
      "+--------+------------------+\n",
      "\n"
     ]
    }
   ],
   "source": [
    "sqlQuery = \"SELECT substring(tripDate,7,4) AS TripYear, \\\n",
    "             SUM(tripAmount) AS TripAmount \\\n",
    "         FROM tripsdata \\\n",
    "         GROUP BY substring(tripDate,7,4) \\\n",
    "         ORDER BY TripYear\"\n",
    "df_spark = spark.sql(sqlQuery)\n",
    "df_spark.show()"
   ]
  },
  {
   "cell_type": "markdown",
   "metadata": {
    "application/vnd.databricks.v1+cell": {
     "cellMetadata": {},
     "inputWidgets": {},
     "nuid": "490547f7-9c9c-41e3-9656-c3f89aa0321c",
     "showTitle": false,
     "title": ""
    }
   },
   "source": [
    "To visualize the data as a chart, we’ll start by using the matplotlib Python library. This library is the core plotting library on which many others are based, and provides a great deal of flexibility in creating charts."
   ]
  },
  {
   "cell_type": "code",
   "execution_count": null,
   "metadata": {
    "application/vnd.databricks.v1+cell": {
     "cellMetadata": {
      "byteLimit": 2048000,
      "rowLimit": 10000
     },
     "inputWidgets": {},
     "nuid": "21ac813b-317b-410a-8acc-73f85d455c9c",
     "showTitle": false,
     "title": ""
    }
   },
   "outputs": [
    {
     "data": {
      "image/png": "[encoded data removed]",
      "text/plain": [
       "<Figure size 640x480 with 1 Axes>"
      ]
     },
     "metadata": {},
     "output_type": "display_data"
    }
   ],
   "source": [
    "from matplotlib import pyplot as plt\n",
    "\n",
    "# matplotlib requires a Pandas dataframe, not a Spark one\n",
    "df_trips = df_spark.toPandas()\n",
    "\n",
    "# Create a bar plot of revenue by year\n",
    "plt.bar(x=df_trips['TripYear'], height=df_trips['TripAmount'])\n",
    "\n",
    "# Display the plot\n",
    "plt.show()"
   ]
  },
  {
   "cell_type": "markdown",
   "metadata": {
    "application/vnd.databricks.v1+cell": {
     "cellMetadata": {},
     "inputWidgets": {},
     "nuid": "4b0c7b53-5719-44d1-b022-f8ce7951cf80",
     "showTitle": false,
     "title": ""
    }
   },
   "source": [
    "Review the results, which consist of a column chart with the total trip amount for each year. Note the following features of the code used to produce this chart:\n",
    "\n",
    "- The **matplotlib** library requires a Pandas dataframe, so you need to convert the Spark dataframe returned by the Spark SQL query to this format.\n",
    "- At the core of the **matplotlib** library is the **pyplot** object. This is the foundation for most plotting functionality.\n",
    "- The default settings result in a usable chart, but there’s considerable scope to customize it, as you'll see by running the following cell."
   ]
  },
  {
   "cell_type": "code",
   "execution_count": null,
   "metadata": {
    "application/vnd.databricks.v1+cell": {
     "cellMetadata": {
      "byteLimit": 2048000,
      "rowLimit": 10000
     },
     "inputWidgets": {},
     "nuid": "8cb88753-fede-4b05-af00-87959696b2c9",
     "showTitle": false,
     "title": ""
    }
   },
   "outputs": [
    {
     "data": {
      "image/png": "[encoded data removed]",
      "text/plain": [
       "<Figure size 640x480 with 1 Axes>"
      ]
     },
     "metadata": {},
     "output_type": "display_data"
    }
   ],
   "source": [
    "# Clear the plot area\n",
    "plt.clf()\n",
    "\n",
    "# Create a bar plot of revenue by year\n",
    "plt.bar(x=df_trips['TripYear'], height=df_trips['TripAmount'], color='orange')\n",
    "\n",
    "# Customize the chart\n",
    "plt.title('Trip Amount by Year')\n",
    "plt.xlabel('Year')\n",
    "plt.ylabel('TripAmount')\n",
    "plt.grid(color='#95a5a6', linestyle='--', linewidth=2, axis='y', alpha=0.7)\n",
    "plt.xticks(rotation=45)\n",
    "\n",
    "# Show the figure\n",
    "plt.show()"
   ]
  },
  {
   "cell_type": "markdown",
   "metadata": {
    "application/vnd.databricks.v1+cell": {
     "cellMetadata": {},
     "inputWidgets": {},
     "nuid": "bdba7815-123b-46f8-87a2-bd3405c4958c",
     "showTitle": false,
     "title": ""
    }
   },
   "source": [
    "A plot is technically contained with a **Figure**. In the previous examples, the figure was created implicitly for you; but you can create it explicitly."
   ]
  },
  {
   "cell_type": "code",
   "execution_count": null,
   "metadata": {
    "application/vnd.databricks.v1+cell": {
     "cellMetadata": {
      "byteLimit": 2048000,
      "rowLimit": 10000
     },
     "inputWidgets": {},
     "nuid": "d76fb538-dce5-4918-a534-ed19cf90b4bb",
     "showTitle": false,
     "title": ""
    }
   },
   "outputs": [
    {
     "data": {
      "text/plain": [
       "<Figure size 640x480 with 0 Axes>"
      ]
     },
     "metadata": {},
     "output_type": "display_data"
    },
    {
     "data": {
      "image/png": "[encoded data removed]",
      "text/plain": [
       "<Figure size 800x300 with 1 Axes>"
      ]
     },
     "metadata": {},
     "output_type": "display_data"
    }
   ],
   "source": [
    "# Clear the plot area\n",
    "plt.clf()\n",
    "\n",
    "# Create a Figure\n",
    "fig = plt.figure(figsize=(8,3))\n",
    "\n",
    "# Create a bar plot of revenue by year\n",
    "plt.bar(x=df_trips['TripYear'], height=df_trips['TripAmount'], color='orange')\n",
    "\n",
    "# Customize the chart\n",
    "plt.title('Trip Amount by Year')\n",
    "plt.xlabel('Year')\n",
    "plt.ylabel('TripAmount')\n",
    "plt.grid(color='#95a5a6', linestyle='--', linewidth=2, axis='y', alpha=0.7)\n",
    "plt.xticks(rotation=45)\n",
    "\n",
    "# Show the figure\n",
    "plt.show()"
   ]
  },
  {
   "cell_type": "markdown",
   "metadata": {
    "application/vnd.databricks.v1+cell": {
     "cellMetadata": {},
     "inputWidgets": {},
     "nuid": "ae72e5ae-c1de-492e-b7a2-03b759a3d68e",
     "showTitle": false,
     "title": ""
    }
   },
   "source": [
    "A figure can contain multiple subplots, each on its own axis."
   ]
  },
  {
   "cell_type": "code",
   "execution_count": null,
   "metadata": {
    "application/vnd.databricks.v1+cell": {
     "cellMetadata": {
      "byteLimit": 2048000,
      "rowLimit": 10000
     },
     "inputWidgets": {},
     "nuid": "44648bf7-9a5c-4bcf-b6b8-a3634a33bec8",
     "showTitle": false,
     "title": ""
    }
   },
   "outputs": [
    {
     "data": {
      "text/plain": [
       "<Figure size 640x480 with 0 Axes>"
      ]
     },
     "metadata": {},
     "output_type": "display_data"
    },
    {
     "data": {
      "image/png": "[encoded data removed]",
      "text/plain": [
       "<Figure size 1000x400 with 2 Axes>"
      ]
     },
     "metadata": {},
     "output_type": "display_data"
    }
   ],
   "source": [
    "# Clear the plot area\n",
    "plt.clf()\n",
    "\n",
    "# Create a figure for 2 subplots (1 row, 2 columns)\n",
    "fig, ax = plt.subplots(1, 2, figsize = (10,4))\n",
    "\n",
    "# Create a bar plot of revenue by year on the first axis\n",
    "ax[0].bar(x=df_trips['TripYear'], height=df_trips['TripAmount'], color='orange')\n",
    "ax[0].set_title('Trip Amount by Year')\n",
    "\n",
    "# Create a pie chart of yearly order counts on the second axis\n",
    "yearly_counts = df_trips['TripYear'].value_counts()\n",
    "ax[1].pie(yearly_counts)\n",
    "ax[1].set_title('Trips per Year')\n",
    "ax[1].legend(yearly_counts.keys().tolist())\n",
    "\n",
    "# Add a title to the Figure\n",
    "fig.suptitle('Trips Data')\n",
    "\n",
    "# Show the figure\n",
    "plt.show()"
   ]
  },
  {
   "cell_type": "markdown",
   "metadata": {
    "application/vnd.databricks.v1+cell": {
     "cellMetadata": {},
     "inputWidgets": {},
     "nuid": "63d16660-8eb8-4163-8a7b-01ba93e07d6f",
     "showTitle": false,
     "title": ""
    }
   },
   "source": [
    "### Use the seaborn library\n",
    "\n",
    "While **matplotlib** enables you to create complex charts of multiple types, it can require some complex code to achieve the best results. For this reason, over the years, many new libraries have been built on the base of matplotlib to abstract its complexity and enhance its capabilities. One such library is **seaborn**."
   ]
  },
  {
   "cell_type": "code",
   "execution_count": null,
   "metadata": {
    "application/vnd.databricks.v1+cell": {
     "cellMetadata": {
      "byteLimit": 2048000,
      "rowLimit": 10000
     },
     "inputWidgets": {},
     "nuid": "9adc033b-7933-49e5-9ae8-fca4d217c13b",
     "showTitle": false,
     "title": ""
    }
   },
   "outputs": [
    {
     "data": {
      "image/png": "[encoded data removed]",
      "text/plain": [
       "<Figure size 640x480 with 1 Axes>"
      ]
     },
     "metadata": {},
     "output_type": "display_data"
    }
   ],
   "source": [
    "import seaborn as sns\n",
    "\n",
    "# Clear the plot area\n",
    "plt.clf()\n",
    "\n",
    "# Create a bar chart\n",
    "ax = sns.barplot(x=\"TripYear\", y=\"TripAmount\", data=df_trips)\n",
    "plt.show()"
   ]
  },
  {
   "cell_type": "markdown",
   "metadata": {
    "application/vnd.databricks.v1+cell": {
     "cellMetadata": {},
     "inputWidgets": {},
     "nuid": "58e2e210-9014-4d14-94b4-b4050daf2052",
     "showTitle": false,
     "title": ""
    }
   },
   "source": [
    "The **seaborn** library makes it simpler to create complex plots of statistical data, and enables you to control the visual theme for consistent data visualizations."
   ]
  },
  {
   "cell_type": "code",
   "execution_count": null,
   "metadata": {
    "application/vnd.databricks.v1+cell": {
     "cellMetadata": {
      "byteLimit": 2048000,
      "rowLimit": 10000
     },
     "inputWidgets": {},
     "nuid": "f38e1664-b27f-4afe-bf35-fd79fb9b5b11",
     "showTitle": false,
     "title": ""
    }
   },
   "outputs": [
    {
     "data": {
      "image/png": "[encoded data removed]",
      "text/plain": [
       "<Figure size 640x480 with 1 Axes>"
      ]
     },
     "metadata": {},
     "output_type": "display_data"
    }
   ],
   "source": [
    "# Clear the plot area\n",
    "plt.clf()\n",
    "\n",
    "# Set the visual theme for seaborn\n",
    "sns.set_theme(style=\"whitegrid\")\n",
    "\n",
    "# Create a bar chart\n",
    "ax = sns.barplot(x=\"TripYear\", y=\"TripAmount\", data=df_trips)\n",
    "plt.show()"
   ]
  },
  {
   "cell_type": "markdown",
   "metadata": {
    "application/vnd.databricks.v1+cell": {
     "cellMetadata": {},
     "inputWidgets": {},
     "nuid": "a8387b1f-a3e1-457d-8263-fa3e7fde99b4",
     "showTitle": false,
     "title": ""
    }
   },
   "source": [
    "Both **matplotlib** and **seaborn** support multiple charts types. For example, run the following cell to view the yearly trip amounts totals as a line chart."
   ]
  },
  {
   "cell_type": "code",
   "execution_count": null,
   "metadata": {
    "application/vnd.databricks.v1+cell": {
     "cellMetadata": {
      "byteLimit": 2048000,
      "rowLimit": 10000
     },
     "inputWidgets": {},
     "nuid": "71e1e6eb-3f2b-400b-8c51-79e214d08bd8",
     "showTitle": false,
     "title": ""
    }
   },
   "outputs": [
    {
     "data": {
      "image/png": "[encoded data removed]",
      "text/plain": [
       "<Figure size 640x480 with 1 Axes>"
      ]
     },
     "metadata": {},
     "output_type": "display_data"
    }
   ],
   "source": [
    "# Clear the plot area\n",
    "plt.clf()\n",
    "\n",
    "# Create a bar chart\n",
    "ax = sns.lineplot(x=\"TripYear\", y=\"TripAmount\", data=df_trips)\n",
    "plt.show()"
   ]
  },
  {
   "cell_type": "markdown",
   "metadata": {
    "application/vnd.databricks.v1+cell": {
     "cellMetadata": {},
     "inputWidgets": {},
     "nuid": "c6e34f38-1ed7-4633-ae40-6a5d1acb2a4d",
     "showTitle": false,
     "title": ""
    }
   },
   "source": [
    "In this notebook, you've explored the techniques for using Spark to explore and analyze data. To learn more about working with Dataframes in Azure Databricks using PySpark, see **SQL Serverless and Spark Clusters** section in **Chapter 3, Designing and Implementing the Data Exploration Layer**."
   ]
  },
  {
   "cell_type": "code",
   "execution_count": null,
   "metadata": {},
   "outputs": [],
   "source": []
  },
  {
   "cell_type": "code",
   "execution_count": null,
   "metadata": {},
   "outputs": [],
   "source": []
  }
 ],
 "metadata": {
  "application/vnd.databricks.v1+notebook": {
   "dashboards": [],
   "environmentMetadata": null,
   "language": "python",
   "notebookMetadata": {
    "mostRecentlyExecutedCommandWithImplicitDF": {
     "commandId": 833984010151232,
     "dataframes": [
      "_sqldf"
     ]
    },
    "pythonIndentUnit": 4
   },
   "notebookName": "Untitled Notebook 2024-06-03 22:23:12",
   "widgets": {}
  },
  "language_info": {
   "name": "python"
  }
 },
 "nbformat": 4,
 "nbformat_minor": 0
}
