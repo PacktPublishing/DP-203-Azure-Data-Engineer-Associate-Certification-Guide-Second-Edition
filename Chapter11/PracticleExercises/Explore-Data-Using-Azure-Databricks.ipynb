{
 "cells": [
  {
   "cell_type": "code",
   "execution_count": null,
   "metadata": {
    "application/vnd.databricks.v1+cell": {
     "cellMetadata": {
      "byteLimit": 2048000,
      "rowLimit": 10000
     },
     "inputWidgets": {},
     "nuid": "6301fe09-1a91-4908-820d-ab0a43134ad7",
     "showTitle": false,
     "title": ""
    }
   },
   "outputs": [],
   "source": [
    "%sh\n",
    "# rm -r /dbfs/data\n",
    "mkdir /dbfs/data\n",
    "wget -O /dbfs/data/TripData-2022.csv https://raw.githubusercontent.com/PacktPublishing/DP-203-Azure-Data-Engineer-Associate-Certification-Guide-Second-Edition/main/Chapter03/Data/TripData-2022.csv    \n",
    "wget -O /dbfs/data/TripData-2023.csv https://raw.githubusercontent.com/PacktPublishing/DP-203-Azure-Data-Engineer-Associate-Certification-Guide-Second-Edition/main/Chapter03/Data/TripData-2023.csv    \n",
    "wget -O /dbfs/data/TripData-2024.csv https://raw.githubusercontent.com/PacktPublishing/DP-203-Azure-Data-Engineer-Associate-Certification-Guide-Second-Edition/main/Chapter03/Data/TripData-2024.csv    "
   ]
  },
  {
   "cell_type": "code",
   "execution_count": null,
   "metadata": {
    "application/vnd.databricks.v1+cell": {
     "cellMetadata": {
      "byteLimit": 2048000,
      "rowLimit": 10000
     },
     "inputWidgets": {},
     "nuid": "d712d98d-e983-42ec-86d7-80a53db5951a",
     "showTitle": false,
     "title": ""
    }
   },
   "outputs": [
    {
     "data": {
      "text/html": [
       "<style scoped>\n",
       "  .table-result-container {\n",
       "    max-height: 300px;\n",
       "    overflow: auto;\n",
       "  }\n",
       "  table, th, td {\n",
       "    border: 1px solid black;\n",
       "    border-collapse: collapse;\n",
       "  }\n",
       "  th, td {\n",
       "    padding: 5px;\n",
       "  }\n",
       "  th {\n",
       "    text-align: left;\n",
       "  }\n",
       "</style><div class='table-result-container'><table class='table-result'><thead style='background-color: white'><tr><th>tripId</th><th>driverId</th><th>customerId</th><th>tripDate</th><th>startLocation</th><th>endLocation</th><th>driverName</th><th>customerName</th><th>tripAmount</th></tr></thead><tbody><tr><td>100</td><td>200</td><td>300</td><td>20220101</td><td>New York</td><td>New Jersey</td><td>John Smith</td><td>Alice Lee</td><td>63.77</td></tr><tr><td>101</td><td>201</td><td>301</td><td>20220101</td><td>Miami</td><td>Dallas</td><td>Emily Johnson</td><td>Tom Clark</td><td>42.67</td></tr><tr><td>102</td><td>202</td><td>302</td><td>20220102</td><td>Phoenix</td><td>Tempe</td><td>Michael Williams</td><td>Lucy Lewis</td><td>48.51</td></tr><tr><td>103</td><td>203</td><td>303</td><td>20220204</td><td>LA</td><td>San Joes</td><td>Jessica Brown</td><td>Sophia Walker</td><td>65.92</td></tr><tr><td>104</td><td>204</td><td>304</td><td>20220205</td><td>Seattle</td><td>Redmond</td><td>David Jones</td><td>Henry Hall</td><td>49.75</td></tr><tr><td>105</td><td>205</td><td>305</td><td>20220301</td><td>Atlanta</td><td>Chicago</td><td>Chris Davis</td><td>Liam Allen</td><td>51.66</td></tr><tr><td>106</td><td>217</td><td>304</td><td>20220705</td><td>Las Vegas</td><td>Miami</td><td>Daniel Lopez</td><td>Henry Hall</td><td>72.14</td></tr><tr><td>107</td><td>222</td><td>336</td><td>20220630</td><td>Miami</td><td>Phoenix</td><td>Sarah Wilson</td><td>Elijah Mitchell</td><td>78.62</td></tr><tr><td>108</td><td>204</td><td>330</td><td>20220610</td><td>Denver</td><td>New York</td><td>David Jones</td><td>Benjamin Nelson</td><td>39.27</td></tr><tr><td>109</td><td>246</td><td>320</td><td>20220715</td><td>Atlanta</td><td>LA</td><td>Linda White</td><td>Ethan Scott</td><td>99.17</td></tr><tr><td>110</td><td>230</td><td>313</td><td>20221112</td><td>LA</td><td>Miami</td><td>Paul Taylor</td><td>Jacob Wright</td><td>77.12</td></tr><tr><td>111</td><td>235</td><td>321</td><td>20220923</td><td>Phoenix</td><td>Phoenix</td><td>Jennifer Moore</td><td>Aiden Green</td><td>71.08</td></tr><tr><td>112</td><td>240</td><td>350</td><td>20221227</td><td>San Francisco</td><td>Atlanta</td><td>Samantha Thomas</td><td>Daniel Campbell</td><td>56.12</td></tr><tr><td>113</td><td>225</td><td>313</td><td>20221215</td><td>Boston</td><td>Las Vegas</td><td>Mark Anderson</td><td>Jacob Wright</td><td>36.49</td></tr><tr><td>114</td><td>238</td><td>346</td><td>20220704</td><td>Phoenix</td><td>Houston</td><td>Andrew Jackson</td><td>William Roberts</td><td>49.98</td></tr><tr><td>115</td><td>200</td><td>341</td><td>20220626</td><td>Las Vegas</td><td>LA</td><td>John Smith</td><td>Alexander Perez</td><td>56.27</td></tr><tr><td>116</td><td>240</td><td>306</td><td>20220128</td><td>New York</td><td>San Francisco</td><td>Samantha Thomas</td><td>Oliver Young</td><td>59</td></tr><tr><td>117</td><td>209</td><td>328</td><td>20220730</td><td>Las Vegas</td><td>New York</td><td>Robert Miller</td><td>Lucas Adams</td><td>81.86</td></tr><tr><td>118</td><td>212</td><td>334</td><td>20221215</td><td>Atlanta</td><td>Miami</td><td>Mary Martinez</td><td>Noah Carter</td><td>75.53</td></tr><tr><td>119</td><td>200</td><td>347</td><td>20220328</td><td>San Francisco</td><td>New York</td><td>John Smith</td><td>Sebastian Turner</td><td>23.51</td></tr><tr><td>120</td><td>216</td><td>330</td><td>20220121</td><td>Phoenix</td><td>Miami</td><td>James Hernandez</td><td>Benjamin Nelson</td><td>41.69</td></tr><tr><td>121</td><td>206</td><td>302</td><td>20220803</td><td>Denver</td><td>Phoenix</td><td>Patricia Garcia</td><td>Lucy Lewis</td><td>29.79</td></tr><tr><td>122</td><td>201</td><td>311</td><td>20220520</td><td>San Francisco</td><td>Las Vegas</td><td>Emily Johnson</td><td>Mason King</td><td>94.12</td></tr><tr><td>123</td><td>200</td><td>322</td><td>20220831</td><td>Seattle</td><td>Boston</td><td>John Smith</td><td>Logan Baker</td><td>79.82</td></tr><tr><td>124</td><td>205</td><td>337</td><td>20221024</td><td>Las Vegas</td><td>LA</td><td>Chris Davis</td><td>NaN</td><td>76.81</td></tr><tr><td>125</td><td>206</td><td>349</td><td>20220602</td><td>Phoenix</td><td>San Francisco</td><td>Patricia Garcia</td><td>Matthew Phillips</td><td>79.9</td></tr><tr><td>146</td><td>200</td><td>300</td><td>20240105</td><td>New York</td><td>Miami</td><td>John Smith</td><td>Alice Lee</td><td>54.32</td></tr><tr><td>147</td><td>201</td><td>301</td><td>20240117</td><td>Los Angeles</td><td>Seattle</td><td>Emily Johnson</td><td>Tom Clark</td><td>62.75</td></tr><tr><td>148</td><td>202</td><td>302</td><td>20240210</td><td>San Francisco</td><td>Denver</td><td>Michael Williams</td><td>Lucy Lewis</td><td>47.89</td></tr><tr><td>149</td><td>203</td><td>303</td><td>20240323</td><td>Miami</td><td>Boston</td><td>Jessica Brown</td><td>Sophia Walker</td><td>72.15</td></tr><tr><td>150</td><td>204</td><td>304</td><td>20240405</td><td>Atlanta</td><td>Chicago</td><td>David Jones</td><td>Henry Hall</td><td>38.27</td></tr><tr><td>151</td><td>205</td><td>305</td><td>20240512</td><td>Seattle</td><td>Phoenix</td><td>Chris Davis</td><td>Liam Allen</td><td>53.64</td></tr><tr><td>152</td><td>206</td><td>306</td><td>20240414</td><td>Phoenix</td><td>New York</td><td>Patricia Garcia</td><td>Oliver Young</td><td>81.52</td></tr><tr><td>153</td><td>209</td><td>311</td><td>20240325</td><td>Denver</td><td>Los Angeles</td><td>Robert Miller</td><td>Mason King</td><td>69.47</td></tr><tr><td>154</td><td>212</td><td>320</td><td>20240303</td><td>Houston</td><td>San Francisco</td><td>Mary Martinez</td><td>Ethan Scott</td><td>44.19</td></tr><tr><td>155</td><td>216</td><td>321</td><td>20240221</td><td>Chicago</td><td>Miami</td><td>James Hernandez</td><td>Aiden Green</td><td>57.88</td></tr><tr><td>156</td><td>217</td><td>322</td><td>20241011</td><td>Boston</td><td>Atlanta</td><td>Daniel Lopez</td><td>Logan Baker</td><td>49.63</td></tr><tr><td>157</td><td>222</td><td>328</td><td>20240105</td><td>Las Vegas</td><td>Houston</td><td>Sarah Wilson</td><td>Lucas Adams</td><td>61.74</td></tr><tr><td>158</td><td>225</td><td>330</td><td>20240218</td><td>New York</td><td>Denver</td><td>Mark Anderson</td><td>Benjamin Nelson</td><td>73.25</td></tr><tr><td>159</td><td>230</td><td>334</td><td>20240128</td><td>Los Angeles</td><td>Seattle</td><td>Paul Taylor</td><td>Noah Carter</td><td>59.36</td></tr><tr><td>160</td><td>235</td><td>336</td><td>20240315</td><td>Miami</td><td>New York</td><td>Jennifer Moore</td><td>Elijah Mitchell</td><td>85.14</td></tr><tr><td>161</td><td>238</td><td>341</td><td>20240509</td><td>Denver</td><td>San Francisco</td><td>Andrew Jackson</td><td>Alexander Perez</td><td>46.97</td></tr><tr><td>162</td><td>240</td><td>346</td><td>20240530</td><td>Chicago</td><td>Phoenix</td><td>Samantha Thomas</td><td>William Roberts</td><td>50.45</td></tr><tr><td>163</td><td>246</td><td>347</td><td>20240414</td><td>Houston</td><td>Atlanta</td><td>Linda White</td><td>Sebastian Turner</td><td>64.29</td></tr><tr><td>164</td><td>200</td><td>349</td><td>20240223</td><td>Seattle</td><td>Boston</td><td>John Smith</td><td>Matthew Phillips</td><td>52.37</td></tr><tr><td>165</td><td>201</td><td>350</td><td>20240607</td><td>Phoenix</td><td>Los Angeles</td><td>Emily Johnson</td><td>Daniel Campbell</td><td>78.56</td></tr><tr><td>126</td><td>211</td><td>347</td><td>20230821</td><td>Denver</td><td>Houston</td><td>NaN</td><td>Sebastian Turner</td><td>94.17</td></tr><tr><td>127</td><td>241</td><td>346</td><td>20230509</td><td>Houston</td><td>Las Vegas</td><td>NaN</td><td>William Roberts</td><td>63.65</td></tr><tr><td>128</td><td>201</td><td>339</td><td>20231116</td><td>Boston</td><td>Houston</td><td>Emily Johnson</td><td>NaN</td><td>84.22</td></tr><tr><td>129</td><td>250</td><td>306</td><td>20230814</td><td>San Francisco</td><td>Seattle</td><td>NaN</td><td>Oliver Young</td><td>25</td></tr><tr><td>130</td><td>244</td><td>341</td><td>20230816</td><td>Houston</td><td>LA</td><td>NaN</td><td>Alexander Perez</td><td>31.93</td></tr><tr><td>131</td><td>218</td><td>329</td><td>20231014</td><td>Denver</td><td>Boston</td><td>NaN</td><td>NaN</td><td>20.21</td></tr><tr><td>132</td><td>204</td><td>307</td><td>20230828</td><td>Seattle</td><td>Atlanta</td><td>David Jones</td><td>NaN</td><td>75.33</td></tr><tr><td>133</td><td>201</td><td>332</td><td>20230717</td><td>New York</td><td>Phoenix</td><td>Emily Johnson</td><td>NaN</td><td>79.63</td></tr><tr><td>134</td><td>215</td><td>339</td><td>20230219</td><td>Houston</td><td>Atlanta</td><td>NaN</td><td>NaN</td><td>62.84</td></tr><tr><td>135</td><td>218</td><td>313</td><td>20230406</td><td>Phoenix</td><td>Atlanta</td><td>NaN</td><td>Jacob Wright</td><td>83.85</td></tr><tr><td>136</td><td>234</td><td>302</td><td>20230404</td><td>Boston</td><td>San Francisco</td><td>NaN</td><td>Lucy Lewis</td><td>75.09</td></tr><tr><td>137</td><td>211</td><td>324</td><td>20231016</td><td>Seattle</td><td>Atlanta</td><td>NaN</td><td>NaN</td><td>79.96</td></tr><tr><td>138</td><td>223</td><td>328</td><td>20230316</td><td>San Francisco</td><td>Seattle</td><td>NaN</td><td>Lucas Adams</td><td>32.46</td></tr><tr><td>139</td><td>203</td><td>317</td><td>20230217</td><td>Miami</td><td>Houston</td><td>Jessica Brown</td><td>NaN</td><td>28.26</td></tr><tr><td>140</td><td>211</td><td>339</td><td>20231202</td><td>Las Vegas</td><td>Miami</td><td>NaN</td><td>NaN</td><td>55.86</td></tr><tr><td>141</td><td>215</td><td>334</td><td>20230629</td><td>New York</td><td>Boston</td><td>NaN</td><td>Noah Carter</td><td>73.08</td></tr><tr><td>142</td><td>213</td><td>329</td><td>20230301</td><td>LA</td><td>Phoenix</td><td>NaN</td><td>NaN</td><td>94.77</td></tr><tr><td>143</td><td>220</td><td>338</td><td>20231226</td><td>Las Vegas</td><td>Miami</td><td>NaN</td><td>NaN</td><td>77.39</td></tr><tr><td>144</td><td>246</td><td>318</td><td>20230501</td><td>Boston</td><td>Seattle</td><td>Linda White</td><td>NaN</td><td>21.5</td></tr><tr><td>145</td><td>203</td><td>326</td><td>20231112</td><td>Seattle</td><td>LA</td><td>Jessica Brown</td><td>NaN</td><td>58.86</td></tr></tbody></table></div>"
      ]
     },
     "metadata": {
      "application/vnd.databricks.v1+output": {
       "addedWidgets": {},
       "aggData": [],
       "aggError": "",
       "aggOverflow": false,
       "aggSchema": [],
       "aggSeriesLimitReached": false,
       "aggType": "",
       "arguments": {},
       "columnCustomDisplayInfos": {},
       "data": [
        [
         "100",
         "200",
         "300",
         "20220101",
         "New York",
         "New Jersey",
         "John Smith",
         "Alice Lee",
         "63.77"
        ],
        [
         "101",
         "201",
         "301",
         "20220101",
         "Miami",
         "Dallas",
         "Emily Johnson",
         "Tom Clark",
         "42.67"
        ],
        [
         "102",
         "202",
         "302",
         "20220102",
         "Phoenix",
         "Tempe",
         "Michael Williams",
         "Lucy Lewis",
         "48.51"
        ],
        [
         "103",
         "203",
         "303",
         "20220204",
         "LA",
         "San Joes",
         "Jessica Brown",
         "Sophia Walker",
         "65.92"
        ],
        [
         "104",
         "204",
         "304",
         "20220205",
         "Seattle",
         "Redmond",
         "David Jones",
         "Henry Hall",
         "49.75"
        ],
        [
         "105",
         "205",
         "305",
         "20220301",
         "Atlanta",
         "Chicago",
         "Chris Davis",
         "Liam Allen",
         "51.66"
        ],
        [
         "106",
         "217",
         "304",
         "20220705",
         "Las Vegas",
         "Miami",
         "Daniel Lopez",
         "Henry Hall",
         "72.14"
        ],
        [
         "107",
         "222",
         "336",
         "20220630",
         "Miami",
         "Phoenix",
         "Sarah Wilson",
         "Elijah Mitchell",
         "78.62"
        ],
        [
         "108",
         "204",
         "330",
         "20220610",
         "Denver",
         "New York",
         "David Jones",
         "Benjamin Nelson",
         "39.27"
        ],
        [
         "109",
         "246",
         "320",
         "20220715",
         "Atlanta",
         "LA",
         "Linda White",
         "Ethan Scott",
         "99.17"
        ],
        [
         "110",
         "230",
         "313",
         "20221112",
         "LA",
         "Miami",
         "Paul Taylor",
         "Jacob Wright",
         "77.12"
        ],
        [
         "111",
         "235",
         "321",
         "20220923",
         "Phoenix",
         "Phoenix",
         "Jennifer Moore",
         "Aiden Green",
         "71.08"
        ],
        [
         "112",
         "240",
         "350",
         "20221227",
         "San Francisco",
         "Atlanta",
         "Samantha Thomas",
         "Daniel Campbell",
         "56.12"
        ],
        [
         "113",
         "225",
         "313",
         "20221215",
         "Boston",
         "Las Vegas",
         "Mark Anderson",
         "Jacob Wright",
         "36.49"
        ],
        [
         "114",
         "238",
         "346",
         "20220704",
         "Phoenix",
         "Houston",
         "Andrew Jackson",
         "William Roberts",
         "49.98"
        ],
        [
         "115",
         "200",
         "341",
         "20220626",
         "Las Vegas",
         "LA",
         "John Smith",
         "Alexander Perez",
         "56.27"
        ],
        [
         "116",
         "240",
         "306",
         "20220128",
         "New York",
         "San Francisco",
         "Samantha Thomas",
         "Oliver Young",
         "59"
        ],
        [
         "117",
         "209",
         "328",
         "20220730",
         "Las Vegas",
         "New York",
         "Robert Miller",
         "Lucas Adams",
         "81.86"
        ],
        [
         "118",
         "212",
         "334",
         "20221215",
         "Atlanta",
         "Miami",
         "Mary Martinez",
         "Noah Carter",
         "75.53"
        ],
        [
         "119",
         "200",
         "347",
         "20220328",
         "San Francisco",
         "New York",
         "John Smith",
         "Sebastian Turner",
         "23.51"
        ],
        [
         "120",
         "216",
         "330",
         "20220121",
         "Phoenix",
         "Miami",
         "James Hernandez",
         "Benjamin Nelson",
         "41.69"
        ],
        [
         "121",
         "206",
         "302",
         "20220803",
         "Denver",
         "Phoenix",
         "Patricia Garcia",
         "Lucy Lewis",
         "29.79"
        ],
        [
         "122",
         "201",
         "311",
         "20220520",
         "San Francisco",
         "Las Vegas",
         "Emily Johnson",
         "Mason King",
         "94.12"
        ],
        [
         "123",
         "200",
         "322",
         "20220831",
         "Seattle",
         "Boston",
         "John Smith",
         "Logan Baker",
         "79.82"
        ],
        [
         "124",
         "205",
         "337",
         "20221024",
         "Las Vegas",
         "LA",
         "Chris Davis",
         "NaN",
         "76.81"
        ],
        [
         "125",
         "206",
         "349",
         "20220602",
         "Phoenix",
         "San Francisco",
         "Patricia Garcia",
         "Matthew Phillips",
         "79.9"
        ],
        [
         "146",
         "200",
         "300",
         "20240105",
         "New York",
         "Miami",
         "John Smith",
         "Alice Lee",
         "54.32"
        ],
        [
         "147",
         "201",
         "301",
         "20240117",
         "Los Angeles",
         "Seattle",
         "Emily Johnson",
         "Tom Clark",
         "62.75"
        ],
        [
         "148",
         "202",
         "302",
         "20240210",
         "San Francisco",
         "Denver",
         "Michael Williams",
         "Lucy Lewis",
         "47.89"
        ],
        [
         "149",
         "203",
         "303",
         "20240323",
         "Miami",
         "Boston",
         "Jessica Brown",
         "Sophia Walker",
         "72.15"
        ],
        [
         "150",
         "204",
         "304",
         "20240405",
         "Atlanta",
         "Chicago",
         "David Jones",
         "Henry Hall",
         "38.27"
        ],
        [
         "151",
         "205",
         "305",
         "20240512",
         "Seattle",
         "Phoenix",
         "Chris Davis",
         "Liam Allen",
         "53.64"
        ],
        [
         "152",
         "206",
         "306",
         "20240414",
         "Phoenix",
         "New York",
         "Patricia Garcia",
         "Oliver Young",
         "81.52"
        ],
        [
         "153",
         "209",
         "311",
         "20240325",
         "Denver",
         "Los Angeles",
         "Robert Miller",
         "Mason King",
         "69.47"
        ],
        [
         "154",
         "212",
         "320",
         "20240303",
         "Houston",
         "San Francisco",
         "Mary Martinez",
         "Ethan Scott",
         "44.19"
        ],
        [
         "155",
         "216",
         "321",
         "20240221",
         "Chicago",
         "Miami",
         "James Hernandez",
         "Aiden Green",
         "57.88"
        ],
        [
         "156",
         "217",
         "322",
         "20241011",
         "Boston",
         "Atlanta",
         "Daniel Lopez",
         "Logan Baker",
         "49.63"
        ],
        [
         "157",
         "222",
         "328",
         "20240105",
         "Las Vegas",
         "Houston",
         "Sarah Wilson",
         "Lucas Adams",
         "61.74"
        ],
        [
         "158",
         "225",
         "330",
         "20240218",
         "New York",
         "Denver",
         "Mark Anderson",
         "Benjamin Nelson",
         "73.25"
        ],
        [
         "159",
         "230",
         "334",
         "20240128",
         "Los Angeles",
         "Seattle",
         "Paul Taylor",
         "Noah Carter",
         "59.36"
        ],
        [
         "160",
         "235",
         "336",
         "20240315",
         "Miami",
         "New York",
         "Jennifer Moore",
         "Elijah Mitchell",
         "85.14"
        ],
        [
         "161",
         "238",
         "341",
         "20240509",
         "Denver",
         "San Francisco",
         "Andrew Jackson",
         "Alexander Perez",
         "46.97"
        ],
        [
         "162",
         "240",
         "346",
         "20240530",
         "Chicago",
         "Phoenix",
         "Samantha Thomas",
         "William Roberts",
         "50.45"
        ],
        [
         "163",
         "246",
         "347",
         "20240414",
         "Houston",
         "Atlanta",
         "Linda White",
         "Sebastian Turner",
         "64.29"
        ],
        [
         "164",
         "200",
         "349",
         "20240223",
         "Seattle",
         "Boston",
         "John Smith",
         "Matthew Phillips",
         "52.37"
        ],
        [
         "165",
         "201",
         "350",
         "20240607",
         "Phoenix",
         "Los Angeles",
         "Emily Johnson",
         "Daniel Campbell",
         "78.56"
        ],
        [
         "126",
         "211",
         "347",
         "20230821",
         "Denver",
         "Houston",
         "NaN",
         "Sebastian Turner",
         "94.17"
        ],
        [
         "127",
         "241",
         "346",
         "20230509",
         "Houston",
         "Las Vegas",
         "NaN",
         "William Roberts",
         "63.65"
        ],
        [
         "128",
         "201",
         "339",
         "20231116",
         "Boston",
         "Houston",
         "Emily Johnson",
         "NaN",
         "84.22"
        ],
        [
         "129",
         "250",
         "306",
         "20230814",
         "San Francisco",
         "Seattle",
         "NaN",
         "Oliver Young",
         "25"
        ],
        [
         "130",
         "244",
         "341",
         "20230816",
         "Houston",
         "LA",
         "NaN",
         "Alexander Perez",
         "31.93"
        ],
        [
         "131",
         "218",
         "329",
         "20231014",
         "Denver",
         "Boston",
         "NaN",
         "NaN",
         "20.21"
        ],
        [
         "132",
         "204",
         "307",
         "20230828",
         "Seattle",
         "Atlanta",
         "David Jones",
         "NaN",
         "75.33"
        ],
        [
         "133",
         "201",
         "332",
         "20230717",
         "New York",
         "Phoenix",
         "Emily Johnson",
         "NaN",
         "79.63"
        ],
        [
         "134",
         "215",
         "339",
         "20230219",
         "Houston",
         "Atlanta",
         "NaN",
         "NaN",
         "62.84"
        ],
        [
         "135",
         "218",
         "313",
         "20230406",
         "Phoenix",
         "Atlanta",
         "NaN",
         "Jacob Wright",
         "83.85"
        ],
        [
         "136",
         "234",
         "302",
         "20230404",
         "Boston",
         "San Francisco",
         "NaN",
         "Lucy Lewis",
         "75.09"
        ],
        [
         "137",
         "211",
         "324",
         "20231016",
         "Seattle",
         "Atlanta",
         "NaN",
         "NaN",
         "79.96"
        ],
        [
         "138",
         "223",
         "328",
         "20230316",
         "San Francisco",
         "Seattle",
         "NaN",
         "Lucas Adams",
         "32.46"
        ],
        [
         "139",
         "203",
         "317",
         "20230217",
         "Miami",
         "Houston",
         "Jessica Brown",
         "NaN",
         "28.26"
        ],
        [
         "140",
         "211",
         "339",
         "20231202",
         "Las Vegas",
         "Miami",
         "NaN",
         "NaN",
         "55.86"
        ],
        [
         "141",
         "215",
         "334",
         "20230629",
         "New York",
         "Boston",
         "NaN",
         "Noah Carter",
         "73.08"
        ],
        [
         "142",
         "213",
         "329",
         "20230301",
         "LA",
         "Phoenix",
         "NaN",
         "NaN",
         "94.77"
        ],
        [
         "143",
         "220",
         "338",
         "20231226",
         "Las Vegas",
         "Miami",
         "NaN",
         "NaN",
         "77.39"
        ],
        [
         "144",
         "246",
         "318",
         "20230501",
         "Boston",
         "Seattle",
         "Linda White",
         "NaN",
         "21.5"
        ],
        [
         "145",
         "203",
         "326",
         "20231112",
         "Seattle",
         "LA",
         "Jessica Brown",
         "NaN",
         "58.86"
        ]
       ],
       "datasetInfos": [],
       "dbfsResultPath": null,
       "isJsonSchema": true,
       "metadata": {},
       "overflow": false,
       "plotOptions": {
        "customPlotOptions": {},
        "displayType": "table",
        "pivotAggregation": null,
        "pivotColumns": null,
        "xColumns": null,
        "yColumns": null
       },
       "removedWidgets": [],
       "schema": [
        {
         "metadata": "{}",
         "name": "tripId",
         "type": "\"string\""
        },
        {
         "metadata": "{}",
         "name": "driverId",
         "type": "\"string\""
        },
        {
         "metadata": "{}",
         "name": "customerId",
         "type": "\"string\""
        },
        {
         "metadata": "{}",
         "name": "tripDate",
         "type": "\"string\""
        },
        {
         "metadata": "{}",
         "name": "startLocation",
         "type": "\"string\""
        },
        {
         "metadata": "{}",
         "name": "endLocation",
         "type": "\"string\""
        },
        {
         "metadata": "{}",
         "name": "driverName",
         "type": "\"string\""
        },
        {
         "metadata": "{}",
         "name": "customerName",
         "type": "\"string\""
        },
        {
         "metadata": "{}",
         "name": "tripAmount",
         "type": "\"string\""
        }
       ],
       "type": "table"
      }
     },
     "output_type": "display_data"
    }
   ],
   "source": [
    "df = spark.read.load('data/*.csv', format='csv', header=True)\n",
    "display(df.limit(100))\n",
    "     "
   ]
  },
  {
   "cell_type": "code",
   "execution_count": null,
   "metadata": {
    "application/vnd.databricks.v1+cell": {
     "cellMetadata": {
      "byteLimit": 2048000,
      "rowLimit": 10000
     },
     "inputWidgets": {},
     "nuid": "8cabcf12-6705-46c6-9bbc-8ca3cd8e5d37",
     "showTitle": false,
     "title": ""
    }
   },
   "outputs": [
    {
     "data": {
      "text/html": [
       "<style scoped>\n",
       "  .table-result-container {\n",
       "    max-height: 300px;\n",
       "    overflow: auto;\n",
       "  }\n",
       "  table, th, td {\n",
       "    border: 1px solid black;\n",
       "    border-collapse: collapse;\n",
       "  }\n",
       "  th, td {\n",
       "    padding: 5px;\n",
       "  }\n",
       "  th {\n",
       "    text-align: left;\n",
       "  }\n",
       "</style><div class='table-result-container'><table class='table-result'><thead style='background-color: white'><tr><th>tripId</th><th>driverId</th><th>customerId</th><th>tripDate</th><th>startLocation</th><th>endLocation</th><th>driverName</th><th>customerName</th><th>tripAmount</th></tr></thead><tbody><tr><td>100</td><td>200</td><td>300</td><td>20220101</td><td>New York</td><td>New Jersey</td><td>John Smith</td><td>Alice Lee</td><td>63.77</td></tr><tr><td>101</td><td>201</td><td>301</td><td>20220101</td><td>Miami</td><td>Dallas</td><td>Emily Johnson</td><td>Tom Clark</td><td>42.67</td></tr><tr><td>102</td><td>202</td><td>302</td><td>20220102</td><td>Phoenix</td><td>Tempe</td><td>Michael Williams</td><td>Lucy Lewis</td><td>48.51</td></tr><tr><td>103</td><td>203</td><td>303</td><td>20220204</td><td>LA</td><td>San Joes</td><td>Jessica Brown</td><td>Sophia Walker</td><td>65.92</td></tr><tr><td>104</td><td>204</td><td>304</td><td>20220205</td><td>Seattle</td><td>Redmond</td><td>David Jones</td><td>Henry Hall</td><td>49.75</td></tr><tr><td>105</td><td>205</td><td>305</td><td>20220301</td><td>Atlanta</td><td>Chicago</td><td>Chris Davis</td><td>Liam Allen</td><td>51.66</td></tr><tr><td>106</td><td>217</td><td>304</td><td>20220705</td><td>Las Vegas</td><td>Miami</td><td>Daniel Lopez</td><td>Henry Hall</td><td>72.14</td></tr><tr><td>107</td><td>222</td><td>336</td><td>20220630</td><td>Miami</td><td>Phoenix</td><td>Sarah Wilson</td><td>Elijah Mitchell</td><td>78.62</td></tr><tr><td>108</td><td>204</td><td>330</td><td>20220610</td><td>Denver</td><td>New York</td><td>David Jones</td><td>Benjamin Nelson</td><td>39.27</td></tr><tr><td>109</td><td>246</td><td>320</td><td>20220715</td><td>Atlanta</td><td>LA</td><td>Linda White</td><td>Ethan Scott</td><td>99.17</td></tr><tr><td>110</td><td>230</td><td>313</td><td>20221112</td><td>LA</td><td>Miami</td><td>Paul Taylor</td><td>Jacob Wright</td><td>77.12</td></tr><tr><td>111</td><td>235</td><td>321</td><td>20220923</td><td>Phoenix</td><td>Phoenix</td><td>Jennifer Moore</td><td>Aiden Green</td><td>71.08</td></tr><tr><td>112</td><td>240</td><td>350</td><td>20221227</td><td>San Francisco</td><td>Atlanta</td><td>Samantha Thomas</td><td>Daniel Campbell</td><td>56.12</td></tr><tr><td>113</td><td>225</td><td>313</td><td>20221215</td><td>Boston</td><td>Las Vegas</td><td>Mark Anderson</td><td>Jacob Wright</td><td>36.49</td></tr><tr><td>114</td><td>238</td><td>346</td><td>20220704</td><td>Phoenix</td><td>Houston</td><td>Andrew Jackson</td><td>William Roberts</td><td>49.98</td></tr><tr><td>115</td><td>200</td><td>341</td><td>20220626</td><td>Las Vegas</td><td>LA</td><td>John Smith</td><td>Alexander Perez</td><td>56.27</td></tr><tr><td>116</td><td>240</td><td>306</td><td>20220128</td><td>New York</td><td>San Francisco</td><td>Samantha Thomas</td><td>Oliver Young</td><td>59.0</td></tr><tr><td>117</td><td>209</td><td>328</td><td>20220730</td><td>Las Vegas</td><td>New York</td><td>Robert Miller</td><td>Lucas Adams</td><td>81.86</td></tr><tr><td>118</td><td>212</td><td>334</td><td>20221215</td><td>Atlanta</td><td>Miami</td><td>Mary Martinez</td><td>Noah Carter</td><td>75.53</td></tr><tr><td>119</td><td>200</td><td>347</td><td>20220328</td><td>San Francisco</td><td>New York</td><td>John Smith</td><td>Sebastian Turner</td><td>23.51</td></tr><tr><td>120</td><td>216</td><td>330</td><td>20220121</td><td>Phoenix</td><td>Miami</td><td>James Hernandez</td><td>Benjamin Nelson</td><td>41.69</td></tr><tr><td>121</td><td>206</td><td>302</td><td>20220803</td><td>Denver</td><td>Phoenix</td><td>Patricia Garcia</td><td>Lucy Lewis</td><td>29.79</td></tr><tr><td>122</td><td>201</td><td>311</td><td>20220520</td><td>San Francisco</td><td>Las Vegas</td><td>Emily Johnson</td><td>Mason King</td><td>94.12</td></tr><tr><td>123</td><td>200</td><td>322</td><td>20220831</td><td>Seattle</td><td>Boston</td><td>John Smith</td><td>Logan Baker</td><td>79.82</td></tr><tr><td>124</td><td>205</td><td>337</td><td>20221024</td><td>Las Vegas</td><td>LA</td><td>Chris Davis</td><td>NaN</td><td>76.81</td></tr><tr><td>125</td><td>206</td><td>349</td><td>20220602</td><td>Phoenix</td><td>San Francisco</td><td>Patricia Garcia</td><td>Matthew Phillips</td><td>79.9</td></tr><tr><td>146</td><td>200</td><td>300</td><td>20240105</td><td>New York</td><td>Miami</td><td>John Smith</td><td>Alice Lee</td><td>54.32</td></tr><tr><td>147</td><td>201</td><td>301</td><td>20240117</td><td>Los Angeles</td><td>Seattle</td><td>Emily Johnson</td><td>Tom Clark</td><td>62.75</td></tr><tr><td>148</td><td>202</td><td>302</td><td>20240210</td><td>San Francisco</td><td>Denver</td><td>Michael Williams</td><td>Lucy Lewis</td><td>47.89</td></tr><tr><td>149</td><td>203</td><td>303</td><td>20240323</td><td>Miami</td><td>Boston</td><td>Jessica Brown</td><td>Sophia Walker</td><td>72.15</td></tr><tr><td>150</td><td>204</td><td>304</td><td>20240405</td><td>Atlanta</td><td>Chicago</td><td>David Jones</td><td>Henry Hall</td><td>38.27</td></tr><tr><td>151</td><td>205</td><td>305</td><td>20240512</td><td>Seattle</td><td>Phoenix</td><td>Chris Davis</td><td>Liam Allen</td><td>53.64</td></tr><tr><td>152</td><td>206</td><td>306</td><td>20240414</td><td>Phoenix</td><td>New York</td><td>Patricia Garcia</td><td>Oliver Young</td><td>81.52</td></tr><tr><td>153</td><td>209</td><td>311</td><td>20240325</td><td>Denver</td><td>Los Angeles</td><td>Robert Miller</td><td>Mason King</td><td>69.47</td></tr><tr><td>154</td><td>212</td><td>320</td><td>20240303</td><td>Houston</td><td>San Francisco</td><td>Mary Martinez</td><td>Ethan Scott</td><td>44.19</td></tr><tr><td>155</td><td>216</td><td>321</td><td>20240221</td><td>Chicago</td><td>Miami</td><td>James Hernandez</td><td>Aiden Green</td><td>57.88</td></tr><tr><td>156</td><td>217</td><td>322</td><td>20241011</td><td>Boston</td><td>Atlanta</td><td>Daniel Lopez</td><td>Logan Baker</td><td>49.63</td></tr><tr><td>157</td><td>222</td><td>328</td><td>20240105</td><td>Las Vegas</td><td>Houston</td><td>Sarah Wilson</td><td>Lucas Adams</td><td>61.74</td></tr><tr><td>158</td><td>225</td><td>330</td><td>20240218</td><td>New York</td><td>Denver</td><td>Mark Anderson</td><td>Benjamin Nelson</td><td>73.25</td></tr><tr><td>159</td><td>230</td><td>334</td><td>20240128</td><td>Los Angeles</td><td>Seattle</td><td>Paul Taylor</td><td>Noah Carter</td><td>59.36</td></tr><tr><td>160</td><td>235</td><td>336</td><td>20240315</td><td>Miami</td><td>New York</td><td>Jennifer Moore</td><td>Elijah Mitchell</td><td>85.14</td></tr><tr><td>161</td><td>238</td><td>341</td><td>20240509</td><td>Denver</td><td>San Francisco</td><td>Andrew Jackson</td><td>Alexander Perez</td><td>46.97</td></tr><tr><td>162</td><td>240</td><td>346</td><td>20240530</td><td>Chicago</td><td>Phoenix</td><td>Samantha Thomas</td><td>William Roberts</td><td>50.45</td></tr><tr><td>163</td><td>246</td><td>347</td><td>20240414</td><td>Houston</td><td>Atlanta</td><td>Linda White</td><td>Sebastian Turner</td><td>64.29</td></tr><tr><td>164</td><td>200</td><td>349</td><td>20240223</td><td>Seattle</td><td>Boston</td><td>John Smith</td><td>Matthew Phillips</td><td>52.37</td></tr><tr><td>165</td><td>201</td><td>350</td><td>20240607</td><td>Phoenix</td><td>Los Angeles</td><td>Emily Johnson</td><td>Daniel Campbell</td><td>78.56</td></tr><tr><td>126</td><td>211</td><td>347</td><td>20230821</td><td>Denver</td><td>Houston</td><td>NaN</td><td>Sebastian Turner</td><td>94.17</td></tr><tr><td>127</td><td>241</td><td>346</td><td>20230509</td><td>Houston</td><td>Las Vegas</td><td>NaN</td><td>William Roberts</td><td>63.65</td></tr><tr><td>128</td><td>201</td><td>339</td><td>20231116</td><td>Boston</td><td>Houston</td><td>Emily Johnson</td><td>NaN</td><td>84.22</td></tr><tr><td>129</td><td>250</td><td>306</td><td>20230814</td><td>San Francisco</td><td>Seattle</td><td>NaN</td><td>Oliver Young</td><td>25.0</td></tr><tr><td>130</td><td>244</td><td>341</td><td>20230816</td><td>Houston</td><td>LA</td><td>NaN</td><td>Alexander Perez</td><td>31.93</td></tr><tr><td>131</td><td>218</td><td>329</td><td>20231014</td><td>Denver</td><td>Boston</td><td>NaN</td><td>NaN</td><td>20.21</td></tr><tr><td>132</td><td>204</td><td>307</td><td>20230828</td><td>Seattle</td><td>Atlanta</td><td>David Jones</td><td>NaN</td><td>75.33</td></tr><tr><td>133</td><td>201</td><td>332</td><td>20230717</td><td>New York</td><td>Phoenix</td><td>Emily Johnson</td><td>NaN</td><td>79.63</td></tr><tr><td>134</td><td>215</td><td>339</td><td>20230219</td><td>Houston</td><td>Atlanta</td><td>NaN</td><td>NaN</td><td>62.84</td></tr><tr><td>135</td><td>218</td><td>313</td><td>20230406</td><td>Phoenix</td><td>Atlanta</td><td>NaN</td><td>Jacob Wright</td><td>83.85</td></tr><tr><td>136</td><td>234</td><td>302</td><td>20230404</td><td>Boston</td><td>San Francisco</td><td>NaN</td><td>Lucy Lewis</td><td>75.09</td></tr><tr><td>137</td><td>211</td><td>324</td><td>20231016</td><td>Seattle</td><td>Atlanta</td><td>NaN</td><td>NaN</td><td>79.96</td></tr><tr><td>138</td><td>223</td><td>328</td><td>20230316</td><td>San Francisco</td><td>Seattle</td><td>NaN</td><td>Lucas Adams</td><td>32.46</td></tr><tr><td>139</td><td>203</td><td>317</td><td>20230217</td><td>Miami</td><td>Houston</td><td>Jessica Brown</td><td>NaN</td><td>28.26</td></tr><tr><td>140</td><td>211</td><td>339</td><td>20231202</td><td>Las Vegas</td><td>Miami</td><td>NaN</td><td>NaN</td><td>55.86</td></tr><tr><td>141</td><td>215</td><td>334</td><td>20230629</td><td>New York</td><td>Boston</td><td>NaN</td><td>Noah Carter</td><td>73.08</td></tr><tr><td>142</td><td>213</td><td>329</td><td>20230301</td><td>LA</td><td>Phoenix</td><td>NaN</td><td>NaN</td><td>94.77</td></tr><tr><td>143</td><td>220</td><td>338</td><td>20231226</td><td>Las Vegas</td><td>Miami</td><td>NaN</td><td>NaN</td><td>77.39</td></tr><tr><td>144</td><td>246</td><td>318</td><td>20230501</td><td>Boston</td><td>Seattle</td><td>Linda White</td><td>NaN</td><td>21.5</td></tr><tr><td>145</td><td>203</td><td>326</td><td>20231112</td><td>Seattle</td><td>LA</td><td>Jessica Brown</td><td>NaN</td><td>58.86</td></tr></tbody></table></div>"
      ]
     },
     "metadata": {
      "application/vnd.databricks.v1+output": {
       "addedWidgets": {},
       "aggData": [],
       "aggError": "",
       "aggOverflow": false,
       "aggSchema": [],
       "aggSeriesLimitReached": false,
       "aggType": "",
       "arguments": {},
       "columnCustomDisplayInfos": {},
       "data": [
        [
         100,
         200,
         300,
         "20220101",
         "New York",
         "New Jersey",
         "John Smith",
         "Alice Lee",
         63.77
        ],
        [
         101,
         201,
         301,
         "20220101",
         "Miami",
         "Dallas",
         "Emily Johnson",
         "Tom Clark",
         42.67
        ],
        [
         102,
         202,
         302,
         "20220102",
         "Phoenix",
         "Tempe",
         "Michael Williams",
         "Lucy Lewis",
         48.51
        ],
        [
         103,
         203,
         303,
         "20220204",
         "LA",
         "San Joes",
         "Jessica Brown",
         "Sophia Walker",
         65.92
        ],
        [
         104,
         204,
         304,
         "20220205",
         "Seattle",
         "Redmond",
         "David Jones",
         "Henry Hall",
         49.75
        ],
        [
         105,
         205,
         305,
         "20220301",
         "Atlanta",
         "Chicago",
         "Chris Davis",
         "Liam Allen",
         51.66
        ],
        [
         106,
         217,
         304,
         "20220705",
         "Las Vegas",
         "Miami",
         "Daniel Lopez",
         "Henry Hall",
         72.14
        ],
        [
         107,
         222,
         336,
         "20220630",
         "Miami",
         "Phoenix",
         "Sarah Wilson",
         "Elijah Mitchell",
         78.62
        ],
        [
         108,
         204,
         330,
         "20220610",
         "Denver",
         "New York",
         "David Jones",
         "Benjamin Nelson",
         39.27
        ],
        [
         109,
         246,
         320,
         "20220715",
         "Atlanta",
         "LA",
         "Linda White",
         "Ethan Scott",
         99.17
        ],
        [
         110,
         230,
         313,
         "20221112",
         "LA",
         "Miami",
         "Paul Taylor",
         "Jacob Wright",
         77.12
        ],
        [
         111,
         235,
         321,
         "20220923",
         "Phoenix",
         "Phoenix",
         "Jennifer Moore",
         "Aiden Green",
         71.08
        ],
        [
         112,
         240,
         350,
         "20221227",
         "San Francisco",
         "Atlanta",
         "Samantha Thomas",
         "Daniel Campbell",
         56.12
        ],
        [
         113,
         225,
         313,
         "20221215",
         "Boston",
         "Las Vegas",
         "Mark Anderson",
         "Jacob Wright",
         36.49
        ],
        [
         114,
         238,
         346,
         "20220704",
         "Phoenix",
         "Houston",
         "Andrew Jackson",
         "William Roberts",
         49.98
        ],
        [
         115,
         200,
         341,
         "20220626",
         "Las Vegas",
         "LA",
         "John Smith",
         "Alexander Perez",
         56.27
        ],
        [
         116,
         240,
         306,
         "20220128",
         "New York",
         "San Francisco",
         "Samantha Thomas",
         "Oliver Young",
         59
        ],
        [
         117,
         209,
         328,
         "20220730",
         "Las Vegas",
         "New York",
         "Robert Miller",
         "Lucas Adams",
         81.86
        ],
        [
         118,
         212,
         334,
         "20221215",
         "Atlanta",
         "Miami",
         "Mary Martinez",
         "Noah Carter",
         75.53
        ],
        [
         119,
         200,
         347,
         "20220328",
         "San Francisco",
         "New York",
         "John Smith",
         "Sebastian Turner",
         23.51
        ],
        [
         120,
         216,
         330,
         "20220121",
         "Phoenix",
         "Miami",
         "James Hernandez",
         "Benjamin Nelson",
         41.69
        ],
        [
         121,
         206,
         302,
         "20220803",
         "Denver",
         "Phoenix",
         "Patricia Garcia",
         "Lucy Lewis",
         29.79
        ],
        [
         122,
         201,
         311,
         "20220520",
         "San Francisco",
         "Las Vegas",
         "Emily Johnson",
         "Mason King",
         94.12
        ],
        [
         123,
         200,
         322,
         "20220831",
         "Seattle",
         "Boston",
         "John Smith",
         "Logan Baker",
         79.82
        ],
        [
         124,
         205,
         337,
         "20221024",
         "Las Vegas",
         "LA",
         "Chris Davis",
         "NaN",
         76.81
        ],
        [
         125,
         206,
         349,
         "20220602",
         "Phoenix",
         "San Francisco",
         "Patricia Garcia",
         "Matthew Phillips",
         79.9
        ],
        [
         146,
         200,
         300,
         "20240105",
         "New York",
         "Miami",
         "John Smith",
         "Alice Lee",
         54.32
        ],
        [
         147,
         201,
         301,
         "20240117",
         "Los Angeles",
         "Seattle",
         "Emily Johnson",
         "Tom Clark",
         62.75
        ],
        [
         148,
         202,
         302,
         "20240210",
         "San Francisco",
         "Denver",
         "Michael Williams",
         "Lucy Lewis",
         47.89
        ],
        [
         149,
         203,
         303,
         "20240323",
         "Miami",
         "Boston",
         "Jessica Brown",
         "Sophia Walker",
         72.15
        ],
        [
         150,
         204,
         304,
         "20240405",
         "Atlanta",
         "Chicago",
         "David Jones",
         "Henry Hall",
         38.27
        ],
        [
         151,
         205,
         305,
         "20240512",
         "Seattle",
         "Phoenix",
         "Chris Davis",
         "Liam Allen",
         53.64
        ],
        [
         152,
         206,
         306,
         "20240414",
         "Phoenix",
         "New York",
         "Patricia Garcia",
         "Oliver Young",
         81.52
        ],
        [
         153,
         209,
         311,
         "20240325",
         "Denver",
         "Los Angeles",
         "Robert Miller",
         "Mason King",
         69.47
        ],
        [
         154,
         212,
         320,
         "20240303",
         "Houston",
         "San Francisco",
         "Mary Martinez",
         "Ethan Scott",
         44.19
        ],
        [
         155,
         216,
         321,
         "20240221",
         "Chicago",
         "Miami",
         "James Hernandez",
         "Aiden Green",
         57.88
        ],
        [
         156,
         217,
         322,
         "20241011",
         "Boston",
         "Atlanta",
         "Daniel Lopez",
         "Logan Baker",
         49.63
        ],
        [
         157,
         222,
         328,
         "20240105",
         "Las Vegas",
         "Houston",
         "Sarah Wilson",
         "Lucas Adams",
         61.74
        ],
        [
         158,
         225,
         330,
         "20240218",
         "New York",
         "Denver",
         "Mark Anderson",
         "Benjamin Nelson",
         73.25
        ],
        [
         159,
         230,
         334,
         "20240128",
         "Los Angeles",
         "Seattle",
         "Paul Taylor",
         "Noah Carter",
         59.36
        ],
        [
         160,
         235,
         336,
         "20240315",
         "Miami",
         "New York",
         "Jennifer Moore",
         "Elijah Mitchell",
         85.14
        ],
        [
         161,
         238,
         341,
         "20240509",
         "Denver",
         "San Francisco",
         "Andrew Jackson",
         "Alexander Perez",
         46.97
        ],
        [
         162,
         240,
         346,
         "20240530",
         "Chicago",
         "Phoenix",
         "Samantha Thomas",
         "William Roberts",
         50.45
        ],
        [
         163,
         246,
         347,
         "20240414",
         "Houston",
         "Atlanta",
         "Linda White",
         "Sebastian Turner",
         64.29
        ],
        [
         164,
         200,
         349,
         "20240223",
         "Seattle",
         "Boston",
         "John Smith",
         "Matthew Phillips",
         52.37
        ],
        [
         165,
         201,
         350,
         "20240607",
         "Phoenix",
         "Los Angeles",
         "Emily Johnson",
         "Daniel Campbell",
         78.56
        ],
        [
         126,
         211,
         347,
         "20230821",
         "Denver",
         "Houston",
         "NaN",
         "Sebastian Turner",
         94.17
        ],
        [
         127,
         241,
         346,
         "20230509",
         "Houston",
         "Las Vegas",
         "NaN",
         "William Roberts",
         63.65
        ],
        [
         128,
         201,
         339,
         "20231116",
         "Boston",
         "Houston",
         "Emily Johnson",
         "NaN",
         84.22
        ],
        [
         129,
         250,
         306,
         "20230814",
         "San Francisco",
         "Seattle",
         "NaN",
         "Oliver Young",
         25
        ],
        [
         130,
         244,
         341,
         "20230816",
         "Houston",
         "LA",
         "NaN",
         "Alexander Perez",
         31.93
        ],
        [
         131,
         218,
         329,
         "20231014",
         "Denver",
         "Boston",
         "NaN",
         "NaN",
         20.21
        ],
        [
         132,
         204,
         307,
         "20230828",
         "Seattle",
         "Atlanta",
         "David Jones",
         "NaN",
         75.33
        ],
        [
         133,
         201,
         332,
         "20230717",
         "New York",
         "Phoenix",
         "Emily Johnson",
         "NaN",
         79.63
        ],
        [
         134,
         215,
         339,
         "20230219",
         "Houston",
         "Atlanta",
         "NaN",
         "NaN",
         62.84
        ],
        [
         135,
         218,
         313,
         "20230406",
         "Phoenix",
         "Atlanta",
         "NaN",
         "Jacob Wright",
         83.85
        ],
        [
         136,
         234,
         302,
         "20230404",
         "Boston",
         "San Francisco",
         "NaN",
         "Lucy Lewis",
         75.09
        ],
        [
         137,
         211,
         324,
         "20231016",
         "Seattle",
         "Atlanta",
         "NaN",
         "NaN",
         79.96
        ],
        [
         138,
         223,
         328,
         "20230316",
         "San Francisco",
         "Seattle",
         "NaN",
         "Lucas Adams",
         32.46
        ],
        [
         139,
         203,
         317,
         "20230217",
         "Miami",
         "Houston",
         "Jessica Brown",
         "NaN",
         28.26
        ],
        [
         140,
         211,
         339,
         "20231202",
         "Las Vegas",
         "Miami",
         "NaN",
         "NaN",
         55.86
        ],
        [
         141,
         215,
         334,
         "20230629",
         "New York",
         "Boston",
         "NaN",
         "Noah Carter",
         73.08
        ],
        [
         142,
         213,
         329,
         "20230301",
         "LA",
         "Phoenix",
         "NaN",
         "NaN",
         94.77
        ],
        [
         143,
         220,
         338,
         "20231226",
         "Las Vegas",
         "Miami",
         "NaN",
         "NaN",
         77.39
        ],
        [
         144,
         246,
         318,
         "20230501",
         "Boston",
         "Seattle",
         "Linda White",
         "NaN",
         21.5
        ],
        [
         145,
         203,
         326,
         "20231112",
         "Seattle",
         "LA",
         "Jessica Brown",
         "NaN",
         58.86
        ]
       ],
       "datasetInfos": [],
       "dbfsResultPath": null,
       "isJsonSchema": true,
       "metadata": {},
       "overflow": false,
       "plotOptions": {
        "customPlotOptions": {},
        "displayType": "table",
        "pivotAggregation": null,
        "pivotColumns": null,
        "xColumns": null,
        "yColumns": null
       },
       "removedWidgets": [],
       "schema": [
        {
         "metadata": "{}",
         "name": "tripId",
         "type": "\"integer\""
        },
        {
         "metadata": "{}",
         "name": "driverId",
         "type": "\"integer\""
        },
        {
         "metadata": "{}",
         "name": "customerId",
         "type": "\"integer\""
        },
        {
         "metadata": "{}",
         "name": "tripDate",
         "type": "\"string\""
        },
        {
         "metadata": "{}",
         "name": "startLocation",
         "type": "\"string\""
        },
        {
         "metadata": "{}",
         "name": "endLocation",
         "type": "\"string\""
        },
        {
         "metadata": "{}",
         "name": "driverName",
         "type": "\"string\""
        },
        {
         "metadata": "{}",
         "name": "customerName",
         "type": "\"string\""
        },
        {
         "metadata": "{}",
         "name": "tripAmount",
         "type": "\"float\""
        }
       ],
       "type": "table"
      }
     },
     "output_type": "display_data"
    }
   ],
   "source": [
    "from pyspark.sql.types import *\n",
    "from pyspark.sql.functions import *\n",
    "\n",
    "tripSchema = StructType([\n",
    "     StructField(\"tripId\", IntegerType()),\n",
    "     StructField(\"driverId\", IntegerType()),\n",
    "     StructField(\"customerId\", IntegerType()),\n",
    "     StructField(\"tripDate\", StringType()),\n",
    "     StructField(\"startLocation\", StringType()),\n",
    "     StructField(\"endLocation\", StringType()),\n",
    "     StructField(\"driverName\", StringType()),\n",
    "     StructField(\"customerName\", StringType()),\n",
    "     StructField(\"tripAmount\", FloatType())\n",
    " ])\n",
    "\n",
    "df = spark.read.load('/data/*.csv', format='csv', header=True, schema=tripSchema)\n",
    "display(df.limit(100))"
   ]
  },
  {
   "cell_type": "code",
   "execution_count": null,
   "metadata": {
    "application/vnd.databricks.v1+cell": {
     "cellMetadata": {
      "byteLimit": 2048000,
      "rowLimit": 10000
     },
     "inputWidgets": {},
     "nuid": "51564386-0b13-4c01-8344-f9546c1a53dc",
     "showTitle": false,
     "title": ""
    }
   },
   "outputs": [
    {
     "name": "stdout",
     "output_type": "stream",
     "text": [
      "root\n",
      " |-- tripId: integer (nullable = true)\n",
      " |-- driverId: integer (nullable = true)\n",
      " |-- customerId: integer (nullable = true)\n",
      " |-- tripDate: string (nullable = true)\n",
      " |-- startLocation: string (nullable = true)\n",
      " |-- endLocation: string (nullable = true)\n",
      " |-- driverName: string (nullable = true)\n",
      " |-- customerName: string (nullable = true)\n",
      " |-- tripAmount: float (nullable = true)\n",
      "\n"
     ]
    }
   ],
   "source": [
    "df.printSchema()"
   ]
  },
  {
   "cell_type": "code",
   "execution_count": null,
   "metadata": {
    "application/vnd.databricks.v1+cell": {
     "cellMetadata": {
      "byteLimit": 2048000,
      "rowLimit": 10000
     },
     "inputWidgets": {},
     "nuid": "1fb0e17e-97e2-481e-932d-081dd0bd97a7",
     "showTitle": false,
     "title": ""
    }
   },
   "outputs": [
    {
     "name": "stdout",
     "output_type": "stream",
     "text": [
      "66\n"
     ]
    },
    {
     "data": {
      "text/html": [
       "<style scoped>\n",
       "  .table-result-container {\n",
       "    max-height: 300px;\n",
       "    overflow: auto;\n",
       "  }\n",
       "  table, th, td {\n",
       "    border: 1px solid black;\n",
       "    border-collapse: collapse;\n",
       "  }\n",
       "  th, td {\n",
       "    padding: 5px;\n",
       "  }\n",
       "  th {\n",
       "    text-align: left;\n",
       "  }\n",
       "</style><div class='table-result-container'><table class='table-result'><thead style='background-color: white'><tr><th>startLocation</th><th>tripDate</th><th>tripAmount</th></tr></thead><tbody><tr><td>Phoenix</td><td>20220704</td><td>49.98</td></tr><tr><td>Las Vegas</td><td>20220730</td><td>81.86</td></tr><tr><td>San Francisco</td><td>20220520</td><td>94.12</td></tr><tr><td>LA</td><td>20220204</td><td>65.92</td></tr><tr><td>Atlanta</td><td>20221215</td><td>75.53</td></tr><tr><td>LA</td><td>20221112</td><td>77.12</td></tr><tr><td>Boston</td><td>20221215</td><td>36.49</td></tr><tr><td>New York</td><td>20220101</td><td>63.77</td></tr><tr><td>Phoenix</td><td>20220121</td><td>41.69</td></tr><tr><td>Atlanta</td><td>20220301</td><td>51.66</td></tr><tr><td>Atlanta</td><td>20220715</td><td>99.17</td></tr><tr><td>Las Vegas</td><td>20220626</td><td>56.27</td></tr><tr><td>Miami</td><td>20220630</td><td>78.62</td></tr><tr><td>Seattle</td><td>20220831</td><td>79.82</td></tr><tr><td>Phoenix</td><td>20220923</td><td>71.08</td></tr><tr><td>San Francisco</td><td>20221227</td><td>56.12</td></tr><tr><td>Phoenix</td><td>20220102</td><td>48.51</td></tr><tr><td>New York</td><td>20220128</td><td>59.0</td></tr><tr><td>San Francisco</td><td>20220328</td><td>23.51</td></tr><tr><td>Las Vegas</td><td>20220705</td><td>72.14</td></tr><tr><td>Miami</td><td>20220101</td><td>42.67</td></tr><tr><td>Denver</td><td>20220610</td><td>39.27</td></tr><tr><td>Seattle</td><td>20220205</td><td>49.75</td></tr><tr><td>Las Vegas</td><td>20221024</td><td>76.81</td></tr><tr><td>Phoenix</td><td>20220602</td><td>79.9</td></tr><tr><td>Denver</td><td>20220803</td><td>29.79</td></tr><tr><td>Chicago</td><td>20240530</td><td>50.45</td></tr><tr><td>Houston</td><td>20240414</td><td>64.29</td></tr><tr><td>New York</td><td>20240105</td><td>54.32</td></tr><tr><td>Denver</td><td>20240509</td><td>46.97</td></tr><tr><td>Chicago</td><td>20240221</td><td>57.88</td></tr><tr><td>Phoenix</td><td>20240607</td><td>78.56</td></tr><tr><td>Las Vegas</td><td>20240105</td><td>61.74</td></tr><tr><td>Houston</td><td>20240303</td><td>44.19</td></tr><tr><td>New York</td><td>20240218</td><td>73.25</td></tr><tr><td>Miami</td><td>20240315</td><td>85.14</td></tr><tr><td>Seattle</td><td>20240512</td><td>53.64</td></tr><tr><td>San Francisco</td><td>20240210</td><td>47.89</td></tr><tr><td>Denver</td><td>20240325</td><td>69.47</td></tr><tr><td>Atlanta</td><td>20240405</td><td>38.27</td></tr><tr><td>Los Angeles</td><td>20240117</td><td>62.75</td></tr><tr><td>Phoenix</td><td>20240414</td><td>81.52</td></tr><tr><td>Miami</td><td>20240323</td><td>72.15</td></tr><tr><td>Los Angeles</td><td>20240128</td><td>59.36</td></tr><tr><td>Boston</td><td>20241011</td><td>49.63</td></tr><tr><td>Seattle</td><td>20240223</td><td>52.37</td></tr><tr><td>Miami</td><td>20230217</td><td>28.26</td></tr><tr><td>Houston</td><td>20230816</td><td>31.93</td></tr><tr><td>Boston</td><td>20230404</td><td>75.09</td></tr><tr><td>Houston</td><td>20230219</td><td>62.84</td></tr><tr><td>New York</td><td>20230717</td><td>79.63</td></tr><tr><td>Denver</td><td>20231014</td><td>20.21</td></tr><tr><td>New York</td><td>20230629</td><td>73.08</td></tr><tr><td>Phoenix</td><td>20230406</td><td>83.85</td></tr><tr><td>Denver</td><td>20230821</td><td>94.17</td></tr><tr><td>San Francisco</td><td>20230814</td><td>25.0</td></tr><tr><td>Las Vegas</td><td>20231202</td><td>55.86</td></tr><tr><td>LA</td><td>20230301</td><td>94.77</td></tr><tr><td>San Francisco</td><td>20230316</td><td>32.46</td></tr><tr><td>Boston</td><td>20231116</td><td>84.22</td></tr><tr><td>Seattle</td><td>20231016</td><td>79.96</td></tr><tr><td>Seattle</td><td>20231112</td><td>58.86</td></tr><tr><td>Houston</td><td>20230509</td><td>63.65</td></tr><tr><td>Boston</td><td>20230501</td><td>21.5</td></tr><tr><td>Seattle</td><td>20230828</td><td>75.33</td></tr><tr><td>Las Vegas</td><td>20231226</td><td>77.39</td></tr></tbody></table></div>"
      ]
     },
     "metadata": {
      "application/vnd.databricks.v1+output": {
       "addedWidgets": {},
       "aggData": [],
       "aggError": "",
       "aggOverflow": false,
       "aggSchema": [],
       "aggSeriesLimitReached": false,
       "aggType": "",
       "arguments": {},
       "columnCustomDisplayInfos": {},
       "data": [
        [
         "Phoenix",
         "20220704",
         49.98
        ],
        [
         "Las Vegas",
         "20220730",
         81.86
        ],
        [
         "San Francisco",
         "20220520",
         94.12
        ],
        [
         "LA",
         "20220204",
         65.92
        ],
        [
         "Atlanta",
         "20221215",
         75.53
        ],
        [
         "LA",
         "20221112",
         77.12
        ],
        [
         "Boston",
         "20221215",
         36.49
        ],
        [
         "New York",
         "20220101",
         63.77
        ],
        [
         "Phoenix",
         "20220121",
         41.69
        ],
        [
         "Atlanta",
         "20220301",
         51.66
        ],
        [
         "Atlanta",
         "20220715",
         99.17
        ],
        [
         "Las Vegas",
         "20220626",
         56.27
        ],
        [
         "Miami",
         "20220630",
         78.62
        ],
        [
         "Seattle",
         "20220831",
         79.82
        ],
        [
         "Phoenix",
         "20220923",
         71.08
        ],
        [
         "San Francisco",
         "20221227",
         56.12
        ],
        [
         "Phoenix",
         "20220102",
         48.51
        ],
        [
         "New York",
         "20220128",
         59
        ],
        [
         "San Francisco",
         "20220328",
         23.51
        ],
        [
         "Las Vegas",
         "20220705",
         72.14
        ],
        [
         "Miami",
         "20220101",
         42.67
        ],
        [
         "Denver",
         "20220610",
         39.27
        ],
        [
         "Seattle",
         "20220205",
         49.75
        ],
        [
         "Las Vegas",
         "20221024",
         76.81
        ],
        [
         "Phoenix",
         "20220602",
         79.9
        ],
        [
         "Denver",
         "20220803",
         29.79
        ],
        [
         "Chicago",
         "20240530",
         50.45
        ],
        [
         "Houston",
         "20240414",
         64.29
        ],
        [
         "New York",
         "20240105",
         54.32
        ],
        [
         "Denver",
         "20240509",
         46.97
        ],
        [
         "Chicago",
         "20240221",
         57.88
        ],
        [
         "Phoenix",
         "20240607",
         78.56
        ],
        [
         "Las Vegas",
         "20240105",
         61.74
        ],
        [
         "Houston",
         "20240303",
         44.19
        ],
        [
         "New York",
         "20240218",
         73.25
        ],
        [
         "Miami",
         "20240315",
         85.14
        ],
        [
         "Seattle",
         "20240512",
         53.64
        ],
        [
         "San Francisco",
         "20240210",
         47.89
        ],
        [
         "Denver",
         "20240325",
         69.47
        ],
        [
         "Atlanta",
         "20240405",
         38.27
        ],
        [
         "Los Angeles",
         "20240117",
         62.75
        ],
        [
         "Phoenix",
         "20240414",
         81.52
        ],
        [
         "Miami",
         "20240323",
         72.15
        ],
        [
         "Los Angeles",
         "20240128",
         59.36
        ],
        [
         "Boston",
         "20241011",
         49.63
        ],
        [
         "Seattle",
         "20240223",
         52.37
        ],
        [
         "Miami",
         "20230217",
         28.26
        ],
        [
         "Houston",
         "20230816",
         31.93
        ],
        [
         "Boston",
         "20230404",
         75.09
        ],
        [
         "Houston",
         "20230219",
         62.84
        ],
        [
         "New York",
         "20230717",
         79.63
        ],
        [
         "Denver",
         "20231014",
         20.21
        ],
        [
         "New York",
         "20230629",
         73.08
        ],
        [
         "Phoenix",
         "20230406",
         83.85
        ],
        [
         "Denver",
         "20230821",
         94.17
        ],
        [
         "San Francisco",
         "20230814",
         25
        ],
        [
         "Las Vegas",
         "20231202",
         55.86
        ],
        [
         "LA",
         "20230301",
         94.77
        ],
        [
         "San Francisco",
         "20230316",
         32.46
        ],
        [
         "Boston",
         "20231116",
         84.22
        ],
        [
         "Seattle",
         "20231016",
         79.96
        ],
        [
         "Seattle",
         "20231112",
         58.86
        ],
        [
         "Houston",
         "20230509",
         63.65
        ],
        [
         "Boston",
         "20230501",
         21.5
        ],
        [
         "Seattle",
         "20230828",
         75.33
        ],
        [
         "Las Vegas",
         "20231226",
         77.39
        ]
       ],
       "datasetInfos": [],
       "dbfsResultPath": null,
       "isJsonSchema": true,
       "metadata": {},
       "overflow": false,
       "plotOptions": {
        "customPlotOptions": {},
        "displayType": "table",
        "pivotAggregation": null,
        "pivotColumns": null,
        "xColumns": null,
        "yColumns": null
       },
       "removedWidgets": [],
       "schema": [
        {
         "metadata": "{}",
         "name": "startLocation",
         "type": "\"string\""
        },
        {
         "metadata": "{}",
         "name": "tripDate",
         "type": "\"string\""
        },
        {
         "metadata": "{}",
         "name": "tripAmount",
         "type": "\"float\""
        }
       ],
       "type": "table"
      }
     },
     "output_type": "display_data"
    }
   ],
   "source": [
    "trips = df['startLocation', 'tripDate', 'tripAmount']\n",
    "print(trips.count())\n",
    "display(trips.distinct())"
   ]
  },
  {
   "cell_type": "code",
   "execution_count": null,
   "metadata": {
    "application/vnd.databricks.v1+cell": {
     "cellMetadata": {
      "byteLimit": 2048000,
      "rowLimit": 10000
     },
     "inputWidgets": {},
     "nuid": "1a3447f4-5cf0-4b5a-84db-b9c261a1e336",
     "showTitle": false,
     "title": ""
    }
   },
   "outputs": [
    {
     "name": "stdout",
     "output_type": "stream",
     "text": [
      "5\n",
      "5\n"
     ]
    },
    {
     "data": {
      "text/html": [
       "<style scoped>\n",
       "  .table-result-container {\n",
       "    max-height: 300px;\n",
       "    overflow: auto;\n",
       "  }\n",
       "  table, th, td {\n",
       "    border: 1px solid black;\n",
       "    border-collapse: collapse;\n",
       "  }\n",
       "  th, td {\n",
       "    padding: 5px;\n",
       "  }\n",
       "  th {\n",
       "    text-align: left;\n",
       "  }\n",
       "</style><div class='table-result-container'><table class='table-result'><thead style='background-color: white'><tr><th>startLocation</th><th>tripDate</th><th>tripAmount</th></tr></thead><tbody><tr><td>Los Angeles</td><td>20240117</td><td>62.75</td></tr><tr><td>Los Angeles</td><td>20240128</td><td>59.36</td></tr><tr><td>San Francisco</td><td>20230814</td><td>25.0</td></tr><tr><td>San Francisco</td><td>20230316</td><td>32.46</td></tr><tr><td>Boston</td><td>20230501</td><td>21.5</td></tr></tbody></table></div>"
      ]
     },
     "metadata": {
      "application/vnd.databricks.v1+output": {
       "addedWidgets": {},
       "aggData": [],
       "aggError": "",
       "aggOverflow": false,
       "aggSchema": [],
       "aggSeriesLimitReached": false,
       "aggType": "",
       "arguments": {},
       "columnCustomDisplayInfos": {},
       "data": [
        [
         "Los Angeles",
         "20240117",
         62.75
        ],
        [
         "Los Angeles",
         "20240128",
         59.36
        ],
        [
         "San Francisco",
         "20230814",
         25
        ],
        [
         "San Francisco",
         "20230316",
         32.46
        ],
        [
         "Boston",
         "20230501",
         21.5
        ]
       ],
       "datasetInfos": [],
       "dbfsResultPath": null,
       "isJsonSchema": true,
       "metadata": {},
       "overflow": false,
       "plotOptions": {
        "customPlotOptions": {},
        "displayType": "table",
        "pivotAggregation": null,
        "pivotColumns": null,
        "xColumns": null,
        "yColumns": null
       },
       "removedWidgets": [],
       "schema": [
        {
         "metadata": "{}",
         "name": "startLocation",
         "type": "\"string\""
        },
        {
         "metadata": "{}",
         "name": "tripDate",
         "type": "\"string\""
        },
        {
         "metadata": "{}",
         "name": "tripAmount",
         "type": "\"float\""
        }
       ],
       "type": "table"
      }
     },
     "output_type": "display_data"
    }
   ],
   "source": [
    "trips = df.select('startLocation', 'tripDate', 'tripAmount').where(df['endLocation']=='Seattle')\n",
    "print(trips.count())\n",
    "print(trips.distinct().count())\n",
    "display(trips.distinct())"
   ]
  },
  {
   "cell_type": "code",
   "execution_count": null,
   "metadata": {
    "application/vnd.databricks.v1+cell": {
     "cellMetadata": {
      "byteLimit": 2048000,
      "rowLimit": 10000
     },
     "inputWidgets": {},
     "nuid": "80910ad7-1814-4d8b-a430-402f6bfcf76e",
     "showTitle": false,
     "title": ""
    }
   },
   "outputs": [
    {
     "data": {
      "text/html": [
       "<style scoped>\n",
       "  .table-result-container {\n",
       "    max-height: 300px;\n",
       "    overflow: auto;\n",
       "  }\n",
       "  table, th, td {\n",
       "    border: 1px solid black;\n",
       "    border-collapse: collapse;\n",
       "  }\n",
       "  th, td {\n",
       "    padding: 5px;\n",
       "  }\n",
       "  th {\n",
       "    text-align: left;\n",
       "  }\n",
       "</style><div class='table-result-container'><table class='table-result'><thead style='background-color: white'><tr><th>startLocation</th><th>sum(tripAmount)</th></tr></thead><tbody><tr><td>Phoenix</td><td>535.0899925231934</td></tr><tr><td>LA</td><td>237.80999755859375</td></tr><tr><td>San Francisco</td><td>279.1000003814697</td></tr><tr><td>Atlanta</td><td>264.62999725341797</td></tr><tr><td>Las Vegas</td><td>482.0699996948242</td></tr><tr><td>Seattle</td><td>449.7299995422363</td></tr><tr><td>Miami</td><td>306.8400020599365</td></tr><tr><td>New York</td><td>403.04999923706055</td></tr><tr><td>Denver</td><td>299.88000106811523</td></tr><tr><td>Boston</td><td>266.9300003051758</td></tr><tr><td>Los Angeles</td><td>122.11000061035156</td></tr><tr><td>Chicago</td><td>108.33000183105469</td></tr><tr><td>Houston</td><td>266.9000015258789</td></tr></tbody></table></div>"
      ]
     },
     "metadata": {
      "application/vnd.databricks.v1+output": {
       "addedWidgets": {},
       "aggData": [],
       "aggError": "",
       "aggOverflow": false,
       "aggSchema": [],
       "aggSeriesLimitReached": false,
       "aggType": "",
       "arguments": {},
       "columnCustomDisplayInfos": {},
       "data": [
        [
         "Phoenix",
         535.0899925231934
        ],
        [
         "LA",
         237.80999755859375
        ],
        [
         "San Francisco",
         279.1000003814697
        ],
        [
         "Atlanta",
         264.62999725341797
        ],
        [
         "Las Vegas",
         482.0699996948242
        ],
        [
         "Seattle",
         449.7299995422363
        ],
        [
         "Miami",
         306.8400020599365
        ],
        [
         "New York",
         403.04999923706055
        ],
        [
         "Denver",
         299.88000106811523
        ],
        [
         "Boston",
         266.9300003051758
        ],
        [
         "Los Angeles",
         122.11000061035156
        ],
        [
         "Chicago",
         108.33000183105469
        ],
        [
         "Houston",
         266.9000015258789
        ]
       ],
       "datasetInfos": [],
       "dbfsResultPath": null,
       "isJsonSchema": true,
       "metadata": {},
       "overflow": false,
       "plotOptions": {
        "customPlotOptions": {},
        "displayType": "table",
        "pivotAggregation": null,
        "pivotColumns": null,
        "xColumns": null,
        "yColumns": null
       },
       "removedWidgets": [],
       "schema": [
        {
         "metadata": "{}",
         "name": "startLocation",
         "type": "\"string\""
        },
        {
         "metadata": "{}",
         "name": "sum(tripAmount)",
         "type": "\"double\""
        }
       ],
       "type": "table"
      }
     },
     "output_type": "display_data"
    }
   ],
   "source": [
    "tripamounts = df.select(\"startLocation\", \"tripAmount\").groupBy(\"startLocation\").sum()\n",
    "display(tripamounts)"
   ]
  }
 ],
 "metadata": {
  "application/vnd.databricks.v1+notebook": {
   "dashboards": [],
   "environmentMetadata": null,
   "language": "python",
   "notebookMetadata": {
    "mostRecentlyExecutedCommandWithImplicitDF": {
     "commandId": 1170965919149416,
     "dataframes": [
      "_sqldf"
     ]
    },
    "pythonIndentUnit": 4
   },
   "notebookName": "Untitled Notebook 2024-06-03 22:23:12",
   "widgets": {}
  },
  "language_info": {
   "name": "python"
  }
 },
 "nbformat": 4,
 "nbformat_minor": 0
}
